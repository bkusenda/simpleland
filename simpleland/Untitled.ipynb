{
 "cells": [
  {
   "cell_type": "code",
   "execution_count": 5,
   "metadata": {},
   "outputs": [
    {
     "name": "stdout",
     "output_type": "stream",
     "text": [
      "m87\r\n"
     ]
    }
   ],
   "source": [
    "!hostname"
   ]
  },
  {
   "cell_type": "code",
   "execution_count": 21,
   "metadata": {},
   "outputs": [
    {
     "name": "stdout",
     "output_type": "stream",
     "text": [
      "The autoreload extension is already loaded. To reload it, use:\n",
      "  %reload_ext autoreload\n"
     ]
    }
   ],
   "source": [
    "import sys\n",
    "sys.path.append(\"../\")\n",
    "%load_ext autoreload\n",
    "%autoreload 2\n",
    "%matplotlib inline"
   ]
  },
  {
   "cell_type": "code",
   "execution_count": 1,
   "metadata": {},
   "outputs": [
    {
     "name": "stdout",
     "output_type": "stream",
     "text": [
      "Loading chipmunk for Linux (64bit) [/home/brandyn/anaconda3/envs/rlevo/lib/python3.7/site-packages/pymunk/libchipmunk.so]\n",
      "pygame 1.9.6\n",
      "Hello from the pygame community. https://www.pygame.org/contribute.html\n"
     ]
    }
   ],
   "source": [
    "import logging\n",
    "from typing import Tuple\n",
    "\n",
    "import numpy as np\n",
    "\n",
    "from simpleland.common import (SLBody, SLObject, SLVector, SLShape)\n",
    "from simpleland.core import SLPhysicsEngine\n",
    "from simpleland.game import SLGame\n",
    "from simpleland.itemfactory import SLItemFactory, SLShapeFactory\n",
    "from simpleland.player import SLAgentPlayer, SLHumanPlayer, SLPlayer\n",
    "from simpleland.renderer import SLRenderer\n",
    "\n",
    "from pymunk import Vec2d\n",
    "import pymunk\n",
    "\n",
    "import os"
   ]
  },
  {
   "cell_type": "code",
   "execution_count": 2,
   "metadata": {},
   "outputs": [
    {
     "ename": "ImportError",
     "evalue": "cannot import name 'SLCamera' from 'simpleland.common' (/home/brandyn/Dev/workspace_playground/rlevo/simpleland/common.py)",
     "output_type": "error",
     "traceback": [
      "\u001b[0;31m---------------------------------------------------------------------------\u001b[0m",
      "\u001b[0;31mImportError\u001b[0m                               Traceback (most recent call last)",
      "\u001b[0;32m<ipython-input-2-a532742b1dbb>\u001b[0m in \u001b[0;36m<module>\u001b[0;34m\u001b[0m\n\u001b[0;32m----> 1\u001b[0;31m \u001b[0;32mfrom\u001b[0m \u001b[0msimpleland\u001b[0m\u001b[0;34m.\u001b[0m\u001b[0mcommon\u001b[0m \u001b[0;32mimport\u001b[0m \u001b[0mSLCamera\u001b[0m\u001b[0;34m\u001b[0m\u001b[0;34m\u001b[0m\u001b[0m\n\u001b[0m",
      "\u001b[0;31mImportError\u001b[0m: cannot import name 'SLCamera' from 'simpleland.common' (/home/brandyn/Dev/workspace_playground/rlevo/simpleland/common.py)"
     ]
    }
   ],
   "source": [
    "from simpleland.common import SLCamera"
   ]
  },
  {
   "cell_type": "code",
   "execution_count": 3,
   "metadata": {},
   "outputs": [],
   "source": [
    "# Create Player\n",
    "os.environ['SDL_AUDIODRIVER'] = 'dsp'\n",
    "# os.environ[\"SDL_VIDEODRIVER\"] = \"dummy\"\n",
    "\n",
    "# Create Player\n",
    "player_object = SLObject(SLBody(mass=8, moment=30))\n",
    "player_object.set_position(SLVector(10, 10))\n",
    "SLShapeFactory.attach_psquare(player_object, 1)\n",
    "\n",
    "player = SLHumanPlayer()\n",
    "player.attach_object(player_object)\n",
    "\n",
    "# Create Game\n",
    "game = SLGame()\n",
    "\n",
    "    # Create Wall\n",
    "wall = SLItemFactory.border(SLBody(body_type=pymunk.Body.STATIC),\n",
    "                            SLVector(0, 0),\n",
    "                            size=20)\n",
    "\n",
    "# # Create Wall"
   ]
  },
  {
   "cell_type": "code",
   "execution_count": 4,
   "metadata": {},
   "outputs": [
    {
     "data": {
      "text/plain": [
       "{'_SLObject__id': UUID('1e833139-58e7-11ea-8381-185680ffca21'),\n",
       " '_SLObject__viewer': <simpleland.common.SLViewer at 0x7f1d63a0b0d0>,\n",
       " 'behavior_list': [],\n",
       " '_SLObject__body': Body(Body.STATIC),\n",
       " '_SLObject__shapes': [<pymunk.shapes.Segment at 0x7f1d5bc0c5d0>,\n",
       "  <pymunk.shapes.Segment at 0x7f1d5bc0c950>,\n",
       "  <pymunk.shapes.Segment at 0x7f1d5bc0c910>,\n",
       "  <pymunk.shapes.Segment at 0x7f1d5bc0cb10>],\n",
       " '_SLObject__energy': 100,\n",
       " '_SLObject__health': 100,\n",
       " '_SLObject__config': None,\n",
       " '_SLObject__collision_func': None,\n",
       " '_SLObject__update_func': None}"
      ]
     },
     "execution_count": 4,
     "metadata": {},
     "output_type": "execute_result"
    }
   ],
   "source": [
    "wall.snapshot_data()"
   ]
  },
  {
   "cell_type": "code",
   "execution_count": 7,
   "metadata": {},
   "outputs": [
    {
     "name": "stdout",
     "output_type": "stream",
     "text": [
      "class SLObject:\n",
      "    def __init__(self, body=SLBody(),\n",
      "                 config=None,\n",
      "                 collision_func=None,\n",
      "                 update_func=None,\n",
      "                 viewer=SLViewer()):\n",
      "        \"\"\"\n",
      "\n",
      "        \"\"\"\n",
      "        self.__id = gen_id()\n",
      "\n",
      "        self.__viewer = viewer\n",
      "        self.behavior_list: List[Behaviour] = []\n",
      "        self.__body: SLBody = body\n",
      "        self.__shapes: List[SLShape] = []\n",
      "        self.__energy = 100\n",
      "        self.__health = 100\n",
      "        self.__config = config\n",
      "        self.__collision_func = collision_func\n",
      "        self.__update_func = update_func\n",
      "\n",
      "    def set_collision_type(self, collision_type):\n",
      "        for shape in self.__shapes:\n",
      "            shape.collision_type = collision_type\n",
      "\n",
      "    def get_body(self) -> SLBody:\n",
      "        return self.__body\n",
      "\n",
      "    def get_id(self):\n",
      "        return self.__id\n",
      "\n",
      "    def set_position(self, position: SLVector):\n",
      "        self.get_body().position = position\n",
      "\n",
      "    def set_shapes(self, shapes):\n",
      "        self.__shapes = shapes\n",
      "\n",
      "    def get_shapes(self):\n",
      "        return self.__shapes\n",
      "\n",
      "    def get_viewer(self) -> SLViewer:\n",
      "        return self.__viewer\n",
      "\n",
      "    def attach_behavior(self, behaviour: Behaviour):\n",
      "        self.behavior_list.append(behaviour)\n",
      "    \n",
      "    def snapshot_data(self):\n",
      "        data = self.__dict__\n",
      "        return data\n",
      "\n"
     ]
    }
   ],
   "source": [
    "import inspect\n",
    "lines = inspect.getsource(SLObject)\n",
    "print(lines)"
   ]
  },
  {
   "cell_type": "code",
   "execution_count": null,
   "metadata": {},
   "outputs": [],
   "source": []
  }
 ],
 "metadata": {
  "kernelspec": {
   "display_name": "rlevo",
   "language": "python",
   "name": "rlevo"
  },
  "language_info": {
   "codemirror_mode": {
    "name": "ipython",
    "version": 3
   },
   "file_extension": ".py",
   "mimetype": "text/x-python",
   "name": "python",
   "nbconvert_exporter": "python",
   "pygments_lexer": "ipython3",
   "version": "3.7.4"
  }
 },
 "nbformat": 4,
 "nbformat_minor": 2
}
