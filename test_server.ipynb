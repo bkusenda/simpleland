{
 "cells": [
  {
   "cell_type": "code",
   "execution_count": 1,
   "metadata": {},
   "outputs": [
    {
     "data": {
      "text/html": [
       "<style>.container { width:100% !important; }</style>"
      ],
      "text/plain": [
       "<IPython.core.display.HTML object>"
      ]
     },
     "metadata": {},
     "output_type": "display_data"
    }
   ],
   "source": [
    "import sys\n",
    "sys.path.append(\"../\")\n",
    "%load_ext autoreload\n",
    "%autoreload 2\n",
    "%matplotlib inline\n",
    "\n",
    "from IPython.core.display import display, HTML\n",
    "display(HTML(\"<style>.container { width:100% !important; }</style>\"))\n",
    "%config Completer.use_jedi = False"
   ]
  },
  {
   "cell_type": "code",
   "execution_count": 2,
   "metadata": {},
   "outputs": [
    {
     "name": "stdout",
     "output_type": "stream",
     "text": [
      "pygame 2.0.1 (SDL 2.0.14, Python 3.7.6)\n",
      "Hello from the pygame community. https://www.pygame.org/contribute.html\n"
     ]
    }
   ],
   "source": [
    "import simpleland"
   ]
  },
  {
   "cell_type": "code",
   "execution_count": 3,
   "metadata": {},
   "outputs": [],
   "source": [
    "from simpleland import runner"
   ]
  },
  {
   "cell_type": "code",
   "execution_count": 4,
   "metadata": {},
   "outputs": [],
   "source": [
    "from simpleland.common import Base, register_base_cls"
   ]
  },
  {
   "cell_type": "code",
   "execution_count": 5,
   "metadata": {},
   "outputs": [],
   "source": [
    "class Test(Base):\n",
    "    \n",
    "    def __init__(self):\n",
    "        super().__init__()\n",
    "        self.hi = True"
   ]
  },
  {
   "cell_type": "code",
   "execution_count": 6,
   "metadata": {},
   "outputs": [],
   "source": [
    "register_base_cls(Test)"
   ]
  },
  {
   "cell_type": "code",
   "execution_count": 7,
   "metadata": {},
   "outputs": [
    {
     "name": "stdout",
     "output_type": "stream",
     "text": [
      "hi\n"
     ]
    },
    {
     "data": {
      "text/plain": [
       "{'_type': 'Test', 'data': {'hi': True}}"
      ]
     },
     "execution_count": 7,
     "metadata": {},
     "output_type": "execute_result"
    }
   ],
   "source": [
    "t = Test()\n",
    "t.get_snapshot()"
   ]
  },
  {
   "cell_type": "code",
   "execution_count": 8,
   "metadata": {},
   "outputs": [],
   "source": [
    "from simpleland.object import GObject"
   ]
  },
  {
   "cell_type": "code",
   "execution_count": null,
   "metadata": {},
   "outputs": [],
   "source": [
    "\n",
    "        "
   ]
  },
  {
   "cell_type": "code",
   "execution_count": 9,
   "metadata": {},
   "outputs": [],
   "source": [
    "class Testo(GObject):\n",
    "    def __init__(self):\n",
    "        super().__init__()\n",
    "        self.tt = Test()\n",
    "        "
   ]
  },
  {
   "cell_type": "code",
   "execution_count": 10,
   "metadata": {},
   "outputs": [],
   "source": [
    "t0 = Testo()"
   ]
  },
  {
   "cell_type": "code",
   "execution_count": 11,
   "metadata": {},
   "outputs": [
    {
     "data": {
      "text/plain": [
       "__main__.Test"
      ]
     },
     "execution_count": 11,
     "metadata": {},
     "output_type": "execute_result"
    }
   ],
   "source": [
    "type(t0.tt)"
   ]
  },
  {
   "cell_type": "code",
   "execution_count": 12,
   "metadata": {},
   "outputs": [
    {
     "data": {
      "text/plain": [
       "True"
      ]
     },
     "execution_count": 12,
     "metadata": {},
     "output_type": "execute_result"
    }
   ],
   "source": [
    "issubclass(type(t0.tt),Base)"
   ]
  },
  {
   "cell_type": "code",
   "execution_count": 14,
   "metadata": {},
   "outputs": [],
   "source": [
    "t1 = Testo()"
   ]
  },
  {
   "cell_type": "code",
   "execution_count": 17,
   "metadata": {},
   "outputs": [
    {
     "name": "stdout",
     "output_type": "stream",
     "text": [
      "id\n",
      "position\n",
      "angle\n",
      "config_id\n",
      "created_tick\n",
      "player_id\n",
      "shape_group\n",
      "shape_group\n",
      "data\n",
      "last_change\n",
      "is_deleted\n",
      "enabled\n",
      "depth\n",
      "visible\n",
      "image_width\n",
      "image_height\n",
      "shape_color\n",
      "_update_position_callback\n",
      "Skipping snapshotting of:_update_position_callback with value <function GObject.__init__.<locals>.<lambda> at 0x7ff311b88290>\n",
      "image_id_default\n",
      "rotate_sprites\n",
      "image_offset\n",
      "child_object_ids\n",
      "Skipping snapshotting of:child_object_ids with value set()\n",
      "tt\n",
      "Skipping snapshotting of:tt with value <__main__.Test object at 0x7ff311b93610>\n"
     ]
    }
   ],
   "source": [
    "t1.load_snapshot(t0.get_snapshot())"
   ]
  },
  {
   "cell_type": "code",
   "execution_count": 16,
   "metadata": {},
   "outputs": [
    {
     "data": {
      "text/plain": [
       "<__main__.Test at 0x7ff311b8b250>"
      ]
     },
     "execution_count": 16,
     "metadata": {},
     "output_type": "execute_result"
    }
   ],
   "source": [
    "t1.tt"
   ]
  },
  {
   "cell_type": "code",
   "execution_count": 13,
   "metadata": {},
   "outputs": [
    {
     "name": "stdout",
     "output_type": "stream",
     "text": [
      "id\n",
      "position\n",
      "angle\n",
      "config_id\n",
      "created_tick\n",
      "player_id\n",
      "shape_group\n",
      "shape_group\n",
      "data\n",
      "last_change\n",
      "is_deleted\n",
      "enabled\n",
      "depth\n",
      "visible\n",
      "image_width\n",
      "image_height\n",
      "shape_color\n",
      "_update_position_callback\n",
      "Skipping snapshotting of:_update_position_callback with value <function GObject.__init__.<locals>.<lambda> at 0x7ff311b88290>\n",
      "image_id_default\n",
      "rotate_sprites\n",
      "image_offset\n",
      "child_object_ids\n",
      "Skipping snapshotting of:child_object_ids with value set()\n",
      "tt\n",
      "tt\n",
      "hi\n"
     ]
    },
    {
     "data": {
      "text/plain": [
       "{'_type': 'Testo',\n",
       " 'data': {'id': 1,\n",
       "  'position': None,\n",
       "  'angle': 0,\n",
       "  'config_id': None,\n",
       "  'created_tick': 0,\n",
       "  'player_id': None,\n",
       "  'shape_group': {'data': {}},\n",
       "  'data': {},\n",
       "  'last_change': None,\n",
       "  'is_deleted': False,\n",
       "  'enabled': True,\n",
       "  'depth': 2,\n",
       "  'visible': True,\n",
       "  'image_width': 80,\n",
       "  'image_height': 80,\n",
       "  'shape_color': None,\n",
       "  'image_id_default': None,\n",
       "  'rotate_sprites': False,\n",
       "  'image_offset': <Vector2(0, 0)>,\n",
       "  'tt': {'_type': 'Test', 'data': {'hi': True}}}}"
      ]
     },
     "execution_count": 13,
     "metadata": {},
     "output_type": "execute_result"
    }
   ],
   "source": [
    "t0.get_snapshot()"
   ]
  },
  {
   "cell_type": "code",
   "execution_count": null,
   "metadata": {},
   "outputs": [],
   "source": []
  },
  {
   "cell_type": "code",
   "execution_count": 4,
   "metadata": {},
   "outputs": [],
   "source": [
    "from simpleland.runner import get_game_def, get_player_def\n",
    "import threading\n",
    "\n",
    "import argparse\n",
    "import json\n",
    "import logging\n",
    "import math\n",
    "import socketserver\n",
    "import struct\n",
    "import threading\n",
    "import lz4.frame\n",
    "from pyinstrument import Profiler\n",
    "from simpleland.client import GameClient\n",
    "\n",
    "from simpleland.config import GameDef, PlayerDefinition, ServerConfig\n",
    "from simpleland.content import Content\n",
    "from simpleland.common import StateDecoder, StateEncoder\n",
    "\n",
    "\n",
    "from simpleland.registry import load_game_content, load_game_def\n",
    "from simpleland.renderer import Renderer\n",
    "from simpleland.utils import gen_id\n",
    "import traceback\n",
    "from simpleland import gamectx\n",
    "from simpleland.server import GameUDPServer, UDPHandler "
   ]
  },
  {
   "cell_type": "code",
   "execution_count": 5,
   "metadata": {},
   "outputs": [],
   "source": [
    "rawargs = \"--game_id=survival_grid --tick_rate=60 --disable_sound --tile_size=16 --enable_server --enable_client\".split(\" \")"
   ]
  },
  {
   "cell_type": "code",
   "execution_count": 6,
   "metadata": {},
   "outputs": [],
   "source": [
    "args = runner.get_arguments(rawargs)"
   ]
  },
  {
   "cell_type": "code",
   "execution_count": 7,
   "metadata": {},
   "outputs": [
    {
     "name": "stdout",
     "output_type": "stream",
     "text": [
      "Loading Static Layers\n",
      "Loading Current sector (0, 0)\n",
      "Loading sector (0, 1)\n",
      "Loading sector (-1, 1)\n",
      "Loading sector (-1, 0)\n",
      "Loading sector (-1, -1)\n",
      "Loading sector (0, -1)\n",
      "Loading sector (1, 0)\n",
      "Loading sector (1, -1)\n",
      "Loading sector (1, 1)\n",
      "Server started at 0.0.0.0 port 10001\n"
     ]
    }
   ],
   "source": [
    "if not args.enable_server and not args.enable_client and not args.remote_client:\n",
    "        args.enable_client = True\n",
    "\n",
    "if args.enable_server and args.enable_client and args.remote_client:\n",
    "    print(\"Error: Server and Remote Client cannot be started from the same process. Please run seperately.\")\n",
    "    exit(1)\n",
    "\n",
    "game_def = get_game_def(\n",
    "    game_id=args.game_id,\n",
    "    enable_server=args.enable_server,\n",
    "    remote_client=args.remote_client,\n",
    "    port=args.port,\n",
    "    tick_rate=args.tick_rate,\n",
    "    content_overrides = json.loads(args.content_overrides)\n",
    ")\n",
    "\n",
    "# Get resolution\n",
    "if args.enable_client and args.resolution == 'f':\n",
    "    import pygame\n",
    "    pygame.init()\n",
    "    infoObject = pygame.display.Info()\n",
    "    resolution = (infoObject.current_w, infoObject.current_h)\n",
    "else:\n",
    "    res_string = args.resolution.split(\"x\")\n",
    "    resolution = (int(res_string[0]), int(res_string[1]))\n",
    "\n",
    "player_def = get_player_def(\n",
    "    enable_client=args.enable_client,\n",
    "    client_id=args.client_id,\n",
    "    remote_client=args.remote_client,\n",
    "    hostname=args.hostname,\n",
    "    port=args.port,\n",
    "    disable_textures=args.disable_textures,\n",
    "    render_shapes=args.render_shapes,\n",
    "    resolution=resolution,\n",
    "    fps=args.fps,\n",
    "    player_type=args.player_type,\n",
    "    tile_size=args.tile_size,\n",
    "    debug_render_bodies = args.debug_render_bodies,\n",
    "    view_type = args.view_type,\n",
    "    sound_enabled= not args.disable_sound\n",
    ")\n",
    "\n",
    "content: Content = load_game_content(game_def)\n",
    "\n",
    "gamectx.initialize(\n",
    "    game_def,\n",
    "    content=content)\n",
    "\n",
    "if player_def.client_config.enabled:\n",
    "    renderer = Renderer(\n",
    "        config = player_def.renderer_config,\n",
    "        asset_bundle=content.get_asset_bundle())\n",
    "\n",
    "    client = GameClient(\n",
    "        renderer=renderer,\n",
    "        config=player_def.client_config)\n",
    "\n",
    "    gamectx.add_local_client(client)\n",
    "\n",
    "server = None\n",
    "import signal\n",
    "import sys\n",
    "def graceful_exit(signum=None, frame=None):\n",
    "    print(\"Shutting down\")\n",
    "    if game_def.server_config.enabled:\n",
    "        # server.shutdown()\n",
    "        server.server_close()\n",
    "\n",
    "    if args.enable_profiler:\n",
    "        profiler.stop()\n",
    "        print(profiler.output_text(unicode=True, color=True))\n",
    "    exit()\n",
    "signal.signal(signal.SIGINT, graceful_exit)\n",
    "\n",
    "try:\n",
    "    if game_def.server_config.enabled:\n",
    "\n",
    "        server = GameUDPServer(\n",
    "            conn=(game_def.server_config.hostname, game_def.server_config.port),\n",
    "            config=game_def.server_config)\n",
    "\n",
    "        server_thread = threading.Thread(target=server.serve_forever)\n",
    "        server_thread.daemon = True\n",
    "        server_thread.start()\n",
    "        print(\"Server started at {} port {}\".format(game_def.server_config.hostname, game_def.server_config.port))\n",
    "except (Exception,KeyboardInterrupt) as e:\n",
    "    print(traceback.format_exc())\n",
    "    print(e)\n"
   ]
  },
  {
   "cell_type": "code",
   "execution_count": 8,
   "metadata": {},
   "outputs": [],
   "source": [
    "done = True\n"
   ]
  },
  {
   "cell_type": "code",
   "execution_count": 15,
   "metadata": {},
   "outputs": [],
   "source": [
    "def dict_compare(d1, d2):\n",
    "    d1_keys = set(d1.keys())\n",
    "    d2_keys = set(d2.keys())\n",
    "    shared_keys = d1_keys.intersection(d2_keys)\n",
    "    added = d1_keys - d2_keys\n",
    "    removed = d2_keys - d1_keys\n",
    "    modified = {o : (d1[o], d2[o]) for o in shared_keys if d1[o] != d2[o]}\n",
    "    same = set(o for o in shared_keys if d1[o] == d2[o])\n",
    "    return added, removed, modified, same\n",
    "\n",
    "x = dict(a=1, b=2)\n",
    "y = dict(a=2, b=2)\n",
    "added, removed, modified, same = dict_compare(x, y)"
   ]
  },
  {
   "cell_type": "code",
   "execution_count": 16,
   "metadata": {},
   "outputs": [],
   "source": [
    "import time"
   ]
  },
  {
   "cell_type": "code",
   "execution_count": 17,
   "metadata": {},
   "outputs": [
    {
     "data": {
      "text/plain": [
       "6.987333297729492"
      ]
     },
     "execution_count": 17,
     "metadata": {},
     "output_type": "execute_result"
    }
   ],
   "source": [
    "# How many milliseconds?\n",
    "start_time = time.time()\n",
    "for i in range(10):\n",
    "    snap=gamectx.object_manager.get_snapshot_full()\n",
    "(time.time()-start_time) * 1000"
   ]
  },
  {
   "cell_type": "code",
   "execution_count": 18,
   "metadata": {},
   "outputs": [],
   "source": [
    "o = gamectx.object_manager.get_objects()[2]"
   ]
  },
  {
   "cell_type": "code",
   "execution_count": 19,
   "metadata": {},
   "outputs": [
    {
     "data": {
      "text/plain": [
       "{'_type': 'Rock',\n",
       " 'data': {'id': 2,\n",
       "  'position': <Vector2(32, 0)>,\n",
       "  'angle': 0,\n",
       "  'config_id': 'perm_stone1',\n",
       "  'created_tick': 0,\n",
       "  'player_id': None,\n",
       "  'shape_group': {'data': {'default': {'_type': 'Polygon',\n",
       "     'data': {'label': 'default',\n",
       "      'object_id': 2,\n",
       "      'vertices': [<Vector2(-8, -8)>,\n",
       "       <Vector2(-8, 8)>,\n",
       "       <Vector2(8, 8)>,\n",
       "       <Vector2(8, -8)>],\n",
       "      'collision_type': 0},\n",
       "     'params': {'vertices': [<Vector2(-8, -8)>,\n",
       "       <Vector2(-8, 8)>,\n",
       "       <Vector2(8, 8)>,\n",
       "       <Vector2(8, -8)>]}}}},\n",
       "  'data': {},\n",
       "  'last_change': 0,\n",
       "  'is_deleted': False,\n",
       "  'enabled': True,\n",
       "  'depth': 1,\n",
       "  'visible': True,\n",
       "  'image_width': 16,\n",
       "  'image_height': 16,\n",
       "  'shape_color': None,\n",
       "  'image_id_default': None,\n",
       "  'rotate_sprites': False,\n",
       "  'image_offset': <Vector2(0, 0)>,\n",
       "  'config': {'collectable': False,\n",
       "   'pushable': True,\n",
       "   'count_max': 1,\n",
       "   'permanent': True,\n",
       "   'health': 100,\n",
       "   'remove_on_destroy': True,\n",
       "   'collision_type': 1,\n",
       "   'count': 1,\n",
       "   'default_action': 'idle'},\n",
       "  'type': 'rock',\n",
       "  '_types': None,\n",
       "  'health': 50,\n",
       "  'permanent': True,\n",
       "  'remove_on_destroy': True,\n",
       "  'pushable': True,\n",
       "  'collision_type': 1,\n",
       "  'height': 1,\n",
       "  'collectable': False,\n",
       "  'count_max': 1,\n",
       "  'count': 1,\n",
       "  'default_action_type': 'idle',\n",
       "  '_action': {'type': 'spawn',\n",
       "   'ticks': 1,\n",
       "   'step_size': 1,\n",
       "   'start_tick': 0,\n",
       "   'blocking': True},\n",
       "  '_effects': {}}}"
      ]
     },
     "execution_count": 19,
     "metadata": {},
     "output_type": "execute_result"
    }
   ],
   "source": [
    "snap[0]"
   ]
  },
  {
   "cell_type": "code",
   "execution_count": 20,
   "metadata": {},
   "outputs": [],
   "source": [
    "from simpleland.common import StateDecoder,StateEncoder"
   ]
  },
  {
   "cell_type": "code",
   "execution_count": 21,
   "metadata": {},
   "outputs": [],
   "source": [
    "d1 = snap[0]"
   ]
  },
  {
   "cell_type": "code",
   "execution_count": 22,
   "metadata": {
    "tags": []
   },
   "outputs": [],
   "source": [
    "results = []\n",
    "for obj_data in snap:\n",
    "    obj = gamectx.new_object_from_dict(obj_data)\n",
    "    obj2_data = obj.get_snapshot()\n",
    "    result=dict_compare(obj_data,obj2_data)\n",
    "    results.append(result)\n",
    "    \n",
    "    break\n",
    "    "
   ]
  },
  {
   "cell_type": "code",
   "execution_count": 23,
   "metadata": {},
   "outputs": [],
   "source": [
    "import pprint"
   ]
  },
  {
   "cell_type": "code",
   "execution_count": 24,
   "metadata": {},
   "outputs": [
    {
     "data": {
      "text/plain": [
       "False"
      ]
     },
     "execution_count": 24,
     "metadata": {},
     "output_type": "execute_result"
    }
   ],
   "source": [
    "pprint.pformat(obj_data,compact=True) == pprint.pformat(obj2_data,compact=True)"
   ]
  },
  {
   "cell_type": "code",
   "execution_count": 27,
   "metadata": {},
   "outputs": [
    {
     "data": {
      "text/plain": [
       "\"{'_type': 'Rock',\\n 'data': {'_action': {'blocking': True,\\n                      'start_tick': 0,\\n                      'step_size': 1,\\n                      'ticks': 1,\\n                      'type': 'spawn'},\\n          '_effects': {},\\n          '_types': None,\\n          'angle': 0,\\n          'collectable': False,\\n          'collision_type': 1,\\n          'config': {'collectable': False,\\n                     'collision_type': 1,\\n                     'count': 1,\\n                     'count_max': 1,\\n                     'default_action': 'idle',\\n                     'health': 100,\\n                     'permanent': True,\\n                     'pushable': True,\\n                     'remove_on_destroy': True},\\n          'config_id': 'perm_stone1',\\n          'count': 1,\\n          'count_max': 1,\\n          'created_tick': 0,\\n          'data': {},\\n          'default_action_type': 'idle',\\n          'depth': 1,\\n          'enabled': True,\\n          'health': 50,\\n          'height': 1,\\n          'id': 2,\\n          'image_height': 16,\\n          'image_id_default': None,\\n          'image_offset': <Vector2(0, 0)>,\\n          'image_width': 16,\\n          'is_deleted': False,\\n          'last_change': 0,\\n          'permanent': True,\\n          'player_id': None,\\n          'position': <Vector2(32, 0)>,\\n          'pushable': True,\\n          'remove_on_destroy': True,\\n          'rotate_sprites': False,\\n          'shape_color': None,\\n          'shape_group': {'data': {'default': {'_type': 'Polygon',\\n                                               'data': {'collision_type': 0,\\n                                                        'label': 'default',\\n                                                        'object_id': 2,\\n                                                        'vertices': [<Vector2(-8, -8)>,\\n                                                                     <Vector2(-8, 8)>,\\n                                                                     <Vector2(8, 8)>,\\n                                                                     <Vector2(8, -8)>]},\\n                                               'params': {'vertices': [<Vector2(-8, -8)>,\\n                                                                       <Vector2(-8, 8)>,\\n                                                                       <Vector2(8, 8)>,\\n                                                                       <Vector2(8, -8)>]}}}},\\n          'type': 'rock',\\n          'visible': True}}\""
      ]
     },
     "execution_count": 27,
     "metadata": {},
     "output_type": "execute_result"
    }
   ],
   "source": [
    "pprint.pformat(obj_data,compact=True)"
   ]
  },
  {
   "cell_type": "code",
   "execution_count": 28,
   "metadata": {},
   "outputs": [
    {
     "data": {
      "text/plain": [
       "\"{'_type': 'Rock',\\n 'data': {'_action': {'blocking': True,\\n                      'start_tick': 0,\\n                      'step_size': 1,\\n                      'ticks': 1,\\n                      'type': 'spawn'},\\n          '_effects': {},\\n          '_types': None,\\n          'angle': 0,\\n          'collectable': False,\\n          'collision_type': 1,\\n          'config': {'collectable': False,\\n                     'collision_type': 1,\\n                     'count': 1,\\n                     'count_max': 1,\\n                     'default_action': 'idle',\\n                     'health': 100,\\n                     'permanent': True,\\n                     'pushable': True,\\n                     'remove_on_destroy': True},\\n          'config_id': 'perm_stone1',\\n          'count': 1,\\n          'count_max': 1,\\n          'created_tick': 0,\\n          'data': {},\\n          'default_action_type': 'idle',\\n          'depth': 1,\\n          'enabled': True,\\n          'health': 50,\\n          'height': 1,\\n          'id': 2,\\n          'image_height': 16,\\n          'image_id_default': None,\\n          'image_offset': <Vector2(0, 0)>,\\n          'image_width': 16,\\n          'is_deleted': False,\\n          'last_change': 0,\\n          'permanent': True,\\n          'player_id': None,\\n          'position': <Vector2(32, 0)>,\\n          'pushable': True,\\n          'remove_on_destroy': True,\\n          'rotate_sprites': False,\\n          'shape_color': None,\\n          'shape_group': {'data': {'default': {'_type': 'Polygon',\\n                                               'data': {'collision_type': 1,\\n                                                        'label': 'default',\\n                                                        'object_id': 2,\\n                                                        'sensor': True,\\n                                                        'vertices': [<Vector2(-8, -8)>,\\n                                                                     <Vector2(-8, 8)>,\\n                                                                     <Vector2(8, 8)>,\\n                                                                     <Vector2(8, -8)>]},\\n                                               'params': {'vertices': [<Vector2(-8, -8)>,\\n                                                                       <Vector2(-8, 8)>,\\n                                                                       <Vector2(8, 8)>,\\n                                                                       <Vector2(8, -8)>]}}}},\\n          'type': 'rock',\\n          'visible': True}}\""
      ]
     },
     "execution_count": 28,
     "metadata": {},
     "output_type": "execute_result"
    }
   ],
   "source": [
    "pprint.pformat(obj2_data,compact=True)"
   ]
  },
  {
   "cell_type": "code",
   "execution_count": 36,
   "metadata": {},
   "outputs": [],
   "source": [
    "o = gamectx.new_object_from_dict(obj_data)"
   ]
  },
  {
   "cell_type": "code",
   "execution_count": 38,
   "metadata": {},
   "outputs": [
    {
     "data": {
      "text/plain": [
       "<simpleland.common.ShapeGroup at 0x7f97f42e6ed0>"
      ]
     },
     "execution_count": 38,
     "metadata": {},
     "output_type": "execute_result"
    }
   ],
   "source": [
    "o.shape_group"
   ]
  },
  {
   "cell_type": "code",
   "execution_count": 39,
   "metadata": {},
   "outputs": [
    {
     "data": {
      "text/plain": [
       "{'_type': 'Rock',\n",
       " 'data': {'id': 2,\n",
       "  'position': <Vector2(32, 0)>,\n",
       "  'angle': 0,\n",
       "  'config_id': 'perm_stone1',\n",
       "  'created_tick': 0,\n",
       "  'player_id': None,\n",
       "  'shape_group': {'data': {'default': {'_type': 'Polygon',\n",
       "     'data': {'label': 'default',\n",
       "      'object_id': 2,\n",
       "      'vertices': [<Vector2(-8, -8)>,\n",
       "       <Vector2(-8, 8)>,\n",
       "       <Vector2(8, 8)>,\n",
       "       <Vector2(8, -8)>],\n",
       "      'collision_type': 0},\n",
       "     'params': {'vertices': [<Vector2(-8, -8)>,\n",
       "       <Vector2(-8, 8)>,\n",
       "       <Vector2(8, 8)>,\n",
       "       <Vector2(8, -8)>]}}}},\n",
       "  'data': {},\n",
       "  'last_change': 0,\n",
       "  'is_deleted': False,\n",
       "  'enabled': True,\n",
       "  'depth': 1,\n",
       "  'visible': True,\n",
       "  'image_width': 16,\n",
       "  'image_height': 16,\n",
       "  'shape_color': None,\n",
       "  'image_id_default': None,\n",
       "  'rotate_sprites': False,\n",
       "  'image_offset': <Vector2(0, 0)>,\n",
       "  'config': {'collectable': False,\n",
       "   'pushable': True,\n",
       "   'count_max': 1,\n",
       "   'permanent': True,\n",
       "   'health': 100,\n",
       "   'remove_on_destroy': True,\n",
       "   'collision_type': 1,\n",
       "   'count': 1,\n",
       "   'default_action': 'idle'},\n",
       "  'type': 'rock',\n",
       "  '_types': None,\n",
       "  'health': 50,\n",
       "  'permanent': True,\n",
       "  'remove_on_destroy': True,\n",
       "  'pushable': True,\n",
       "  'collision_type': 1,\n",
       "  'height': 1,\n",
       "  'collectable': False,\n",
       "  'count_max': 1,\n",
       "  'count': 1,\n",
       "  'default_action_type': 'idle',\n",
       "  '_action': {'type': 'spawn',\n",
       "   'ticks': 1,\n",
       "   'step_size': 1,\n",
       "   'start_tick': 0,\n",
       "   'blocking': True},\n",
       "  '_effects': {},\n",
       "  '_event_log': [{'type': 'idle', 'tick': 0}]}}"
      ]
     },
     "execution_count": 39,
     "metadata": {},
     "output_type": "execute_result"
    }
   ],
   "source": [
    "obj2_data"
   ]
  },
  {
   "cell_type": "code",
   "execution_count": 28,
   "metadata": {},
   "outputs": [
    {
     "data": {
      "text/plain": [
       "{'data': {62: {'_type': 'Polygon',\n",
       "   'data': {'object_id': 2,\n",
       "    'id': 62,\n",
       "    'label': None,\n",
       "    'vertices': [<Vector2(-8, -8)>,\n",
       "     <Vector2(-8, 8)>,\n",
       "     <Vector2(8, 8)>,\n",
       "     <Vector2(8, -8)>],\n",
       "    'collision_type': 0},\n",
       "   'params': {'vertices': [<Vector2(-8, -8)>,\n",
       "     <Vector2(-8, 8)>,\n",
       "     <Vector2(8, 8)>,\n",
       "     <Vector2(8, -8)>]}},\n",
       "  3: {'_type': 'Polygon',\n",
       "   'data': {'object_id': 2,\n",
       "    'id': 3,\n",
       "    'label': None,\n",
       "    'vertices': [<Vector2(-8, -8)>,\n",
       "     <Vector2(-8, 8)>,\n",
       "     <Vector2(8, 8)>,\n",
       "     <Vector2(8, -8)>],\n",
       "    'collision_type': 1,\n",
       "    'sensor': True},\n",
       "   'params': {'vertices': [<Vector2(-8, -8)>,\n",
       "     <Vector2(-8, 8)>,\n",
       "     <Vector2(8, 8)>,\n",
       "     <Vector2(8, -8)>]}}},\n",
       " '_type': 'ShapeGroup'}"
      ]
     },
     "execution_count": 28,
     "metadata": {},
     "output_type": "execute_result"
    }
   ],
   "source": [
    "obj.shape_group.get_snapshot()"
   ]
  },
  {
   "cell_type": "code",
   "execution_count": 26,
   "metadata": {},
   "outputs": [
    {
     "data": {
      "text/plain": [
       "<simpleland.object.GObject object at 0x7fdebc27be90>, id:61, data:{}, dict_data:{'id': 61, 'position': None, 'angle': 0, 'config_id': None, 'created_tick': 0, 'player_id': None, 'shape_group': <simpleland.common.ShapeGroup object at 0x7fdebc27bcd0>, 'data': {}, 'last_change': None, 'is_deleted': False, 'enabled': True, 'depth': 2, 'visible': True, 'image_width': 80, 'image_height': 80, 'shape_color': None, '_update_position_callback': <function GObject.__init__.<locals>.<lambda> at 0x7fde7f74a440>, 'image_id_default': None, 'rotate_sprites': False, 'image_offset': <Vector2(0, 0)>, 'child_object_ids': set()}"
      ]
     },
     "execution_count": 26,
     "metadata": {},
     "output_type": "execute_result"
    }
   ],
   "source": [
    "from simpleland.object import GObject\n",
    "objGObject()"
   ]
  },
  {
   "cell_type": "code",
   "execution_count": 23,
   "metadata": {},
   "outputs": [
    {
     "data": {
      "text/plain": [
       "{'_type': 'Rock',\n",
       " 'data': {'id': 2,\n",
       "  'position': <Vector2(32, 0)>,\n",
       "  'angle': 0,\n",
       "  'config_id': 'perm_stone1',\n",
       "  'created_tick': 0,\n",
       "  'player_id': None,\n",
       "  'shape_group': {'data': {59: {'_type': 'Polygon',\n",
       "     'data': {'object_id': 2,\n",
       "      'id': 59,\n",
       "      'label': None,\n",
       "      'vertices': [<Vector2(-8, -8)>,\n",
       "       <Vector2(-8, 8)>,\n",
       "       <Vector2(8, 8)>,\n",
       "       <Vector2(8, -8)>],\n",
       "      'collision_type': 0},\n",
       "     'params': {'vertices': [<Vector2(-8, -8)>,\n",
       "       <Vector2(-8, 8)>,\n",
       "       <Vector2(8, 8)>,\n",
       "       <Vector2(8, -8)>]}},\n",
       "    3: {'_type': 'Polygon',\n",
       "     'data': {'object_id': 2,\n",
       "      'id': 3,\n",
       "      'label': None,\n",
       "      'vertices': [<Vector2(-8, -8)>,\n",
       "       <Vector2(-8, 8)>,\n",
       "       <Vector2(8, 8)>,\n",
       "       <Vector2(8, -8)>],\n",
       "      'collision_type': 1,\n",
       "      'sensor': True},\n",
       "     'params': {'vertices': [<Vector2(-8, -8)>,\n",
       "       <Vector2(-8, 8)>,\n",
       "       <Vector2(8, 8)>,\n",
       "       <Vector2(8, -8)>]}}},\n",
       "   '_type': 'ShapeGroup'},\n",
       "  'data': {},\n",
       "  'last_change': 0,\n",
       "  'is_deleted': False,\n",
       "  'enabled': True,\n",
       "  'depth': 1,\n",
       "  'visible': True,\n",
       "  'image_width': 16,\n",
       "  'image_height': 16,\n",
       "  'shape_color': None,\n",
       "  'image_id_default': None,\n",
       "  'rotate_sprites': False,\n",
       "  'image_offset': <Vector2(0, 0)>,\n",
       "  'config': {'collectable': False,\n",
       "   'pushable': True,\n",
       "   'count_max': 1,\n",
       "   'permanent': True,\n",
       "   'health': 100,\n",
       "   'remove_on_destroy': True,\n",
       "   'collision_type': 1,\n",
       "   'count': 1,\n",
       "   'default_action': 'idle'},\n",
       "  'type': 'rock',\n",
       "  '_types': None,\n",
       "  'health': 50,\n",
       "  'permanent': True,\n",
       "  'remove_on_destroy': True,\n",
       "  'pushable': True,\n",
       "  'collision_type': 1,\n",
       "  'height': 1,\n",
       "  'collectable': False,\n",
       "  'count_max': 1,\n",
       "  'count': 1,\n",
       "  '_PhysicalObject__model': None,\n",
       "  '_PhysicalObject__sounds': {},\n",
       "  'default_action_type': 'idle',\n",
       "  '_action': {'type': 'spawn',\n",
       "   'ticks': 1,\n",
       "   'step_size': 1,\n",
       "   'start_tick': 0,\n",
       "   'blocking': True},\n",
       "  '_effects': {},\n",
       "  '_event_log': [{'type': 'idle', 'tick': 0}]}}"
      ]
     },
     "execution_count": 23,
     "metadata": {},
     "output_type": "execute_result"
    }
   ],
   "source": [
    "obj.get_snapshot()"
   ]
  },
  {
   "cell_type": "code",
   "execution_count": 22,
   "metadata": {},
   "outputs": [
    {
     "data": {
      "text/plain": [
       "{'_type': 'Rock',\n",
       " 'data': {'id': 2,\n",
       "  'position': <Vector2(32, 0)>,\n",
       "  'angle': 0,\n",
       "  'config_id': 'perm_stone1',\n",
       "  'created_tick': 0,\n",
       "  'player_id': None,\n",
       "  'shape_group': {'data': {3: {'_type': 'Polygon',\n",
       "     'data': {'object_id': 2,\n",
       "      'id': 3,\n",
       "      'label': None,\n",
       "      'vertices': [<Vector2(-8, -8)>,\n",
       "       <Vector2(-8, 8)>,\n",
       "       <Vector2(8, 8)>,\n",
       "       <Vector2(8, -8)>],\n",
       "      'collision_type': 0},\n",
       "     'params': {'vertices': [<Vector2(-8, -8)>,\n",
       "       <Vector2(-8, 8)>,\n",
       "       <Vector2(8, 8)>,\n",
       "       <Vector2(8, -8)>]}}},\n",
       "   '_type': 'ShapeGroup'},\n",
       "  'data': {},\n",
       "  'last_change': 0,\n",
       "  'is_deleted': False,\n",
       "  'enabled': True,\n",
       "  'depth': 1,\n",
       "  'visible': True,\n",
       "  'image_width': 16,\n",
       "  'image_height': 16,\n",
       "  'shape_color': None,\n",
       "  'image_id_default': None,\n",
       "  'rotate_sprites': False,\n",
       "  'image_offset': <Vector2(0, 0)>,\n",
       "  'config': {'collectable': False,\n",
       "   'pushable': True,\n",
       "   'count_max': 1,\n",
       "   'permanent': True,\n",
       "   'health': 100,\n",
       "   'remove_on_destroy': True,\n",
       "   'collision_type': 1,\n",
       "   'count': 1,\n",
       "   'default_action': 'idle'},\n",
       "  'type': 'rock',\n",
       "  '_types': None,\n",
       "  'health': 50,\n",
       "  'permanent': True,\n",
       "  'remove_on_destroy': True,\n",
       "  'pushable': True,\n",
       "  'collision_type': 1,\n",
       "  'height': 1,\n",
       "  'collectable': False,\n",
       "  'count_max': 1,\n",
       "  'count': 1,\n",
       "  '_PhysicalObject__model': None,\n",
       "  '_PhysicalObject__sounds': {},\n",
       "  'default_action_type': 'idle',\n",
       "  '_action': {'type': 'spawn',\n",
       "   'ticks': 1,\n",
       "   'step_size': 1,\n",
       "   'start_tick': 0,\n",
       "   'blocking': True},\n",
       "  '_effects': {},\n",
       "  '_event_log': [{'type': 'idle', 'tick': 0}, {'type': 'spawn', 'tick': 0}]}}"
      ]
     },
     "execution_count": 22,
     "metadata": {},
     "output_type": "execute_result"
    }
   ],
   "source": [
    "obj_data"
   ]
  },
  {
   "cell_type": "code",
   "execution_count": 21,
   "metadata": {},
   "outputs": [
    {
     "data": {
      "text/plain": [
       "{'_type': 'Rock',\n",
       " 'data': {'id': 2,\n",
       "  'position': <Vector2(32, 0)>,\n",
       "  'angle': 0,\n",
       "  'config_id': 'perm_stone1',\n",
       "  'created_tick': 0,\n",
       "  'player_id': None,\n",
       "  'shape_group': {'data': {59: {'_type': 'Polygon',\n",
       "     'data': {'object_id': 2,\n",
       "      'id': 59,\n",
       "      'label': None,\n",
       "      'vertices': [<Vector2(-8, -8)>,\n",
       "       <Vector2(-8, 8)>,\n",
       "       <Vector2(8, 8)>,\n",
       "       <Vector2(8, -8)>],\n",
       "      'collision_type': 0},\n",
       "     'params': {'vertices': [<Vector2(-8, -8)>,\n",
       "       <Vector2(-8, 8)>,\n",
       "       <Vector2(8, 8)>,\n",
       "       <Vector2(8, -8)>]}},\n",
       "    3: {'_type': 'Polygon',\n",
       "     'data': {'object_id': 2,\n",
       "      'id': 3,\n",
       "      'label': None,\n",
       "      'vertices': [<Vector2(-8, -8)>,\n",
       "       <Vector2(-8, 8)>,\n",
       "       <Vector2(8, 8)>,\n",
       "       <Vector2(8, -8)>],\n",
       "      'collision_type': 1,\n",
       "      'sensor': True},\n",
       "     'params': {'vertices': [<Vector2(-8, -8)>,\n",
       "       <Vector2(-8, 8)>,\n",
       "       <Vector2(8, 8)>,\n",
       "       <Vector2(8, -8)>]}}},\n",
       "   '_type': 'ShapeGroup'},\n",
       "  'data': {},\n",
       "  'last_change': 0,\n",
       "  'is_deleted': False,\n",
       "  'enabled': True,\n",
       "  'depth': 1,\n",
       "  'visible': True,\n",
       "  'image_width': 16,\n",
       "  'image_height': 16,\n",
       "  'shape_color': None,\n",
       "  'image_id_default': None,\n",
       "  'rotate_sprites': False,\n",
       "  'image_offset': <Vector2(0, 0)>,\n",
       "  'config': {'collectable': False,\n",
       "   'pushable': True,\n",
       "   'count_max': 1,\n",
       "   'permanent': True,\n",
       "   'health': 100,\n",
       "   'remove_on_destroy': True,\n",
       "   'collision_type': 1,\n",
       "   'count': 1,\n",
       "   'default_action': 'idle'},\n",
       "  'type': 'rock',\n",
       "  '_types': None,\n",
       "  'health': 50,\n",
       "  'permanent': True,\n",
       "  'remove_on_destroy': True,\n",
       "  'pushable': True,\n",
       "  'collision_type': 1,\n",
       "  'height': 1,\n",
       "  'collectable': False,\n",
       "  'count_max': 1,\n",
       "  'count': 1,\n",
       "  '_PhysicalObject__model': None,\n",
       "  '_PhysicalObject__sounds': {},\n",
       "  'default_action_type': 'idle',\n",
       "  '_action': {'type': 'spawn',\n",
       "   'ticks': 1,\n",
       "   'step_size': 1,\n",
       "   'start_tick': 0,\n",
       "   'blocking': True},\n",
       "  '_effects': {},\n",
       "  '_event_log': [{'type': 'idle', 'tick': 0}]}}"
      ]
     },
     "execution_count": 21,
     "metadata": {},
     "output_type": "execute_result"
    }
   ],
   "source": [
    "obj.get_snapshot()"
   ]
  },
  {
   "cell_type": "code",
   "execution_count": 18,
   "metadata": {},
   "outputs": [
    {
     "data": {
      "text/plain": [
       "{'_type': 'Rock',\n",
       " 'data': {'id': 2,\n",
       "  'position': <Vector2(32, 0)>,\n",
       "  'angle': 0,\n",
       "  'config_id': 'perm_stone1',\n",
       "  'created_tick': 0,\n",
       "  'player_id': None,\n",
       "  'shape_group': {'data': {59: {'_type': 'Polygon',\n",
       "     'data': {'object_id': 2,\n",
       "      'id': 59,\n",
       "      'label': None,\n",
       "      'vertices': [<Vector2(-8, -8)>,\n",
       "       <Vector2(-8, 8)>,\n",
       "       <Vector2(8, 8)>,\n",
       "       <Vector2(8, -8)>],\n",
       "      'collision_type': 0},\n",
       "     'params': {'vertices': [<Vector2(-8, -8)>,\n",
       "       <Vector2(-8, 8)>,\n",
       "       <Vector2(8, 8)>,\n",
       "       <Vector2(8, -8)>]}},\n",
       "    3: {'_type': 'Polygon',\n",
       "     'data': {'object_id': 2,\n",
       "      'id': 3,\n",
       "      'label': None,\n",
       "      'vertices': [<Vector2(-8, -8)>,\n",
       "       <Vector2(-8, 8)>,\n",
       "       <Vector2(8, 8)>,\n",
       "       <Vector2(8, -8)>],\n",
       "      'collision_type': 1,\n",
       "      'sensor': True},\n",
       "     'params': {'vertices': [<Vector2(-8, -8)>,\n",
       "       <Vector2(-8, 8)>,\n",
       "       <Vector2(8, 8)>,\n",
       "       <Vector2(8, -8)>]}}},\n",
       "   '_type': 'ShapeGroup'},\n",
       "  'data': {},\n",
       "  'last_change': 0,\n",
       "  'is_deleted': False,\n",
       "  'enabled': True,\n",
       "  'depth': 1,\n",
       "  'visible': True,\n",
       "  'image_width': 16,\n",
       "  'image_height': 16,\n",
       "  'shape_color': None,\n",
       "  'image_id_default': None,\n",
       "  'rotate_sprites': False,\n",
       "  'image_offset': <Vector2(0, 0)>,\n",
       "  'config': {'collectable': False,\n",
       "   'pushable': True,\n",
       "   'count_max': 1,\n",
       "   'permanent': True,\n",
       "   'health': 100,\n",
       "   'remove_on_destroy': True,\n",
       "   'collision_type': 1,\n",
       "   'count': 1,\n",
       "   'default_action': 'idle'},\n",
       "  'type': 'rock',\n",
       "  '_types': None,\n",
       "  'health': 50,\n",
       "  'permanent': True,\n",
       "  'remove_on_destroy': True,\n",
       "  'pushable': True,\n",
       "  'collision_type': 1,\n",
       "  'height': 1,\n",
       "  'collectable': False,\n",
       "  'count_max': 1,\n",
       "  'count': 1,\n",
       "  '_PhysicalObject__model': None,\n",
       "  '_PhysicalObject__sounds': {},\n",
       "  'default_action_type': 'idle',\n",
       "  '_action': {'type': 'spawn',\n",
       "   'ticks': 1,\n",
       "   'step_size': 1,\n",
       "   'start_tick': 0,\n",
       "   'blocking': True},\n",
       "  '_effects': {},\n",
       "  '_event_log': [{'type': 'idle', 'tick': 0}]}}"
      ]
     },
     "execution_count": 18,
     "metadata": {},
     "output_type": "execute_result"
    }
   ],
   "source": [
    "obj2_data"
   ]
  },
  {
   "cell_type": "code",
   "execution_count": null,
   "metadata": {},
   "outputs": [],
   "source": [
    "obj_data"
   ]
  },
  {
   "cell_type": "code",
   "execution_count": 20,
   "metadata": {},
   "outputs": [
    {
     "data": {
      "text/plain": [
       "[(set(),\n",
       "  set(),\n",
       "  {'data': ({'id': 2,\n",
       "     'position': <Vector2(32, 0)>,\n",
       "     'angle': 0,\n",
       "     'config_id': 'perm_stone1',\n",
       "     'created_tick': 0,\n",
       "     'player_id': None,\n",
       "     'shape_group': {'data': {3: {'_type': 'Polygon',\n",
       "        'data': {'object_id': 2,\n",
       "         'id': 3,\n",
       "         'label': None,\n",
       "         'vertices': [<Vector2(-8, -8)>,\n",
       "          <Vector2(-8, 8)>,\n",
       "          <Vector2(8, 8)>,\n",
       "          <Vector2(8, -8)>],\n",
       "         'collision_type': 0},\n",
       "        'params': {'vertices': [<Vector2(-8, -8)>,\n",
       "          <Vector2(-8, 8)>,\n",
       "          <Vector2(8, 8)>,\n",
       "          <Vector2(8, -8)>]}}},\n",
       "      '_type': 'ShapeGroup'},\n",
       "     'data': {},\n",
       "     'last_change': 0,\n",
       "     'is_deleted': False,\n",
       "     'enabled': True,\n",
       "     'depth': 1,\n",
       "     'visible': True,\n",
       "     'image_width': 16,\n",
       "     'image_height': 16,\n",
       "     'shape_color': None,\n",
       "     'image_id_default': None,\n",
       "     'rotate_sprites': False,\n",
       "     'image_offset': <Vector2(0, 0)>,\n",
       "     'config': {'collectable': False,\n",
       "      'pushable': True,\n",
       "      'count_max': 1,\n",
       "      'permanent': True,\n",
       "      'health': 100,\n",
       "      'remove_on_destroy': True,\n",
       "      'collision_type': 1,\n",
       "      'count': 1,\n",
       "      'default_action': 'idle'},\n",
       "     'type': 'rock',\n",
       "     '_types': None,\n",
       "     'health': 50,\n",
       "     'permanent': True,\n",
       "     'remove_on_destroy': True,\n",
       "     'pushable': True,\n",
       "     'collision_type': 1,\n",
       "     'height': 1,\n",
       "     'collectable': False,\n",
       "     'count_max': 1,\n",
       "     'count': 1,\n",
       "     '_PhysicalObject__model': None,\n",
       "     '_PhysicalObject__sounds': {},\n",
       "     'default_action_type': 'idle',\n",
       "     '_action': {'type': 'spawn',\n",
       "      'ticks': 1,\n",
       "      'step_size': 1,\n",
       "      'start_tick': 0,\n",
       "      'blocking': True},\n",
       "     '_effects': {},\n",
       "     '_event_log': [{'type': 'idle', 'tick': 0},\n",
       "      {'type': 'spawn', 'tick': 0}]},\n",
       "    {'id': 2,\n",
       "     'position': <Vector2(32, 0)>,\n",
       "     'angle': 0,\n",
       "     'config_id': 'perm_stone1',\n",
       "     'created_tick': 0,\n",
       "     'player_id': None,\n",
       "     'shape_group': {'data': {59: {'_type': 'Polygon',\n",
       "        'data': {'object_id': 2,\n",
       "         'id': 59,\n",
       "         'label': None,\n",
       "         'vertices': [<Vector2(-8, -8)>,\n",
       "          <Vector2(-8, 8)>,\n",
       "          <Vector2(8, 8)>,\n",
       "          <Vector2(8, -8)>],\n",
       "         'collision_type': 0},\n",
       "        'params': {'vertices': [<Vector2(-8, -8)>,\n",
       "          <Vector2(-8, 8)>,\n",
       "          <Vector2(8, 8)>,\n",
       "          <Vector2(8, -8)>]}},\n",
       "       3: {'_type': 'Polygon',\n",
       "        'data': {'object_id': 2,\n",
       "         'id': 3,\n",
       "         'label': None,\n",
       "         'vertices': [<Vector2(-8, -8)>,\n",
       "          <Vector2(-8, 8)>,\n",
       "          <Vector2(8, 8)>,\n",
       "          <Vector2(8, -8)>],\n",
       "         'collision_type': 1,\n",
       "         'sensor': True},\n",
       "        'params': {'vertices': [<Vector2(-8, -8)>,\n",
       "          <Vector2(-8, 8)>,\n",
       "          <Vector2(8, 8)>,\n",
       "          <Vector2(8, -8)>]}}},\n",
       "      '_type': 'ShapeGroup'},\n",
       "     'data': {},\n",
       "     'last_change': 0,\n",
       "     'is_deleted': False,\n",
       "     'enabled': True,\n",
       "     'depth': 1,\n",
       "     'visible': True,\n",
       "     'image_width': 16,\n",
       "     'image_height': 16,\n",
       "     'shape_color': None,\n",
       "     'image_id_default': None,\n",
       "     'rotate_sprites': False,\n",
       "     'image_offset': <Vector2(0, 0)>,\n",
       "     'config': {'collectable': False,\n",
       "      'pushable': True,\n",
       "      'count_max': 1,\n",
       "      'permanent': True,\n",
       "      'health': 100,\n",
       "      'remove_on_destroy': True,\n",
       "      'collision_type': 1,\n",
       "      'count': 1,\n",
       "      'default_action': 'idle'},\n",
       "     'type': 'rock',\n",
       "     '_types': None,\n",
       "     'health': 50,\n",
       "     'permanent': True,\n",
       "     'remove_on_destroy': True,\n",
       "     'pushable': True,\n",
       "     'collision_type': 1,\n",
       "     'height': 1,\n",
       "     'collectable': False,\n",
       "     'count_max': 1,\n",
       "     'count': 1,\n",
       "     '_PhysicalObject__model': None,\n",
       "     '_PhysicalObject__sounds': {},\n",
       "     'default_action_type': 'idle',\n",
       "     '_action': {'type': 'spawn',\n",
       "      'ticks': 1,\n",
       "      'step_size': 1,\n",
       "      'start_tick': 0,\n",
       "      'blocking': True},\n",
       "     '_effects': {},\n",
       "     '_event_log': [{'type': 'idle', 'tick': 0}]})},\n",
       "  {'_type'})]"
      ]
     },
     "execution_count": 20,
     "metadata": {},
     "output_type": "execute_result"
    }
   ],
   "source": [
    "results"
   ]
  },
  {
   "cell_type": "code",
   "execution_count": 27,
   "metadata": {},
   "outputs": [
    {
     "data": {
      "text/plain": [
       "{'_type': 'Rock',\n",
       " 'data': {'id': 2,\n",
       "  'position': <Vector2(32, 0)>,\n",
       "  'angle': 0,\n",
       "  'config_id': 'perm_stone1',\n",
       "  'created_tick': 0,\n",
       "  'player_id': None,\n",
       "  'shape_group': {'data': {3: {'_type': 'Polygon',\n",
       "     'data': {'object_id': 2,\n",
       "      'id': 3,\n",
       "      'label': None,\n",
       "      'vertices': [<Vector2(-8, -8)>,\n",
       "       <Vector2(-8, 8)>,\n",
       "       <Vector2(8, 8)>,\n",
       "       <Vector2(8, -8)>],\n",
       "      'collision_type': 0},\n",
       "     'params': {'vertices': [<Vector2(-8, -8)>,\n",
       "       <Vector2(-8, 8)>,\n",
       "       <Vector2(8, 8)>,\n",
       "       <Vector2(8, -8)>]}}},\n",
       "   '_type': 'ShapeGroup'},\n",
       "  'last_change': 0,\n",
       "  'is_deleted': False,\n",
       "  'enabled': True,\n",
       "  'depth': 1,\n",
       "  'visible': True,\n",
       "  'image_width': 16,\n",
       "  'image_height': 16,\n",
       "  'shape_color': None,\n",
       "  'image_id_default': None,\n",
       "  'rotate_sprites': False,\n",
       "  'image_offset': <Vector2(0, 0)>,\n",
       "  'type': 'rock',\n",
       "  '_types': None,\n",
       "  'health': 50,\n",
       "  'permanent': True,\n",
       "  'remove_on_destroy': True,\n",
       "  'pushable': True,\n",
       "  'collision_type': 1,\n",
       "  'height': 1,\n",
       "  'collectable': False,\n",
       "  'count_max': 1,\n",
       "  'count': 1,\n",
       "  'default_action_type': 'idle',\n",
       "  '_event_log': [{'type': 'idle', 'tick': 0},\n",
       "   {'type': 'spawn', 'tick': 0},\n",
       "   {'type': 'idle', 'tick': 2257}],\n",
       "  'data': {}}}"
      ]
     },
     "execution_count": 27,
     "metadata": {},
     "output_type": "execute_result"
    }
   ],
   "source": [
    "obj_data"
   ]
  },
  {
   "cell_type": "code",
   "execution_count": 21,
   "metadata": {},
   "outputs": [],
   "source": [
    "from simpleland.object_manager import GObjectManager"
   ]
  },
  {
   "cell_type": "code",
   "execution_count": 22,
   "metadata": {},
   "outputs": [],
   "source": [
    "om = GObjectManager()"
   ]
  },
  {
   "cell_type": "code",
   "execution_count": null,
   "metadata": {},
   "outputs": [],
   "source": [
    "om."
   ]
  },
  {
   "cell_type": "code",
   "execution_count": 10,
   "metadata": {},
   "outputs": [
    {
     "name": "stdout",
     "output_type": "stream",
     "text": [
      "Loading sector (0.0, -2.0)\n",
      "no sector found at (0.0, -2.0)\n",
      "Creating sector (0.0, -2.0)\n",
      "Adding obj at in sector: (0.0, -2.0) at (0.0, -128.0)\n",
      "---------\n",
      "<simpleland.common.ShapeGroup object at 0x7f32503955d0>\n",
      "---------\n",
      "Loading sector (1.0, -2.0)\n",
      "no sector found at (1.0, -2.0)\n",
      "Creating sector (1.0, -2.0)\n",
      "Adding obj at in sector: (1.0, -2.0) at (64.0, -128.0)\n",
      "---------\n",
      "<simpleland.common.ShapeGroup object at 0x7f3250395410>\n",
      "---------\n",
      "Loading sector (-1.0, -2.0)\n",
      "no sector found at (-1.0, -2.0)\n",
      "Creating sector (-1.0, -2.0)\n",
      "Adding obj at in sector: (-1.0, -2.0) at (-64.0, -128.0)\n",
      "---------\n",
      "<simpleland.common.ShapeGroup object at 0x7f328876cf90>\n",
      "---------\n"
     ]
    },
    {
     "ename": "SystemExit",
     "evalue": "",
     "output_type": "error",
     "traceback": [
      "An exception has occurred, use %tb to see the full traceback.\n",
      "\u001b[0;31mSystemExit\u001b[0m\n"
     ]
    },
    {
     "name": "stderr",
     "output_type": "stream",
     "text": [
      "/home/brandyn/anaconda3/envs/simpleland/lib/python3.7/site-packages/IPython/core/interactiveshell.py:3339: UserWarning: To exit: use 'exit', 'quit', or Ctrl-D.\n",
      "  warn(\"To exit: use 'exit', 'quit', or Ctrl-D.\", stacklevel=1)\n"
     ]
    }
   ],
   "source": [
    "while gamectx.state == \"RUNNING\": \n",
    "    if done:\n",
    "        gamectx.content.reset()\n",
    "    gamectx.process_client_step()\n",
    "    gamectx.run_step()\n",
    "    gamectx.render_client_step()\n",
    "    for player in gamectx.player_manager.players_map.values():\n",
    "        # print(f\"Player: {player.get_id()} {player.get_object_id()}\")\n",
    "        observation, reward, done, info = gamectx.content.get_step_info(player)\n",
    "    if gamectx.config.wait_for_user_input:\n",
    "        # print(f\"Player: {player.get_id()} {player.get_object_id()}\")\n",
    "        # print(observation)\n",
    "        print(reward)\n",
    "        print(done)\n",
    "        print(info)\n",
    "        print(\"----------\")\n",
    "\n",
    "\n",
    "    gamectx.wait_for_input()"
   ]
  },
  {
   "cell_type": "code",
   "execution_count": null,
   "metadata": {},
   "outputs": [],
   "source": []
  }
 ],
 "metadata": {
  "kernelspec": {
   "display_name": "simpleland",
   "language": "python",
   "name": "simpleland"
  },
  "language_info": {
   "codemirror_mode": {
    "name": "ipython",
    "version": 3
   },
   "file_extension": ".py",
   "mimetype": "text/x-python",
   "name": "python",
   "nbconvert_exporter": "python",
   "pygments_lexer": "ipython3",
   "version": "3.7.6"
  }
 },
 "nbformat": 4,
 "nbformat_minor": 4
}
