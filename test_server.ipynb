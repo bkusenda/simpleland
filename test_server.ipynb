{
 "cells": [
  {
   "cell_type": "code",
   "execution_count": 1,
   "metadata": {},
   "outputs": [
    {
     "data": {
      "text/html": [
       "<style>.container { width:100% !important; }</style>"
      ],
      "text/plain": [
       "<IPython.core.display.HTML object>"
      ]
     },
     "metadata": {},
     "output_type": "display_data"
    }
   ],
   "source": [
    "import sys\n",
    "sys.path.append(\"../\")\n",
    "%load_ext autoreload\n",
    "%autoreload 2\n",
    "%matplotlib inline\n",
    "\n",
    "from IPython.core.display import display, HTML\n",
    "display(HTML(\"<style>.container { width:100% !important; }</style>\"))"
   ]
  },
  {
   "cell_type": "code",
   "execution_count": 2,
   "metadata": {},
   "outputs": [
    {
     "name": "stdout",
     "output_type": "stream",
     "text": [
      "pygame 1.9.6\n",
      "Hello from the pygame community. https://www.pygame.org/contribute.html\n",
      "Loading chipmunk for Linux (64bit) [/home/brandyn/anaconda3/envs/simpleland/lib/python3.7/site-packages/pymunk/libchipmunk.so]\n"
     ]
    }
   ],
   "source": [
    "import simpleland"
   ]
  },
  {
   "cell_type": "code",
   "execution_count": 3,
   "metadata": {},
   "outputs": [],
   "source": [
    "from simpleland import runner"
   ]
  },
  {
   "cell_type": "code",
   "execution_count": 4,
   "metadata": {},
   "outputs": [],
   "source": [
    "from simpleland.runner import get_game_def, get_player_def\n",
    "import threading\n",
    "\n",
    "import argparse\n",
    "import json\n",
    "import logging\n",
    "import math\n",
    "import socketserver\n",
    "import struct\n",
    "import threading\n",
    "import lz4.frame\n",
    "from pyinstrument import Profiler\n",
    "from simpleland.client import GameClient\n",
    "\n",
    "from simpleland.config import GameDef, PlayerDefinition, ServerConfig\n",
    "from simpleland.content import Content\n",
    "from simpleland.common import StateDecoder, StateEncoder\n",
    "\n",
    "\n",
    "from simpleland.registry import load_game_content, load_game_def\n",
    "from simpleland.renderer import Renderer\n",
    "from simpleland.utils import gen_id\n",
    "import traceback\n",
    "from simpleland import gamectx\n",
    "from simpleland.server import GameUDPServer, UDPHandler "
   ]
  },
  {
   "cell_type": "code",
   "execution_count": 5,
   "metadata": {},
   "outputs": [],
   "source": [
    "rawargs = \"--game_id=survival_grid --game_tick_rate=60 --disable_sound --tile_size=128 --enable_server --enable_client\".split(\" \")"
   ]
  },
  {
   "cell_type": "code",
   "execution_count": 6,
   "metadata": {},
   "outputs": [],
   "source": [
    "args = runner.get_arguments(rawargs)"
   ]
  },
  {
   "cell_type": "code",
   "execution_count": 7,
   "metadata": {},
   "outputs": [
    {
     "name": "stdout",
     "output_type": "stream",
     "text": [
      "grid\n",
      "USING STEP CLOCK\n",
      "Loading Game Content.\n",
      "Server started at 0.0.0.0 port 10001\n"
     ]
    }
   ],
   "source": [
    "if not args.enable_server and not args.enable_client and not args.remote_client:\n",
    "        args.enable_client = True\n",
    "\n",
    "if args.enable_server and args.enable_client and args.remote_client:\n",
    "    print(\"Error: Server and Remote Client cannot be started from the same process. Please run seperately.\")\n",
    "    exit(1)\n",
    "\n",
    "game_def = get_game_def(\n",
    "    game_id=args.game_id,\n",
    "    enable_server=args.enable_server,\n",
    "    remote_client=args.remote_client,\n",
    "    port=args.port,\n",
    "    game_tick_rate=args.game_tick_rate,\n",
    "    sim_timestep=args.sim_timestep,\n",
    "    content_overrides = json.loads(args.content_overrides)\n",
    ")\n",
    "\n",
    "# Get resolution\n",
    "if args.enable_client and args.resolution == 'f':\n",
    "    import pygame\n",
    "    pygame.init()\n",
    "    infoObject = pygame.display.Info()\n",
    "    resolution = (infoObject.current_w, infoObject.current_h)\n",
    "else:\n",
    "    res_string = args.resolution.split(\"x\")\n",
    "    resolution = (int(res_string[0]), int(res_string[1]))\n",
    "\n",
    "player_def = get_player_def(\n",
    "    enable_client=args.enable_client,\n",
    "    client_id=args.client_id,\n",
    "    remote_client=args.remote_client,\n",
    "    hostname=args.hostname,\n",
    "    port=args.port,\n",
    "    disable_textures=args.disable_textures,\n",
    "    render_shapes=args.render_shapes,\n",
    "    resolution=resolution,\n",
    "    fps=args.fps,\n",
    "    player_type=args.player_type,\n",
    "    tile_size=args.tile_size,\n",
    "    debug_render_bodies = args.debug_render_bodies,\n",
    "    view_type = args.view_type,\n",
    "    sound_enabled= not args.disable_sound\n",
    ")\n",
    "\n",
    "content: Content = load_game_content(game_def)\n",
    "\n",
    "gamectx.initialize(\n",
    "    game_def,\n",
    "    content=content)\n",
    "\n",
    "if player_def.client_config.enabled:\n",
    "    renderer = Renderer(\n",
    "        config = player_def.renderer_config,\n",
    "        asset_bundle=content.get_asset_bundle())\n",
    "\n",
    "    client = GameClient(\n",
    "        renderer=renderer,\n",
    "        config=player_def.client_config)\n",
    "\n",
    "    gamectx.add_local_client(client)\n",
    "\n",
    "server = None\n",
    "import signal\n",
    "import sys\n",
    "def graceful_exit(signum=None, frame=None):\n",
    "    print(\"Shutting down\")\n",
    "    if game_def.server_config.enabled:\n",
    "        # server.shutdown()\n",
    "        server.server_close()\n",
    "\n",
    "    if args.enable_profiler:\n",
    "        profiler.stop()\n",
    "        print(profiler.output_text(unicode=True, color=True))\n",
    "    exit()\n",
    "signal.signal(signal.SIGINT, graceful_exit)\n",
    "\n",
    "try:\n",
    "    if game_def.server_config.enabled:\n",
    "\n",
    "        server = GameUDPServer(\n",
    "            conn=(game_def.server_config.hostname, game_def.server_config.port),\n",
    "            config=game_def.server_config)\n",
    "\n",
    "        server_thread = threading.Thread(target=server.serve_forever)\n",
    "        server_thread.daemon = True\n",
    "        server_thread.start()\n",
    "        print(\"Server started at {} port {}\".format(game_def.server_config.hostname, game_def.server_config.port))\n",
    "except (Exception,KeyboardInterrupt) as e:\n",
    "    print(traceback.format_exc())\n",
    "    print(e)\n"
   ]
  },
  {
   "cell_type": "code",
   "execution_count": 8,
   "metadata": {},
   "outputs": [],
   "source": [
    "done = True\n"
   ]
  },
  {
   "cell_type": "code",
   "execution_count": null,
   "metadata": {},
   "outputs": [
    {
     "name": "stdout",
     "output_type": "stream",
     "text": [
      "request_info {'client_id': '2', 'last_latency_ms': None, 'snapshots_received': [], 'player_type': 0, 'message': 'UPDATE'}\n",
      "request_info {'client_id': '2', 'last_latency_ms': None, 'snapshots_received': [1], 'player_type': 0, 'message': 'UPDATE'}\n",
      "request_info {'client_id': '2', 'last_latency_ms': None, 'snapshots_received': [1], 'player_type': 0, 'message': 'UPDATE'}\n",
      "request_info {'client_id': '2', 'last_latency_ms': None, 'snapshots_received': [1], 'player_type': 0, 'message': 'UPDATE'}\n",
      "request_info {'client_id': '2', 'last_latency_ms': None, 'snapshots_received': [1], 'player_type': 0, 'message': 'UPDATE'}\n",
      "request_info {'client_id': '2', 'last_latency_ms': None, 'snapshots_received': [1], 'player_type': 0, 'message': 'UPDATE'}\n",
      "request_info {'client_id': '2', 'last_latency_ms': None, 'snapshots_received': [1], 'player_type': 0, 'message': 'UPDATE'}\n",
      "request_info {'client_id': '2', 'last_latency_ms': None, 'snapshots_received': [1], 'player_type': 0, 'message': 'UPDATE'}\n",
      "request_info {'client_id': '2', 'last_latency_ms': None, 'snapshots_received': [1], 'player_type': 0, 'message': 'UPDATE'}\n",
      "request_info {'client_id': '2', 'last_latency_ms': None, 'snapshots_received': [1], 'player_type': 0, 'message': 'UPDATE'}\n",
      "request_info {'client_id': '2', 'last_latency_ms': None, 'snapshots_received': [1], 'player_type': 0, 'message': 'UPDATE'}\n",
      "request_info {'client_id': '2', 'last_latency_ms': None, 'snapshots_received': [1], 'player_type': 0, 'message': 'UPDATE'}\n",
      "request_info {'client_id': '2', 'last_latency_ms': None, 'snapshots_received': [1], 'player_type': 0, 'message': 'UPDATE'}\n",
      "request_info {'client_id': '2', 'last_latency_ms': None, 'snapshots_received': [1], 'player_type': 0, 'message': 'UPDATE'}\n",
      "request_info {'client_id': '2', 'last_latency_ms': None, 'snapshots_received': [1], 'player_type': 0, 'message': 'UPDATE'}\n",
      "request_info {'client_id': '2', 'last_latency_ms': None, 'snapshots_received': [1], 'player_type': 0, 'message': 'UPDATE'}\n",
      "request_info {'client_id': '2', 'last_latency_ms': None, 'snapshots_received': [2], 'player_type': 0, 'message': 'UPDATE'}\n",
      "request_info {'client_id': '2', 'last_latency_ms': None, 'snapshots_received': [3], 'player_type': 0, 'message': 'UPDATE'}\n",
      "request_info {'client_id': '2', 'last_latency_ms': None, 'snapshots_received': [3], 'player_type': 0, 'message': 'UPDATE'}\n",
      "request_info {'client_id': '2', 'last_latency_ms': None, 'snapshots_received': [3], 'player_type': 0, 'message': 'UPDATE'}\n",
      "request_info {'client_id': '2', 'last_latency_ms': None, 'snapshots_received': [3], 'player_type': 0, 'message': 'UPDATE'}\n",
      "request_info {'client_id': '2', 'last_latency_ms': None, 'snapshots_received': [3], 'player_type': 0, 'message': 'UPDATE'}\n",
      "request_info {'client_id': '2', 'last_latency_ms': None, 'snapshots_received': [3], 'player_type': 0, 'message': 'UPDATE'}\n",
      "request_info {'client_id': '2', 'last_latency_ms': None, 'snapshots_received': [3], 'player_type': 0, 'message': 'UPDATE'}\n",
      "request_info {'client_id': '2', 'last_latency_ms': None, 'snapshots_received': [3], 'player_type': 0, 'message': 'UPDATE'}\n",
      "request_info {'client_id': '2', 'last_latency_ms': None, 'snapshots_received': [3], 'player_type': 0, 'message': 'UPDATE'}\n",
      "request_info {'client_id': '2', 'last_latency_ms': None, 'snapshots_received': [3], 'player_type': 0, 'message': 'UPDATE'}\n",
      "request_info {'client_id': '2', 'last_latency_ms': None, 'snapshots_received': [3], 'player_type': 0, 'message': 'UPDATE'}\n",
      "request_info {'client_id': '2', 'last_latency_ms': None, 'snapshots_received': [3], 'player_type': 0, 'message': 'UPDATE'}\n",
      "request_info {'client_id': '2', 'last_latency_ms': None, 'snapshots_received': [3], 'player_type': 0, 'message': 'UPDATE'}\n",
      "request_info {'client_id': '2', 'last_latency_ms': None, 'snapshots_received': [3], 'player_type': 0, 'message': 'UPDATE'}\n",
      "request_info {'client_id': '2', 'last_latency_ms': None, 'snapshots_received': [3], 'player_type': 0, 'message': 'UPDATE'}\n",
      "request_info {'client_id': '2', 'last_latency_ms': None, 'snapshots_received': [3], 'player_type': 0, 'message': 'UPDATE'}\n",
      "request_info {'client_id': '2', 'last_latency_ms': None, 'snapshots_received': [3], 'player_type': 0, 'message': 'UPDATE'}\n",
      "request_info {'client_id': '2', 'last_latency_ms': None, 'snapshots_received': [3], 'player_type': 0, 'message': 'UPDATE'}\n",
      "request_info {'client_id': '2', 'last_latency_ms': None, 'snapshots_received': [3], 'player_type': 0, 'message': 'UPDATE'}\n",
      "request_info {'client_id': '2', 'last_latency_ms': None, 'snapshots_received': [3], 'player_type': 0, 'message': 'UPDATE'}\n",
      "request_info {'client_id': '2', 'last_latency_ms': None, 'snapshots_received': [3], 'player_type': 0, 'message': 'UPDATE'}\n",
      "request_info {'client_id': '2', 'last_latency_ms': None, 'snapshots_received': [3], 'player_type': 0, 'message': 'UPDATE'}\n",
      "request_info {'client_id': '2', 'last_latency_ms': None, 'snapshots_received': [3], 'player_type': 0, 'message': 'UPDATE'}\n",
      "request_info {'client_id': '2', 'last_latency_ms': None, 'snapshots_received': [3], 'player_type': 0, 'message': 'UPDATE'}\n",
      "request_info {'client_id': '2', 'last_latency_ms': None, 'snapshots_received': [3], 'player_type': 0, 'message': 'UPDATE'}\n",
      "request_info {'client_id': '2', 'last_latency_ms': None, 'snapshots_received': [3], 'player_type': 0, 'message': 'UPDATE'}\n",
      "request_info {'client_id': '2', 'last_latency_ms': None, 'snapshots_received': [3], 'player_type': 0, 'message': 'UPDATE'}\n",
      "request_info {'client_id': '2', 'last_latency_ms': None, 'snapshots_received': [3], 'player_type': 0, 'message': 'UPDATE'}\n",
      "request_info {'client_id': '2', 'last_latency_ms': None, 'snapshots_received': [3], 'player_type': 0, 'message': 'UPDATE'}\n",
      "request_info {'client_id': '2', 'last_latency_ms': None, 'snapshots_received': [5], 'player_type': 0, 'message': 'UPDATE'}\n",
      "request_info {'client_id': '2', 'last_latency_ms': None, 'snapshots_received': [9], 'player_type': 0, 'message': 'UPDATE'}\n",
      "request_info {'client_id': '2', 'last_latency_ms': None, 'snapshots_received': [13], 'player_type': 0, 'message': 'UPDATE'}\n",
      "request_info {'client_id': '2', 'last_latency_ms': None, 'snapshots_received': [16], 'player_type': 0, 'message': 'UPDATE'}\n",
      "request_info {'client_id': '2', 'last_latency_ms': None, 'snapshots_received': [21], 'player_type': 0, 'message': 'UPDATE'}\n",
      "request_info {'client_id': '2', 'last_latency_ms': None, 'snapshots_received': [26], 'player_type': 0, 'message': 'UPDATE'}\n",
      "request_info {'client_id': '2', 'last_latency_ms': None, 'snapshots_received': [31], 'player_type': 0, 'message': 'UPDATE'}\n",
      "request_info {'client_id': '2', 'last_latency_ms': None, 'snapshots_received': [32], 'player_type': 0, 'message': 'UPDATE'}\n",
      "request_info {'client_id': '2', 'last_latency_ms': None, 'snapshots_received': [32], 'player_type': 0, 'message': 'UPDATE'}\n",
      "request_info {'client_id': '2', 'last_latency_ms': None, 'snapshots_received': [32], 'player_type': 0, 'message': 'UPDATE'}\n",
      "request_info {'client_id': '2', 'last_latency_ms': None, 'snapshots_received': [32], 'player_type': 0, 'message': 'UPDATE'}\n",
      "request_info {'client_id': '2', 'last_latency_ms': None, 'snapshots_received': [32], 'player_type': 0, 'message': 'UPDATE'}\n",
      "request_info {'client_id': '2', 'last_latency_ms': None, 'snapshots_received': [33], 'player_type': 0, 'message': 'UPDATE'}\n",
      "request_info {'client_id': '2', 'last_latency_ms': None, 'snapshots_received': [37], 'player_type': 0, 'message': 'UPDATE'}\n",
      "request_info {'client_id': '2', 'last_latency_ms': None, 'snapshots_received': [37], 'player_type': 0, 'message': 'UPDATE'}\n",
      "request_info {'client_id': '2', 'last_latency_ms': None, 'snapshots_received': [37], 'player_type': 0, 'message': 'UPDATE'}\n",
      "request_info {'client_id': '2', 'last_latency_ms': None, 'snapshots_received': [37], 'player_type': 0, 'message': 'UPDATE'}\n",
      "request_info {'client_id': '2', 'last_latency_ms': None, 'snapshots_received': [37], 'player_type': 0, 'message': 'UPDATE'}\n",
      "request_info {'client_id': '2', 'last_latency_ms': None, 'snapshots_received': [37], 'player_type': 0, 'message': 'UPDATE'}\n",
      "request_info {'client_id': '2', 'last_latency_ms': None, 'snapshots_received': [37], 'player_type': 0, 'message': 'UPDATE'}\n",
      "request_info {'client_id': '2', 'last_latency_ms': None, 'snapshots_received': [37], 'player_type': 0, 'message': 'UPDATE'}\n",
      "request_info {'client_id': '2', 'last_latency_ms': None, 'snapshots_received': [37], 'player_type': 0, 'message': 'UPDATE'}\n",
      "request_info {'client_id': '2', 'last_latency_ms': None, 'snapshots_received': [37], 'player_type': 0, 'message': 'UPDATE'}\n",
      "request_info {'client_id': '2', 'last_latency_ms': None, 'snapshots_received': [37], 'player_type': 0, 'message': 'UPDATE'}\n",
      "request_info {'client_id': '2', 'last_latency_ms': None, 'snapshots_received': [37], 'player_type': 0, 'message': 'UPDATE'}\n",
      "request_info {'client_id': '2', 'last_latency_ms': None, 'snapshots_received': [37], 'player_type': 0, 'message': 'UPDATE'}\n"
     ]
    }
   ],
   "source": [
    "while gamectx.state == \"RUNNING\": \n",
    "    if done:\n",
    "        gamectx.content.reset()\n",
    "    gamectx.process_client_step()\n",
    "    gamectx.run_step()\n",
    "    gamectx.render_client_step()\n",
    "    for player in gamectx.player_manager.players_map.values():\n",
    "        # print(f\"Player: {player.get_id()} {player.get_object_id()}\")\n",
    "        observation, reward, done, info = gamectx.content.get_step_info(player)\n",
    "    if gamectx.config.wait_for_user_input:\n",
    "        # print(f\"Player: {player.get_id()} {player.get_object_id()}\")\n",
    "        # print(observation)\n",
    "        print(reward)\n",
    "        print(done)\n",
    "        print(info)\n",
    "        print(\"----------\")\n",
    "\n",
    "\n",
    "    gamectx.wait_for_input()"
   ]
  },
  {
   "cell_type": "code",
   "execution_count": null,
   "metadata": {},
   "outputs": [],
   "source": [
    "# for i in range(10):\n",
    "#     if done:\n",
    "#         gamectx.content.reset()\n",
    "#     gamectx.process_client_step()\n",
    "#     gamectx.run_step()\n",
    "#     gamectx.render_client_step()\n",
    "#     for player in gamectx.player_manager.players_map.values():\n",
    "#         # print(f\"Player: {player.get_id()} {player.get_object_id()}\")\n",
    "#         observation, reward, done, info = gamectx.content.get_step_info(player)\n",
    "#     if gamectx.config.wait_for_user_input:\n",
    "#         # print(f\"Player: {player.get_id()} {player.get_object_id()}\")\n",
    "#         # print(observation)\n",
    "#         print(reward)\n",
    "#         print(done)\n",
    "#         print(info)\n",
    "#         print(\"----------\")\n",
    "\n",
    "\n",
    "#     gamectx.wait_for_input()"
   ]
  },
  {
   "cell_type": "code",
   "execution_count": null,
   "metadata": {},
   "outputs": [],
   "source": []
  }
 ],
 "metadata": {
  "kernelspec": {
   "display_name": "simpleland",
   "language": "python",
   "name": "simpleland"
  },
  "language_info": {
   "codemirror_mode": {
    "name": "ipython",
    "version": 3
   },
   "file_extension": ".py",
   "mimetype": "text/x-python",
   "name": "python",
   "nbconvert_exporter": "python",
   "pygments_lexer": "ipython3",
   "version": "3.7.6"
  }
 },
 "nbformat": 4,
 "nbformat_minor": 4
}
