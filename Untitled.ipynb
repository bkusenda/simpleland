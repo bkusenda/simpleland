{
 "cells": [
  {
   "cell_type": "code",
   "execution_count": 1,
   "metadata": {},
   "outputs": [
    {
     "name": "stdout",
     "output_type": "stream",
     "text": [
      "m87\r\n"
     ]
    }
   ],
   "source": [
    "!hostname"
   ]
  },
  {
   "cell_type": "code",
   "execution_count": 19,
   "metadata": {},
   "outputs": [
    {
     "name": "stdout",
     "output_type": "stream",
     "text": [
      "The autoreload extension is already loaded. To reload it, use:\n",
      "  %reload_ext autoreload\n"
     ]
    }
   ],
   "source": [
    "import sys\n",
    "sys.path.append(\"../\")\n",
    "%load_ext autoreload\n",
    "%autoreload 2\n",
    "%matplotlib inline"
   ]
  },
  {
   "cell_type": "code",
   "execution_count": 20,
   "metadata": {},
   "outputs": [],
   "source": [
    "from simpleland.data_manager import SnapshotManager\n",
    "from simpleland.common import SimClock"
   ]
  },
  {
   "cell_type": "code",
   "execution_count": 21,
   "metadata": {},
   "outputs": [],
   "source": [
    "sm = SnapshotManager(10)"
   ]
  },
  {
   "cell_type": "code",
   "execution_count": 22,
   "metadata": {},
   "outputs": [],
   "source": [
    "sm.add_snapshot(123,{\"test\":\"test\"})"
   ]
  },
  {
   "cell_type": "code",
   "execution_count": 23,
   "metadata": {},
   "outputs": [
    {
     "ename": "TypeError",
     "evalue": "'<' not supported between instances of 'int' and 'NoneType'",
     "output_type": "error",
     "traceback": [
      "\u001b[0;31m---------------------------------------------------------------------------\u001b[0m",
      "\u001b[0;31mTypeError\u001b[0m                                 Traceback (most recent call last)",
      "\u001b[0;32m<ipython-input-23-9b8948b7e6e8>\u001b[0m in \u001b[0;36m<module>\u001b[0;34m\u001b[0m\n\u001b[0;32m----> 1\u001b[0;31m \u001b[0msm\u001b[0m\u001b[0;34m.\u001b[0m\u001b[0mget_latest_snapshot\u001b[0m\u001b[0;34m(\u001b[0m\u001b[0;34m)\u001b[0m\u001b[0;34m\u001b[0m\u001b[0;34m\u001b[0m\u001b[0m\n\u001b[0m",
      "\u001b[0;32m~/Dev/workspace_playground/simpleland/simpleland/data_manager.py\u001b[0m in \u001b[0;36mget_latest_snapshot\u001b[0;34m(self)\u001b[0m\n\u001b[1;32m     37\u001b[0m         \u001b[0mmax_idx\u001b[0m \u001b[0;34m=\u001b[0m \u001b[0;32mNone\u001b[0m\u001b[0;34m\u001b[0m\u001b[0;34m\u001b[0m\u001b[0m\n\u001b[1;32m     38\u001b[0m         \u001b[0;32mfor\u001b[0m \u001b[0midx\u001b[0m\u001b[0;34m,\u001b[0m\u001b[0msnapshot_id\u001b[0m \u001b[0;32min\u001b[0m \u001b[0menumerate\u001b[0m\u001b[0;34m(\u001b[0m\u001b[0mself\u001b[0m\u001b[0;34m.\u001b[0m\u001b[0msnapshot_ids\u001b[0m\u001b[0;34m)\u001b[0m\u001b[0;34m:\u001b[0m\u001b[0;34m\u001b[0m\u001b[0;34m\u001b[0m\u001b[0m\n\u001b[0;32m---> 39\u001b[0;31m             \u001b[0;32mif\u001b[0m \u001b[0mmax_snapshot_id\u001b[0m \u001b[0;32mis\u001b[0m \u001b[0;32mNone\u001b[0m \u001b[0;32mor\u001b[0m \u001b[0mmax_snapshot_id\u001b[0m \u001b[0;34m<\u001b[0m \u001b[0msnapshot_id\u001b[0m\u001b[0;34m:\u001b[0m\u001b[0;34m\u001b[0m\u001b[0;34m\u001b[0m\u001b[0m\n\u001b[0m\u001b[1;32m     40\u001b[0m                 \u001b[0mmax_snapshot_id\u001b[0m \u001b[0;34m=\u001b[0m \u001b[0msnapshot_id\u001b[0m\u001b[0;34m\u001b[0m\u001b[0;34m\u001b[0m\u001b[0m\n\u001b[1;32m     41\u001b[0m                 \u001b[0mmax_idx\u001b[0m \u001b[0;34m=\u001b[0m \u001b[0midx\u001b[0m\u001b[0;34m\u001b[0m\u001b[0;34m\u001b[0m\u001b[0m\n",
      "\u001b[0;31mTypeError\u001b[0m: '<' not supported between instances of 'int' and 'NoneType'"
     ]
    }
   ],
   "source": [
    "sm.get_latest_snapshot()"
   ]
  },
  {
   "cell_type": "code",
   "execution_count": 25,
   "metadata": {},
   "outputs": [],
   "source": [
    "max_snapshot_id = None\n",
    "max_idx = None\n",
    "for idx,snapshot_id in enumerate(sm.snapshot_ids):\n",
    "    if snapshot_id is None:\n",
    "        continue\n",
    "    if max_snapshot_id is None or max_snapshot_id < snapshot_id:\n",
    "        max_snapshot_id = snapshot_id\n",
    "        max_idx = idx"
   ]
  },
  {
   "cell_type": "code",
   "execution_count": 26,
   "metadata": {},
   "outputs": [
    {
     "data": {
      "text/plain": [
       "[None, None, None, {'test': 'test'}, None, None, None, None, None, None]"
      ]
     },
     "execution_count": 26,
     "metadata": {},
     "output_type": "execute_result"
    }
   ],
   "source": [
    "sm.snapshot_log"
   ]
  },
  {
   "cell_type": "code",
   "execution_count": 28,
   "metadata": {},
   "outputs": [
    {
     "data": {
      "text/plain": [
       "3"
      ]
     },
     "execution_count": 28,
     "metadata": {},
     "output_type": "execute_result"
    }
   ],
   "source": [
    "max_idx"
   ]
  },
  {
   "cell_type": "code",
   "execution_count": 27,
   "metadata": {},
   "outputs": [
    {
     "name": "stdout",
     "output_type": "stream",
     "text": [
      "123\n"
     ]
    }
   ],
   "source": [
    "print(max_snapshot_id)"
   ]
  },
  {
   "cell_type": "code",
   "execution_count": 53,
   "metadata": {},
   "outputs": [],
   "source": [
    "import logging\n",
    "from typing import Tuple\n",
    "\n",
    "import numpy as np\n",
    "\n",
    "from simpleland.common import (SLBody, SLObject, SLVector, SLShape,SLCamera)\n",
    "from simpleland.core import SLPhysicsEngine\n",
    "from simpleland.game import SLGame\n",
    "from simpleland.itemfactory import SLItemFactory, SLShapeFactory\n",
    "from simpleland.player import SLAgentPlayer, SLHumanPlayer, SLPlayer\n",
    "from simpleland.renderer import SLRenderer\n",
    "\n",
    "from pymunk import Vec2d\n",
    "import pymunk\n",
    "\n",
    "import os"
   ]
  },
  {
   "cell_type": "code",
   "execution_count": null,
   "metadata": {},
   "outputs": [],
   "source": []
  },
  {
   "cell_type": "code",
   "execution_count": 54,
   "metadata": {},
   "outputs": [],
   "source": [
    "# Create Player\n",
    "os.environ['SDL_AUDIODRIVER'] = 'dsp'\n",
    "# os.environ[\"SDL_VIDEODRIVER\"] = \"dummy\"\n",
    "\n",
    "# Create Player\n",
    "player_object = SLObject(SLBody(mass=8, moment=30))\n",
    "player_object.set_position(SLVector(10, 10))\n",
    "SLShapeFactory.attach_psquare(player_object, 1)\n",
    "\n",
    "player = SLHumanPlayer()\n",
    "player.attach_object(player_object)\n",
    "\n",
    "# Create Game\n",
    "game = SLGame()\n",
    "\n",
    "#     # Create Wall\n",
    "# wall = SLItemFactory.border(SLBody(body_type=pymunk.Body.STATIC),\n",
    "#                             SLVector(0, 0),\n",
    "#                             size=20)\n",
    "\n",
    "# # Create Wall"
   ]
  },
  {
   "cell_type": "code",
   "execution_count": 56,
   "metadata": {},
   "outputs": [
    {
     "name": "stdout",
     "output_type": "stream",
     "text": [
      "------**\n",
      "{'init': [('body', Body(8.0, 30.0, Body.DYNAMIC)), ('vertices', [Vec2d(-1.0, -1.0), Vec2d(1.0, -1.0), Vec2d(1.0, 1.0), Vec2d(-1.0, 1.0)]), ('transform', None), ('radius', 0.0)], 'general': [('sensor', 0), ('collision_type', 1), ('filter', ShapeFilter(group=0, categories=4294967295, mask=4294967295)), ('elasticity', 0.0), ('friction', 0.0), ('surface_velocity', Vec2d(0.0, 0.0)), ('sensor', 0), ('collision_type', 1), ('filter', ShapeFilter(group=0, categories=4294967295, mask=4294967295)), ('elasticity', 0.0), ('friction', 0.0), ('surface_velocity', Vec2d(0.0, 0.0)), ('sensor', 0), ('collision_type', 1), ('filter', ShapeFilter(group=0, categories=4294967295, mask=4294967295)), ('elasticity', 0.0), ('friction', 0.0), ('surface_velocity', Vec2d(0.0, 0.0))], 'custom': [('object_id', '5acbaee0-590f-11ea-8381-185680ffca21'), ('id', '5acbaee1-590f-11ea-8381-185680ffca21')], 'special': []}\n"
     ]
    }
   ],
   "source": [
    "player_object.load_snapshot(player_object.get_snapshot())"
   ]
  },
  {
   "cell_type": "code",
   "execution_count": 63,
   "metadata": {},
   "outputs": [
    {
     "name": "stdout",
     "output_type": "stream",
     "text": [
      "------**\n",
      "{'init': [('body', Body(8.0, 30.0, Body.DYNAMIC)), ('vertices', [Vec2d(-1.0, -1.0), Vec2d(1.0, -1.0), Vec2d(1.0, 1.0), Vec2d(-1.0, 1.0)]), ('transform', None), ('radius', 0.0)], 'general': [('sensor', 0), ('collision_type', 1), ('filter', ShapeFilter(group=0, categories=4294967295, mask=4294967295)), ('elasticity', 0.0), ('friction', 0.0), ('surface_velocity', Vec2d(0.0, 0.0)), ('sensor', 0), ('collision_type', 1), ('filter', ShapeFilter(group=0, categories=4294967295, mask=4294967295)), ('elasticity', 0.0), ('friction', 0.0), ('surface_velocity', Vec2d(0.0, 0.0)), ('sensor', 0), ('collision_type', 1), ('filter', ShapeFilter(group=0, categories=4294967295, mask=4294967295)), ('elasticity', 0.0), ('friction', 0.0), ('surface_velocity', Vec2d(0.0, 0.0))], 'custom': [('object_id', '5acbaee0-590f-11ea-8381-185680ffca21'), ('id', '5acbaee1-590f-11ea-8381-185680ffca21')], 'special': []}\n"
     ]
    },
    {
     "data": {
      "text/plain": [
       "{'init': {'vertices': [Vec2d(-1.0, -1.0),\n",
       "   Vec2d(1.0, -1.0),\n",
       "   Vec2d(1.0, 1.0),\n",
       "   Vec2d(-1.0, 1.0)],\n",
       "  'transform': None,\n",
       "  'radius': 0.0},\n",
       " 'general': {'sensor': 0,\n",
       "  'collision_type': 1,\n",
       "  'filter': ShapeFilter(group=0, categories=4294967295, mask=4294967295),\n",
       "  'elasticity': 0.0,\n",
       "  'friction': 0.0,\n",
       "  'surface_velocity': Vec2d(0.0, 0.0)},\n",
       " 'custom': {'object_id': '5acbaee0-590f-11ea-8381-185680ffca21',\n",
       "  'id': '5acbaee1-590f-11ea-8381-185680ffca21'},\n",
       " 'special': {}}"
      ]
     },
     "execution_count": 63,
     "metadata": {},
     "output_type": "execute_result"
    }
   ],
   "source": [
    "player_object.shape_group.get_snapshot()['5acbaee1-590f-11ea-8381-185680ffca21']['state']"
   ]
  },
  {
   "cell_type": "code",
   "execution_count": 64,
   "metadata": {},
   "outputs": [],
   "source": [
    "from simpleland.common import get_shape_from_dict"
   ]
  },
  {
   "cell_type": "code",
   "execution_count": 67,
   "metadata": {},
   "outputs": [
    {
     "name": "stdout",
     "output_type": "stream",
     "text": [
      "------**\n",
      "{'init': [('body', Body(8.0, 30.0, Body.DYNAMIC)), ('vertices', [Vec2d(-1.0, -1.0), Vec2d(1.0, -1.0), Vec2d(1.0, 1.0), Vec2d(-1.0, 1.0)]), ('transform', None), ('radius', 0.0)], 'general': [('sensor', 0), ('collision_type', 1), ('filter', ShapeFilter(group=0, categories=4294967295, mask=4294967295)), ('elasticity', 0.0), ('friction', 0.0), ('surface_velocity', Vec2d(0.0, 0.0)), ('sensor', 0), ('collision_type', 1), ('filter', ShapeFilter(group=0, categories=4294967295, mask=4294967295)), ('elasticity', 0.0), ('friction', 0.0), ('surface_velocity', Vec2d(0.0, 0.0)), ('sensor', 0), ('collision_type', 1), ('filter', ShapeFilter(group=0, categories=4294967295, mask=4294967295)), ('elasticity', 0.0), ('friction', 0.0), ('surface_velocity', Vec2d(0.0, 0.0))], 'custom': [('object_id', '5acbaee0-590f-11ea-8381-185680ffca21'), ('id', '5acbaee1-590f-11ea-8381-185680ffca21')], 'special': []}\n"
     ]
    }
   ],
   "source": [
    "dict_data = player_object.shape_group.get_snapshot()['5acbaee1-590f-11ea-8381-185680ffca21']"
   ]
  },
  {
   "cell_type": "code",
   "execution_count": 72,
   "metadata": {},
   "outputs": [
    {
     "data": {
      "text/plain": [
       "{'init': {'vertices': [Vec2d(-1.0, -1.0),\n",
       "   Vec2d(1.0, -1.0),\n",
       "   Vec2d(1.0, 1.0),\n",
       "   Vec2d(-1.0, 1.0)],\n",
       "  'transform': None,\n",
       "  'radius': 0.0},\n",
       " 'general': {'sensor': 0,\n",
       "  'collision_type': 1,\n",
       "  'filter': ShapeFilter(group=0, categories=4294967295, mask=4294967295),\n",
       "  'elasticity': 0.0,\n",
       "  'friction': 0.0,\n",
       "  'surface_velocity': Vec2d(0.0, 0.0)},\n",
       " 'custom': {'object_id': '5acbaee0-590f-11ea-8381-185680ffca21',\n",
       "  'id': '5acbaee1-590f-11ea-8381-185680ffca21'},\n",
       " 'special': {}}"
      ]
     },
     "execution_count": 72,
     "metadata": {},
     "output_type": "execute_result"
    }
   ],
   "source": [
    "dict_data['state']"
   ]
  },
  {
   "cell_type": "code",
   "execution_count": 83,
   "metadata": {},
   "outputs": [
    {
     "data": {
      "text/plain": [
       "{'_type': 'SLPolygon',\n",
       " 'data': {'object_id': '5acbaee0-590f-11ea-8381-185680ffca21',\n",
       "  'id': '5acbaee1-590f-11ea-8381-185680ffca21'},\n",
       " 'state': {'init': {'vertices': [Vec2d(-1.0, -1.0),\n",
       "    Vec2d(1.0, -1.0),\n",
       "    Vec2d(1.0, 1.0),\n",
       "    Vec2d(-1.0, 1.0)],\n",
       "   'transform': None,\n",
       "   'radius': 0.0},\n",
       "  'general': {'sensor': 0,\n",
       "   'collision_type': 1,\n",
       "   'filter': ShapeFilter(group=0, categories=4294967295, mask=4294967295),\n",
       "   'elasticity': 0.0,\n",
       "   'friction': 0.0,\n",
       "   'surface_velocity': Vec2d(0.0, 0.0)},\n",
       "  'custom': {'object_id': '5acbaee0-590f-11ea-8381-185680ffca21',\n",
       "   'id': '5acbaee1-590f-11ea-8381-185680ffca21'},\n",
       "  'special': {}},\n",
       " 'params': {'vertices': [Vec2d(-1.0, -1.0),\n",
       "   Vec2d(1.0, -1.0),\n",
       "   Vec2d(1.0, 1.0),\n",
       "   Vec2d(-1.0, 1.0)]}}"
      ]
     },
     "execution_count": 83,
     "metadata": {},
     "output_type": "execute_result"
    }
   ],
   "source": [
    "dict_data"
   ]
  },
  {
   "cell_type": "code",
   "execution_count": 84,
   "metadata": {},
   "outputs": [
    {
     "data": {
      "text/plain": [
       "{'init': [('mass', 8.0), ('moment', 30.0), ('body_type', 0)],\n",
       " 'general': [('force', Vec2d(0.0, 0.0)),\n",
       "  ('angle', 0.0),\n",
       "  ('position', Vec2d(10.0, 10.0)),\n",
       "  ('center_of_gravity', Vec2d(0.0, 0.0)),\n",
       "  ('velocity', Vec2d(0.0, 0.0)),\n",
       "  ('angular_velocity', 0.0),\n",
       "  ('torque', 0.0)],\n",
       " 'custom': [],\n",
       " 'special': [('is_sleeping', False),\n",
       "  ('_velocity_func', None),\n",
       "  ('_position_func', None)]}"
      ]
     },
     "execution_count": 84,
     "metadata": {},
     "output_type": "execute_result"
    }
   ],
   "source": [
    "player_object.get_body().__getstate__()"
   ]
  },
  {
   "cell_type": "code",
   "execution_count": 82,
   "metadata": {},
   "outputs": [
    {
     "name": "stdout",
     "output_type": "stream",
     "text": [
      "------**\n",
      "{'init': [('body', Body(8.0, 30.0, Body.DYNAMIC)), ('vertices', [Vec2d(-1.0, -1.0), Vec2d(1.0, -1.0), Vec2d(1.0, 1.0), Vec2d(-1.0, 1.0)]), ('transform', None), ('radius', 0.0)], 'general': [('sensor', 0), ('collision_type', 0), ('filter', ShapeFilter(group=0, categories=4294967295, mask=4294967295)), ('elasticity', 0.0), ('friction', 0.0), ('surface_velocity', Vec2d(0.0, 0.0)), ('sensor', 0), ('collision_type', 0), ('filter', ShapeFilter(group=0, categories=4294967295, mask=4294967295)), ('elasticity', 0.0), ('friction', 0.0), ('surface_velocity', Vec2d(0.0, 0.0)), ('sensor', 0), ('collision_type', 0), ('filter', ShapeFilter(group=0, categories=4294967295, mask=4294967295)), ('elasticity', 0.0), ('friction', 0.0), ('surface_velocity', Vec2d(0.0, 0.0))], 'custom': [('object_id', None), ('id', '0f5fa800-5912-11ea-8381-185680ffca21')], 'special': []}\n"
     ]
    },
    {
     "data": {
      "text/plain": [
       "{'_type': 'SLPolygon',\n",
       " 'data': {'object_id': None, 'id': '0f5fa800-5912-11ea-8381-185680ffca21'},\n",
       " 'state': {'init': {'vertices': [Vec2d(-1.0, -1.0),\n",
       "    Vec2d(1.0, -1.0),\n",
       "    Vec2d(1.0, 1.0),\n",
       "    Vec2d(-1.0, 1.0)],\n",
       "   'transform': None,\n",
       "   'radius': 0.0},\n",
       "  'general': {'sensor': 0,\n",
       "   'collision_type': 0,\n",
       "   'filter': ShapeFilter(group=0, categories=4294967295, mask=4294967295),\n",
       "   'elasticity': 0.0,\n",
       "   'friction': 0.0,\n",
       "   'surface_velocity': Vec2d(0.0, 0.0)},\n",
       "  'custom': {'object_id': None, 'id': '0f5fa800-5912-11ea-8381-185680ffca21'},\n",
       "  'special': {}},\n",
       " 'params': {'vertices': [Vec2d(-1.0, -1.0),\n",
       "   Vec2d(1.0, -1.0),\n",
       "   Vec2d(1.0, 1.0),\n",
       "   Vec2d(-1.0, 1.0)]}}"
      ]
     },
     "execution_count": 82,
     "metadata": {},
     "output_type": "execute_result"
    }
   ],
   "source": [
    "\n",
    "get_shape_from_dict(player_object.get_body(),dict_data).get_snapshot()"
   ]
  },
  {
   "cell_type": "code",
   "execution_count": 85,
   "metadata": {},
   "outputs": [
    {
     "name": "stdout",
     "output_type": "stream",
     "text": [
      "------**\n",
      "{'init': [('body', Body(8.0, 30.0, Body.DYNAMIC)), ('vertices', [Vec2d(-1.0, -1.0), Vec2d(1.0, -1.0), Vec2d(1.0, 1.0), Vec2d(-1.0, 1.0)]), ('transform', None), ('radius', 0.0)], 'general': [('sensor', 0), ('collision_type', 1), ('filter', ShapeFilter(group=0, categories=4294967295, mask=4294967295)), ('elasticity', 0.0), ('friction', 0.0), ('surface_velocity', Vec2d(0.0, 0.0)), ('sensor', 0), ('collision_type', 1), ('filter', ShapeFilter(group=0, categories=4294967295, mask=4294967295)), ('elasticity', 0.0), ('friction', 0.0), ('surface_velocity', Vec2d(0.0, 0.0)), ('sensor', 0), ('collision_type', 1), ('filter', ShapeFilter(group=0, categories=4294967295, mask=4294967295)), ('elasticity', 0.0), ('friction', 0.0), ('surface_velocity', Vec2d(0.0, 0.0))], 'custom': [('object_id', '5acbaee0-590f-11ea-8381-185680ffca21'), ('id', '5acbaee1-590f-11ea-8381-185680ffca21')], 'special': []}\n"
     ]
    },
    {
     "data": {
      "text/plain": [
       "<simpleland.common.SLObject at 0x7fe4ba5e5a10>"
      ]
     },
     "execution_count": 85,
     "metadata": {},
     "output_type": "execute_result"
    }
   ],
   "source": [
    "SLObject.build_from_dict(player_object.get_snapshot())"
   ]
  },
  {
   "cell_type": "code",
   "execution_count": 57,
   "metadata": {},
   "outputs": [
    {
     "ename": "AttributeError",
     "evalue": "'Body' object has no attribute 'get_snapshot'",
     "output_type": "error",
     "traceback": [
      "\u001b[0;31m---------------------------------------------------------------------------\u001b[0m",
      "\u001b[0;31mAttributeError\u001b[0m                            Traceback (most recent call last)",
      "\u001b[0;32m<ipython-input-57-3885943ab3e9>\u001b[0m in \u001b[0;36m<module>\u001b[0;34m\u001b[0m\n\u001b[0;32m----> 1\u001b[0;31m \u001b[0mplayer_object\u001b[0m\u001b[0;34m.\u001b[0m\u001b[0mbody\u001b[0m\u001b[0;34m.\u001b[0m\u001b[0mget_snapshot\u001b[0m\u001b[0;34m(\u001b[0m\u001b[0;34m)\u001b[0m\u001b[0;34m\u001b[0m\u001b[0;34m\u001b[0m\u001b[0m\n\u001b[0m",
      "\u001b[0;31mAttributeError\u001b[0m: 'Body' object has no attribute 'get_snapshot'"
     ]
    }
   ],
   "source": [
    "player_object.body.get_snapshot()"
   ]
  },
  {
   "cell_type": "code",
   "execution_count": 48,
   "metadata": {},
   "outputs": [
    {
     "data": {
      "text/plain": [
       "{'_type': 'SLBody',\n",
       " 'body': {'init': [('mass', 8.0), ('moment', 30.0), ('body_type', 0)],\n",
       "  'general': [('force', Vec2d(0.0, 0.0)),\n",
       "   ('angle', 0.0),\n",
       "   ('position', Vec2d(0.0, 0.0)),\n",
       "   ('center_of_gravity', Vec2d(0.0, 0.0)),\n",
       "   ('velocity', Vec2d(0.0, 0.0)),\n",
       "   ('angular_velocity', 0.0),\n",
       "   ('torque', 0.0)],\n",
       "  'custom': [('id', '99fa6ca4-58f7-11ea-8381-185680ffca21')],\n",
       "  'special': [('is_sleeping', False),\n",
       "   ('_velocity_func', None),\n",
       "   ('_position_func', None)]}}"
      ]
     },
     "execution_count": 48,
     "metadata": {},
     "output_type": "execute_result"
    }
   ],
   "source": [
    "player_object.body.get_snapshot()"
   ]
  },
  {
   "cell_type": "code",
   "execution_count": 50,
   "metadata": {},
   "outputs": [
    {
     "data": {
      "text/plain": [
       "{'_type': 'SLBody',\n",
       " 'body': {'init': [('mass', 8.0), ('moment', 30.0), ('body_type', 0)],\n",
       "  'general': [('force', Vec2d(0.0, 0.0)),\n",
       "   ('angle', 0.0),\n",
       "   ('position', Vec2d(0.0, 0.0)),\n",
       "   ('center_of_gravity', Vec2d(0.0, 0.0)),\n",
       "   ('velocity', Vec2d(0.0, 0.0)),\n",
       "   ('angular_velocity', 0.0),\n",
       "   ('torque', 0.0)],\n",
       "  'custom': [('id', '99fa6ca4-58f7-11ea-8381-185680ffca21')],\n",
       "  'special': [('is_sleeping', False),\n",
       "   ('_velocity_func', None),\n",
       "   ('_position_func', None)]}}"
      ]
     },
     "execution_count": 50,
     "metadata": {},
     "output_type": "execute_result"
    }
   ],
   "source": [
    "SLBody.build_from_dict(player_object.body.get_snapshot()).get_snapshot()"
   ]
  },
  {
   "cell_type": "code",
   "execution_count": 33,
   "metadata": {},
   "outputs": [
    {
     "name": "stdout",
     "output_type": "stream",
     "text": [
      "{'_type': 'SLBody', 'body': {'init': [('mass', 8.0), ('moment', 30.0), ('body_type', 0)], 'general': [('force', Vec2d(0.0, 0.0)), ('angle', 0.0), ('position', Vec2d(0.0, 0.0)), ('center_of_gravity', Vec2d(0.0, 0.0)), ('velocity', Vec2d(0.0, 0.0)), ('angular_velocity', 0.0), ('torque', 0.0)], 'custom': [('id', '7c65eb81-58f6-11ea-8381-185680ffca21')], 'special': [('is_sleeping', False), ('_velocity_func', None), ('_position_func', None)]}}\n"
     ]
    },
    {
     "ename": "TypeError",
     "evalue": "must be real number, not dict",
     "output_type": "error",
     "traceback": [
      "\u001b[0;31m---------------------------------------------------------------------------\u001b[0m",
      "\u001b[0;31mTypeError\u001b[0m                                 Traceback (most recent call last)",
      "\u001b[0;32m<ipython-input-33-2940b2d855e3>\u001b[0m in \u001b[0;36m<module>\u001b[0;34m\u001b[0m\n\u001b[0;32m----> 1\u001b[0;31m \u001b[0mSLObject\u001b[0m\u001b[0;34m.\u001b[0m\u001b[0mbuild_from_dict\u001b[0m\u001b[0;34m(\u001b[0m\u001b[0mplayer_object\u001b[0m\u001b[0;34m.\u001b[0m\u001b[0mget_snapshot\u001b[0m\u001b[0;34m(\u001b[0m\u001b[0;34m)\u001b[0m\u001b[0;34m)\u001b[0m\u001b[0;34m\u001b[0m\u001b[0;34m\u001b[0m\u001b[0m\n\u001b[0m",
      "\u001b[0;32m~/Dev/workspace_playground/simpleland/simpleland/common.py\u001b[0m in \u001b[0;36mbuild_from_dict\u001b[0;34m(cls, dict_data)\u001b[0m\n\u001b[1;32m    240\u001b[0m         \u001b[0mdata\u001b[0m \u001b[0;34m=\u001b[0m \u001b[0mdict_data\u001b[0m\u001b[0;34m[\u001b[0m\u001b[0;34m'data'\u001b[0m\u001b[0;34m]\u001b[0m\u001b[0;34m\u001b[0m\u001b[0;34m\u001b[0m\u001b[0m\n\u001b[1;32m    241\u001b[0m \u001b[0;34m\u001b[0m\u001b[0m\n\u001b[0;32m--> 242\u001b[0;31m         \u001b[0mbody\u001b[0m \u001b[0;34m=\u001b[0m \u001b[0mSLBody\u001b[0m\u001b[0;34m.\u001b[0m\u001b[0mbuild_from_dict\u001b[0m\u001b[0;34m(\u001b[0m\u001b[0mdata\u001b[0m\u001b[0;34m[\u001b[0m\u001b[0;34m'body'\u001b[0m\u001b[0;34m]\u001b[0m\u001b[0;34m)\u001b[0m\u001b[0;34m\u001b[0m\u001b[0;34m\u001b[0m\u001b[0m\n\u001b[0m\u001b[1;32m    243\u001b[0m         \u001b[0mshape_group\u001b[0m \u001b[0;34m=\u001b[0m \u001b[0mSLShapeGroup\u001b[0m\u001b[0;34m.\u001b[0m\u001b[0mbuild_from_dict\u001b[0m\u001b[0;34m(\u001b[0m\u001b[0mbody\u001b[0m\u001b[0;34m,\u001b[0m\u001b[0mdata\u001b[0m\u001b[0;34m[\u001b[0m\u001b[0;34m'shape_group'\u001b[0m\u001b[0;34m]\u001b[0m\u001b[0;34m)\u001b[0m\u001b[0;34m\u001b[0m\u001b[0;34m\u001b[0m\u001b[0m\n\u001b[1;32m    244\u001b[0m         \u001b[0mobj\u001b[0m \u001b[0;34m=\u001b[0m \u001b[0mSLObject\u001b[0m\u001b[0;34m(\u001b[0m\u001b[0;34m)\u001b[0m\u001b[0;34m\u001b[0m\u001b[0;34m\u001b[0m\u001b[0m\n",
      "\u001b[0;32m~/Dev/workspace_playground/simpleland/simpleland/common.py\u001b[0m in \u001b[0;36mbuild_from_dict\u001b[0;34m(cls, dict_data)\u001b[0m\n\u001b[1;32m     88\u001b[0m     \u001b[0;32mdef\u001b[0m \u001b[0mbuild_from_dict\u001b[0m\u001b[0;34m(\u001b[0m\u001b[0mcls\u001b[0m\u001b[0;34m,\u001b[0m\u001b[0mdict_data\u001b[0m\u001b[0;34m)\u001b[0m\u001b[0;34m:\u001b[0m\u001b[0;34m\u001b[0m\u001b[0;34m\u001b[0m\u001b[0m\n\u001b[1;32m     89\u001b[0m         \u001b[0mprint\u001b[0m\u001b[0;34m(\u001b[0m\u001b[0mdict_data\u001b[0m\u001b[0;34m)\u001b[0m\u001b[0;34m\u001b[0m\u001b[0;34m\u001b[0m\u001b[0m\n\u001b[0;32m---> 90\u001b[0;31m         \u001b[0;32mreturn\u001b[0m \u001b[0mSLBody\u001b[0m\u001b[0;34m(\u001b[0m\u001b[0mdict_data\u001b[0m\u001b[0;34m[\u001b[0m\u001b[0;34m'body'\u001b[0m\u001b[0;34m]\u001b[0m\u001b[0;34m)\u001b[0m\u001b[0;34m\u001b[0m\u001b[0;34m\u001b[0m\u001b[0m\n\u001b[0m\u001b[1;32m     91\u001b[0m \u001b[0;34m\u001b[0m\u001b[0m\n\u001b[1;32m     92\u001b[0m     \u001b[0;34m@\u001b[0m\u001b[0mclassmethod\u001b[0m\u001b[0;34m\u001b[0m\u001b[0;34m\u001b[0m\u001b[0m\n",
      "\u001b[0;32m~/Dev/workspace_playground/simpleland/simpleland/common.py\u001b[0m in \u001b[0;36m__init__\u001b[0;34m(self, empty, *args, **kwargs)\u001b[0m\n\u001b[1;32m     98\u001b[0m     \u001b[0;32mdef\u001b[0m \u001b[0m__init__\u001b[0m\u001b[0;34m(\u001b[0m\u001b[0mself\u001b[0m\u001b[0;34m,\u001b[0m\u001b[0;34m*\u001b[0m\u001b[0margs\u001b[0m\u001b[0;34m,\u001b[0m\u001b[0mempty\u001b[0m\u001b[0;34m=\u001b[0m\u001b[0;32mFalse\u001b[0m\u001b[0;34m,\u001b[0m\u001b[0;34m**\u001b[0m\u001b[0mkwargs\u001b[0m\u001b[0;34m)\u001b[0m\u001b[0;34m:\u001b[0m\u001b[0;34m\u001b[0m\u001b[0;34m\u001b[0m\u001b[0m\n\u001b[1;32m     99\u001b[0m         \u001b[0;32mif\u001b[0m \u001b[0;32mnot\u001b[0m \u001b[0mempty\u001b[0m\u001b[0;34m:\u001b[0m\u001b[0;34m\u001b[0m\u001b[0;34m\u001b[0m\u001b[0m\n\u001b[0;32m--> 100\u001b[0;31m             \u001b[0mbody\u001b[0m \u001b[0;34m=\u001b[0m \u001b[0mpymunk\u001b[0m\u001b[0;34m.\u001b[0m\u001b[0mBody\u001b[0m\u001b[0;34m(\u001b[0m\u001b[0;34m*\u001b[0m\u001b[0margs\u001b[0m\u001b[0;34m,\u001b[0m\u001b[0;34m**\u001b[0m\u001b[0mkwargs\u001b[0m\u001b[0;34m)\u001b[0m\u001b[0;34m\u001b[0m\u001b[0;34m\u001b[0m\u001b[0m\n\u001b[0m\u001b[1;32m    101\u001b[0m             \u001b[0mbody\u001b[0m\u001b[0;34m.\u001b[0m\u001b[0m__dict__\u001b[0m\u001b[0;34m[\u001b[0m\u001b[0;34m'id'\u001b[0m\u001b[0;34m]\u001b[0m \u001b[0;34m=\u001b[0m \u001b[0mgen_id\u001b[0m\u001b[0;34m(\u001b[0m\u001b[0;34m)\u001b[0m\u001b[0;34m\u001b[0m\u001b[0;34m\u001b[0m\u001b[0m\n\u001b[1;32m    102\u001b[0m             \u001b[0mself\u001b[0m\u001b[0;34m.\u001b[0m\u001b[0mbody\u001b[0m \u001b[0;34m=\u001b[0m \u001b[0mbody\u001b[0m\u001b[0;34m\u001b[0m\u001b[0;34m\u001b[0m\u001b[0m\n",
      "\u001b[0;32m~/anaconda3/envs/rlevo/lib/python3.7/site-packages/pymunk/body.py\u001b[0m in \u001b[0;36m__init__\u001b[0;34m(self, mass, moment, body_type)\u001b[0m\n\u001b[1;32m    153\u001b[0m         \"\"\"\n\u001b[1;32m    154\u001b[0m         \u001b[0;32mif\u001b[0m \u001b[0mbody_type\u001b[0m \u001b[0;34m==\u001b[0m \u001b[0mBody\u001b[0m\u001b[0;34m.\u001b[0m\u001b[0mDYNAMIC\u001b[0m\u001b[0;34m:\u001b[0m\u001b[0;34m\u001b[0m\u001b[0;34m\u001b[0m\u001b[0m\n\u001b[0;32m--> 155\u001b[0;31m             \u001b[0mself\u001b[0m\u001b[0;34m.\u001b[0m\u001b[0m_body\u001b[0m \u001b[0;34m=\u001b[0m \u001b[0mffi\u001b[0m\u001b[0;34m.\u001b[0m\u001b[0mgc\u001b[0m\u001b[0;34m(\u001b[0m\u001b[0mcp\u001b[0m\u001b[0;34m.\u001b[0m\u001b[0mcpBodyNew\u001b[0m\u001b[0;34m(\u001b[0m\u001b[0mmass\u001b[0m\u001b[0;34m,\u001b[0m \u001b[0mmoment\u001b[0m\u001b[0;34m)\u001b[0m\u001b[0;34m,\u001b[0m \u001b[0mcp\u001b[0m\u001b[0;34m.\u001b[0m\u001b[0mcpBodyFree\u001b[0m\u001b[0;34m)\u001b[0m\u001b[0;34m\u001b[0m\u001b[0;34m\u001b[0m\u001b[0m\n\u001b[0m\u001b[1;32m    156\u001b[0m         \u001b[0;32melif\u001b[0m \u001b[0mbody_type\u001b[0m \u001b[0;34m==\u001b[0m \u001b[0mBody\u001b[0m\u001b[0;34m.\u001b[0m\u001b[0mKINEMATIC\u001b[0m\u001b[0;34m:\u001b[0m\u001b[0;34m\u001b[0m\u001b[0;34m\u001b[0m\u001b[0m\n\u001b[1;32m    157\u001b[0m             \u001b[0mself\u001b[0m\u001b[0;34m.\u001b[0m\u001b[0m_body\u001b[0m \u001b[0;34m=\u001b[0m \u001b[0mffi\u001b[0m\u001b[0;34m.\u001b[0m\u001b[0mgc\u001b[0m\u001b[0;34m(\u001b[0m\u001b[0mcp\u001b[0m\u001b[0;34m.\u001b[0m\u001b[0mcpBodyNewKinematic\u001b[0m\u001b[0;34m(\u001b[0m\u001b[0;34m)\u001b[0m\u001b[0;34m,\u001b[0m \u001b[0mcp\u001b[0m\u001b[0;34m.\u001b[0m\u001b[0mcpBodyFree\u001b[0m\u001b[0;34m)\u001b[0m\u001b[0;34m\u001b[0m\u001b[0;34m\u001b[0m\u001b[0m\n",
      "\u001b[0;31mTypeError\u001b[0m: must be real number, not dict"
     ]
    }
   ],
   "source": [
    "SLObject.build_from_dict(player_object.get_snapshot())"
   ]
  },
  {
   "cell_type": "code",
   "execution_count": 11,
   "metadata": {},
   "outputs": [],
   "source": [
    "player_object.body.load_snapshot(player_object.body.get_snapshot())"
   ]
  },
  {
   "cell_type": "code",
   "execution_count": 31,
   "metadata": {},
   "outputs": [],
   "source": [
    "body = pymunk.Body()"
   ]
  },
  {
   "cell_type": "code",
   "execution_count": 34,
   "metadata": {},
   "outputs": [],
   "source": [
    "body.__dict__['testid'] = \"here\""
   ]
  },
  {
   "cell_type": "code",
   "execution_count": 35,
   "metadata": {},
   "outputs": [
    {
     "data": {
      "text/plain": [
       "{'init': [('mass', 0.0), ('moment', 0.0), ('body_type', 0)],\n",
       " 'general': [('force', Vec2d(0.0, 0.0)),\n",
       "  ('angle', 0.0),\n",
       "  ('position', Vec2d(0.0, 0.0)),\n",
       "  ('center_of_gravity', Vec2d(0.0, 0.0)),\n",
       "  ('velocity', Vec2d(0.0, 0.0)),\n",
       "  ('angular_velocity', 0.0),\n",
       "  ('torque', 0.0)],\n",
       " 'custom': [('testid', 'here')],\n",
       " 'special': [('is_sleeping', False),\n",
       "  ('_velocity_func', None),\n",
       "  ('_position_func', None)]}"
      ]
     },
     "execution_count": 35,
     "metadata": {},
     "output_type": "execute_result"
    }
   ],
   "source": [
    "body.__getstate__()"
   ]
  },
  {
   "cell_type": "code",
   "execution_count": 30,
   "metadata": {},
   "outputs": [
    {
     "name": "stdout",
     "output_type": "stream",
     "text": [
      "()\n",
      "{'mass': 8, 'moment': 30}\n"
     ]
    },
    {
     "data": {
      "text/plain": [
       "{'init': [('mass', 8.0),\n",
       "  ('moment', 30.0),\n",
       "  ('body_type', 0),\n",
       "  ('mass', 8.0),\n",
       "  ('moment', 30.0),\n",
       "  ('body_type', 0)],\n",
       " 'general': [('force', Vec2d(0.0, 0.0)),\n",
       "  ('angle', 0.0),\n",
       "  ('position', Vec2d(0.0, 0.0)),\n",
       "  ('center_of_gravity', Vec2d(0.0, 0.0)),\n",
       "  ('velocity', Vec2d(0.0, 0.0)),\n",
       "  ('angular_velocity', 0.0),\n",
       "  ('torque', 0.0),\n",
       "  ('force', Vec2d(0.0, 0.0)),\n",
       "  ('angle', 0.0),\n",
       "  ('position', Vec2d(0.0, 0.0)),\n",
       "  ('center_of_gravity', Vec2d(0.0, 0.0)),\n",
       "  ('velocity', Vec2d(0.0, 0.0)),\n",
       "  ('angular_velocity', 0.0),\n",
       "  ('torque', 0.0)],\n",
       " 'custom': [('id', '63c42480-58ee-11ea-8381-185680ffca21')],\n",
       " 'special': [('is_sleeping', False),\n",
       "  ('_velocity_func', None),\n",
       "  ('_position_func', None)]}"
      ]
     },
     "execution_count": 30,
     "metadata": {},
     "output_type": "execute_result"
    }
   ],
   "source": [
    "SLBody(mass=8, moment=30).__getstate__()"
   ]
  },
  {
   "cell_type": "code",
   "execution_count": 27,
   "metadata": {},
   "outputs": [
    {
     "data": {
      "text/plain": [
       "{'init': [('mass', 8.0),\n",
       "  ('moment', 30.0),\n",
       "  ('body_type', 0),\n",
       "  ('mass', 8.0),\n",
       "  ('moment', 30.0),\n",
       "  ('body_type', 0)],\n",
       " 'general': [('force', Vec2d(0.0, 0.0)),\n",
       "  ('angle', 0.0),\n",
       "  ('position', Vec2d(10.0, 10.0)),\n",
       "  ('center_of_gravity', Vec2d(0.0, 0.0)),\n",
       "  ('velocity', Vec2d(0.0, 0.0)),\n",
       "  ('angular_velocity', 0.0),\n",
       "  ('torque', 0.0),\n",
       "  ('force', Vec2d(0.0, 0.0)),\n",
       "  ('angle', 0.0),\n",
       "  ('position', Vec2d(10.0, 10.0)),\n",
       "  ('center_of_gravity', Vec2d(0.0, 0.0)),\n",
       "  ('velocity', Vec2d(0.0, 0.0)),\n",
       "  ('angular_velocity', 0.0),\n",
       "  ('torque', 0.0)],\n",
       " 'custom': [('id', '4b0f3b8c-58ee-11ea-8381-185680ffca21')],\n",
       " 'special': [('is_sleeping', False),\n",
       "  ('_velocity_func', None),\n",
       "  ('_position_func', None)]}"
      ]
     },
     "execution_count": 27,
     "metadata": {},
     "output_type": "execute_result"
    }
   ],
   "source": [
    "player_object.body.__getstate__()"
   ]
  },
  {
   "cell_type": "code",
   "execution_count": 15,
   "metadata": {},
   "outputs": [
    {
     "data": {
      "text/plain": [
       "{'init': [('mass', 8.0),\n",
       "  ('moment', 30.0),\n",
       "  ('body_type', 0),\n",
       "  ('mass', 8.0),\n",
       "  ('moment', 30.0),\n",
       "  ('body_type', 0)],\n",
       " 'general': [('force', Vec2d(0.0, 0.0)),\n",
       "  ('angle', 0.0),\n",
       "  ('position', Vec2d(10.0, 10.0)),\n",
       "  ('center_of_gravity', Vec2d(0.0, 0.0)),\n",
       "  ('velocity', Vec2d(0.0, 0.0)),\n",
       "  ('angular_velocity', 0.0),\n",
       "  ('torque', 0.0),\n",
       "  ('force', Vec2d(0.0, 0.0)),\n",
       "  ('angle', 0.0),\n",
       "  ('position', Vec2d(10.0, 10.0)),\n",
       "  ('center_of_gravity', Vec2d(0.0, 0.0)),\n",
       "  ('velocity', Vec2d(0.0, 0.0)),\n",
       "  ('angular_velocity', 0.0),\n",
       "  ('torque', 0.0)],\n",
       " 'custom': [('id', '06f7d4ea-58ee-11ea-8381-185680ffca21')],\n",
       " 'special': [('is_sleeping', False),\n",
       "  ('_velocity_func', None),\n",
       "  ('_position_func', None)]}"
      ]
     },
     "execution_count": 15,
     "metadata": {},
     "output_type": "execute_result"
    }
   ],
   "source": [
    "player_object.body.__getstate__()"
   ]
  },
  {
   "cell_type": "code",
   "execution_count": 5,
   "metadata": {},
   "outputs": [
    {
     "ename": "TypeError",
     "evalue": "__init__() takes from 1 to 4 positional arguments but 7 were given",
     "output_type": "error",
     "traceback": [
      "\u001b[0;31m---------------------------------------------------------------------------\u001b[0m",
      "\u001b[0;31mTypeError\u001b[0m                                 Traceback (most recent call last)",
      "\u001b[0;32m<ipython-input-5-475075d0d980>\u001b[0m in \u001b[0;36m<module>\u001b[0;34m\u001b[0m\n\u001b[0;32m----> 1\u001b[0;31m \u001b[0mplayer_object\u001b[0m\u001b[0;34m.\u001b[0m\u001b[0mbody\u001b[0m\u001b[0;34m.\u001b[0m\u001b[0m__setstate__\u001b[0m\u001b[0;34m(\u001b[0m\u001b[0mplayer_object\u001b[0m\u001b[0;34m.\u001b[0m\u001b[0mbody\u001b[0m\u001b[0;34m.\u001b[0m\u001b[0m__getstate__\u001b[0m\u001b[0;34m(\u001b[0m\u001b[0;34m)\u001b[0m\u001b[0;34m)\u001b[0m\u001b[0;34m\u001b[0m\u001b[0;34m\u001b[0m\u001b[0m\n\u001b[0m",
      "\u001b[0;32m~/anaconda3/envs/rlevo/lib/python3.7/site-packages/pymunk/body.py\u001b[0m in \u001b[0;36m__setstate__\u001b[0;34m(self, state)\u001b[0m\n\u001b[1;32m    567\u001b[0m         \u001b[0mmodules\u001b[0m \u001b[0;32mwith\u001b[0m \u001b[0mthis\u001b[0m \u001b[0;32mclass\u001b[0m\u001b[0;34m.\u001b[0m\u001b[0;34m\u001b[0m\u001b[0;34m\u001b[0m\u001b[0m\n\u001b[1;32m    568\u001b[0m         \"\"\"\n\u001b[0;32m--> 569\u001b[0;31m         \u001b[0msuper\u001b[0m\u001b[0;34m(\u001b[0m\u001b[0mBody\u001b[0m\u001b[0;34m,\u001b[0m \u001b[0mself\u001b[0m\u001b[0;34m)\u001b[0m\u001b[0;34m.\u001b[0m\u001b[0m__setstate__\u001b[0m\u001b[0;34m(\u001b[0m\u001b[0mstate\u001b[0m\u001b[0;34m)\u001b[0m\u001b[0;34m\u001b[0m\u001b[0;34m\u001b[0m\u001b[0m\n\u001b[0m\u001b[1;32m    570\u001b[0m \u001b[0;34m\u001b[0m\u001b[0m\n\u001b[1;32m    571\u001b[0m         \u001b[0;32mfor\u001b[0m \u001b[0mk\u001b[0m\u001b[0;34m,\u001b[0m\u001b[0mv\u001b[0m \u001b[0;32min\u001b[0m \u001b[0mstate\u001b[0m\u001b[0;34m[\u001b[0m\u001b[0;34m'special'\u001b[0m\u001b[0;34m]\u001b[0m\u001b[0;34m:\u001b[0m\u001b[0;34m\u001b[0m\u001b[0;34m\u001b[0m\u001b[0m\n",
      "\u001b[0;32m~/anaconda3/envs/rlevo/lib/python3.7/site-packages/pymunk/_pickle.py\u001b[0m in \u001b[0;36m__setstate__\u001b[0;34m(self, state)\u001b[0m\n\u001b[1;32m     47\u001b[0m \u001b[0;34m\u001b[0m\u001b[0m\n\u001b[1;32m     48\u001b[0m         \u001b[0minit_args\u001b[0m \u001b[0;34m=\u001b[0m \u001b[0;34m[\u001b[0m\u001b[0mv\u001b[0m \u001b[0;32mfor\u001b[0m \u001b[0mk\u001b[0m\u001b[0;34m,\u001b[0m\u001b[0mv\u001b[0m \u001b[0;32min\u001b[0m \u001b[0mstate\u001b[0m\u001b[0;34m[\u001b[0m\u001b[0;34m'init'\u001b[0m\u001b[0;34m]\u001b[0m\u001b[0;34m]\u001b[0m\u001b[0;34m\u001b[0m\u001b[0;34m\u001b[0m\u001b[0m\n\u001b[0;32m---> 49\u001b[0;31m         \u001b[0mself\u001b[0m\u001b[0;34m.\u001b[0m\u001b[0m__init__\u001b[0m\u001b[0;34m(\u001b[0m\u001b[0;34m*\u001b[0m\u001b[0minit_args\u001b[0m\u001b[0;34m)\u001b[0m\u001b[0;34m\u001b[0m\u001b[0;34m\u001b[0m\u001b[0m\n\u001b[0m\u001b[1;32m     50\u001b[0m \u001b[0;34m\u001b[0m\u001b[0m\n\u001b[1;32m     51\u001b[0m         \u001b[0;32mfor\u001b[0m \u001b[0mk\u001b[0m\u001b[0;34m,\u001b[0m\u001b[0mv\u001b[0m \u001b[0;32min\u001b[0m \u001b[0mstate\u001b[0m\u001b[0;34m[\u001b[0m\u001b[0;34m'general'\u001b[0m\u001b[0;34m]\u001b[0m\u001b[0;34m:\u001b[0m\u001b[0;34m\u001b[0m\u001b[0;34m\u001b[0m\u001b[0m\n",
      "\u001b[0;32m~/Dev/workspace_playground/simpleland/simpleland/common.py\u001b[0m in \u001b[0;36m__init__\u001b[0;34m(self, *args, **kwargs)\u001b[0m\n\u001b[1;32m     96\u001b[0m \u001b[0;34m\u001b[0m\u001b[0m\n\u001b[1;32m     97\u001b[0m     \u001b[0;32mdef\u001b[0m \u001b[0m__init__\u001b[0m\u001b[0;34m(\u001b[0m\u001b[0mself\u001b[0m\u001b[0;34m,\u001b[0m\u001b[0;34m*\u001b[0m\u001b[0margs\u001b[0m\u001b[0;34m,\u001b[0m\u001b[0;34m**\u001b[0m\u001b[0mkwargs\u001b[0m\u001b[0;34m)\u001b[0m\u001b[0;34m:\u001b[0m\u001b[0;34m\u001b[0m\u001b[0;34m\u001b[0m\u001b[0m\n\u001b[0;32m---> 98\u001b[0;31m         \u001b[0msuper\u001b[0m\u001b[0;34m(\u001b[0m\u001b[0mSLBody\u001b[0m\u001b[0;34m,\u001b[0m\u001b[0mself\u001b[0m\u001b[0;34m)\u001b[0m\u001b[0;34m.\u001b[0m\u001b[0m__init__\u001b[0m\u001b[0;34m(\u001b[0m\u001b[0;34m*\u001b[0m\u001b[0margs\u001b[0m\u001b[0;34m,\u001b[0m\u001b[0;34m**\u001b[0m\u001b[0mkwargs\u001b[0m\u001b[0;34m)\u001b[0m\u001b[0;34m\u001b[0m\u001b[0;34m\u001b[0m\u001b[0m\n\u001b[0m\u001b[1;32m     99\u001b[0m         \u001b[0mself\u001b[0m\u001b[0;34m.\u001b[0m\u001b[0mid\u001b[0m \u001b[0;34m=\u001b[0m \u001b[0mgen_id\u001b[0m\u001b[0;34m(\u001b[0m\u001b[0;34m)\u001b[0m\u001b[0;34m\u001b[0m\u001b[0;34m\u001b[0m\u001b[0m\n\u001b[1;32m    100\u001b[0m \u001b[0;34m\u001b[0m\u001b[0m\n",
      "\u001b[0;31mTypeError\u001b[0m: __init__() takes from 1 to 4 positional arguments but 7 were given"
     ]
    }
   ],
   "source": [
    "player_object.body.__setstate__(player_object.body.__getstate__())"
   ]
  },
  {
   "cell_type": "code",
   "execution_count": 10,
   "metadata": {},
   "outputs": [
    {
     "ename": "TypeError",
     "evalue": "__init__() takes from 1 to 4 positional arguments but 7 were given",
     "output_type": "error",
     "traceback": [
      "\u001b[0;31m---------------------------------------------------------------------------\u001b[0m",
      "\u001b[0;31mTypeError\u001b[0m                                 Traceback (most recent call last)",
      "\u001b[0;32m<ipython-input-10-8b0a6caaf6ee>\u001b[0m in \u001b[0;36m<module>\u001b[0;34m\u001b[0m\n\u001b[0;32m----> 1\u001b[0;31m \u001b[0mwall\u001b[0m\u001b[0;34m.\u001b[0m\u001b[0mbody\u001b[0m\u001b[0;34m.\u001b[0m\u001b[0mload_snapshot\u001b[0m\u001b[0;34m(\u001b[0m\u001b[0mwall\u001b[0m\u001b[0;34m.\u001b[0m\u001b[0mbody\u001b[0m\u001b[0;34m.\u001b[0m\u001b[0mget_snapshot\u001b[0m\u001b[0;34m(\u001b[0m\u001b[0;34m)\u001b[0m\u001b[0;34m)\u001b[0m\u001b[0;34m\u001b[0m\u001b[0;34m\u001b[0m\u001b[0m\n\u001b[0m",
      "\u001b[0;32m~/Dev/workspace_playground/simpleland/simpleland/common.py\u001b[0m in \u001b[0;36mload_snapshot\u001b[0;34m(self, data)\u001b[0m\n\u001b[1;32m    109\u001b[0m \u001b[0;34m\u001b[0m\u001b[0m\n\u001b[1;32m    110\u001b[0m     \u001b[0;32mdef\u001b[0m \u001b[0mload_snapshot\u001b[0m\u001b[0;34m(\u001b[0m\u001b[0mself\u001b[0m\u001b[0;34m,\u001b[0m \u001b[0mdata\u001b[0m\u001b[0;34m)\u001b[0m\u001b[0;34m:\u001b[0m\u001b[0;34m\u001b[0m\u001b[0;34m\u001b[0m\u001b[0m\n\u001b[0;32m--> 111\u001b[0;31m         \u001b[0mself\u001b[0m\u001b[0;34m.\u001b[0m\u001b[0m__setstate__\u001b[0m\u001b[0;34m(\u001b[0m\u001b[0mdata\u001b[0m\u001b[0;34m[\u001b[0m\u001b[0;34m'data'\u001b[0m\u001b[0;34m]\u001b[0m\u001b[0;34m)\u001b[0m\u001b[0;34m\u001b[0m\u001b[0;34m\u001b[0m\u001b[0m\n\u001b[0m\u001b[1;32m    112\u001b[0m \u001b[0;34m\u001b[0m\u001b[0m\n\u001b[1;32m    113\u001b[0m \u001b[0;32mclass\u001b[0m \u001b[0mSLShape\u001b[0m\u001b[0;34m(\u001b[0m\u001b[0mpymunk\u001b[0m\u001b[0;34m.\u001b[0m\u001b[0mShape\u001b[0m\u001b[0;34m,\u001b[0m \u001b[0mSLBase\u001b[0m\u001b[0;34m)\u001b[0m\u001b[0;34m:\u001b[0m\u001b[0;34m\u001b[0m\u001b[0;34m\u001b[0m\u001b[0m\n",
      "\u001b[0;32m~/anaconda3/envs/rlevo/lib/python3.7/site-packages/pymunk/body.py\u001b[0m in \u001b[0;36m__setstate__\u001b[0;34m(self, state)\u001b[0m\n\u001b[1;32m    567\u001b[0m         \u001b[0mmodules\u001b[0m \u001b[0;32mwith\u001b[0m \u001b[0mthis\u001b[0m \u001b[0;32mclass\u001b[0m\u001b[0;34m.\u001b[0m\u001b[0;34m\u001b[0m\u001b[0;34m\u001b[0m\u001b[0m\n\u001b[1;32m    568\u001b[0m         \"\"\"\n\u001b[0;32m--> 569\u001b[0;31m         \u001b[0msuper\u001b[0m\u001b[0;34m(\u001b[0m\u001b[0mBody\u001b[0m\u001b[0;34m,\u001b[0m \u001b[0mself\u001b[0m\u001b[0;34m)\u001b[0m\u001b[0;34m.\u001b[0m\u001b[0m__setstate__\u001b[0m\u001b[0;34m(\u001b[0m\u001b[0mstate\u001b[0m\u001b[0;34m)\u001b[0m\u001b[0;34m\u001b[0m\u001b[0;34m\u001b[0m\u001b[0m\n\u001b[0m\u001b[1;32m    570\u001b[0m \u001b[0;34m\u001b[0m\u001b[0m\n\u001b[1;32m    571\u001b[0m         \u001b[0;32mfor\u001b[0m \u001b[0mk\u001b[0m\u001b[0;34m,\u001b[0m\u001b[0mv\u001b[0m \u001b[0;32min\u001b[0m \u001b[0mstate\u001b[0m\u001b[0;34m[\u001b[0m\u001b[0;34m'special'\u001b[0m\u001b[0;34m]\u001b[0m\u001b[0;34m:\u001b[0m\u001b[0;34m\u001b[0m\u001b[0;34m\u001b[0m\u001b[0m\n",
      "\u001b[0;32m~/anaconda3/envs/rlevo/lib/python3.7/site-packages/pymunk/_pickle.py\u001b[0m in \u001b[0;36m__setstate__\u001b[0;34m(self, state)\u001b[0m\n\u001b[1;32m     47\u001b[0m \u001b[0;34m\u001b[0m\u001b[0m\n\u001b[1;32m     48\u001b[0m         \u001b[0minit_args\u001b[0m \u001b[0;34m=\u001b[0m \u001b[0;34m[\u001b[0m\u001b[0mv\u001b[0m \u001b[0;32mfor\u001b[0m \u001b[0mk\u001b[0m\u001b[0;34m,\u001b[0m\u001b[0mv\u001b[0m \u001b[0;32min\u001b[0m \u001b[0mstate\u001b[0m\u001b[0;34m[\u001b[0m\u001b[0;34m'init'\u001b[0m\u001b[0;34m]\u001b[0m\u001b[0;34m]\u001b[0m\u001b[0;34m\u001b[0m\u001b[0;34m\u001b[0m\u001b[0m\n\u001b[0;32m---> 49\u001b[0;31m         \u001b[0mself\u001b[0m\u001b[0;34m.\u001b[0m\u001b[0m__init__\u001b[0m\u001b[0;34m(\u001b[0m\u001b[0;34m*\u001b[0m\u001b[0minit_args\u001b[0m\u001b[0;34m)\u001b[0m\u001b[0;34m\u001b[0m\u001b[0;34m\u001b[0m\u001b[0m\n\u001b[0m\u001b[1;32m     50\u001b[0m \u001b[0;34m\u001b[0m\u001b[0m\n\u001b[1;32m     51\u001b[0m         \u001b[0;32mfor\u001b[0m \u001b[0mk\u001b[0m\u001b[0;34m,\u001b[0m\u001b[0mv\u001b[0m \u001b[0;32min\u001b[0m \u001b[0mstate\u001b[0m\u001b[0;34m[\u001b[0m\u001b[0;34m'general'\u001b[0m\u001b[0;34m]\u001b[0m\u001b[0;34m:\u001b[0m\u001b[0;34m\u001b[0m\u001b[0;34m\u001b[0m\u001b[0m\n",
      "\u001b[0;32m~/Dev/workspace_playground/simpleland/simpleland/common.py\u001b[0m in \u001b[0;36m__init__\u001b[0;34m(self, *args, **kwargs)\u001b[0m\n\u001b[1;32m     97\u001b[0m     \u001b[0;32mdef\u001b[0m \u001b[0m__init__\u001b[0m\u001b[0;34m(\u001b[0m\u001b[0mself\u001b[0m\u001b[0;34m,\u001b[0m\u001b[0;34m*\u001b[0m\u001b[0margs\u001b[0m\u001b[0;34m,\u001b[0m \u001b[0;34m**\u001b[0m\u001b[0mkwargs\u001b[0m\u001b[0;34m)\u001b[0m\u001b[0;34m:\u001b[0m\u001b[0;34m\u001b[0m\u001b[0;34m\u001b[0m\u001b[0m\n\u001b[1;32m     98\u001b[0m         \u001b[0mself\u001b[0m\u001b[0;34m.\u001b[0m\u001b[0mid\u001b[0m \u001b[0;34m=\u001b[0m \u001b[0mgen_id\u001b[0m\u001b[0;34m(\u001b[0m\u001b[0;34m)\u001b[0m\u001b[0;34m\u001b[0m\u001b[0;34m\u001b[0m\u001b[0m\n\u001b[0;32m---> 99\u001b[0;31m         \u001b[0msuper\u001b[0m\u001b[0;34m(\u001b[0m\u001b[0mSLBody\u001b[0m\u001b[0;34m,\u001b[0m\u001b[0mself\u001b[0m\u001b[0;34m)\u001b[0m\u001b[0;34m.\u001b[0m\u001b[0m__init__\u001b[0m\u001b[0;34m(\u001b[0m\u001b[0;34m*\u001b[0m\u001b[0margs\u001b[0m\u001b[0;34m,\u001b[0m\u001b[0;34m**\u001b[0m\u001b[0mkwargs\u001b[0m\u001b[0;34m)\u001b[0m\u001b[0;34m\u001b[0m\u001b[0;34m\u001b[0m\u001b[0m\n\u001b[0m\u001b[1;32m    100\u001b[0m \u001b[0;34m\u001b[0m\u001b[0m\n\u001b[1;32m    101\u001b[0m     \u001b[0;32mdef\u001b[0m \u001b[0mget_id\u001b[0m\u001b[0;34m(\u001b[0m\u001b[0mself\u001b[0m\u001b[0;34m)\u001b[0m\u001b[0;34m:\u001b[0m\u001b[0;34m\u001b[0m\u001b[0;34m\u001b[0m\u001b[0m\n",
      "\u001b[0;31mTypeError\u001b[0m: __init__() takes from 1 to 4 positional arguments but 7 were given"
     ]
    }
   ],
   "source": [
    "wall.body.load_snapshot(wall.body.get_snapshot())"
   ]
  },
  {
   "cell_type": "code",
   "execution_count": 9,
   "metadata": {},
   "outputs": [
    {
     "name": "stdout",
     "output_type": "stream",
     "text": [
      "{'_type': 'SLBody', 'body_type': 2, 'data': {'init': [('mass', inf), ('moment', inf), ('body_type', 2), ('mass', inf), ('moment', inf), ('body_type', 2)], 'general': [('force', Vec2d(0.0, 0.0)), ('angle', 0.0), ('position', Vec2d(0.0, 0.0)), ('center_of_gravity', Vec2d(0.0, 0.0)), ('velocity', Vec2d(0.0, 0.0)), ('angular_velocity', 0.0), ('torque', 0.0), ('force', Vec2d(0.0, 0.0)), ('angle', 0.0), ('position', Vec2d(0.0, 0.0)), ('center_of_gravity', Vec2d(0.0, 0.0)), ('velocity', Vec2d(0.0, 0.0)), ('angular_velocity', 0.0), ('torque', 0.0)], 'custom': [('id', '6f183dff-58ea-11ea-8381-185680ffca21')], 'special': [('is_sleeping', False), ('_velocity_func', None), ('_position_func', None)]}}\n",
      "here\n"
     ]
    },
    {
     "ename": "TypeError",
     "evalue": "__init__() takes from 1 to 4 positional arguments but 7 were given",
     "output_type": "error",
     "traceback": [
      "\u001b[0;31m---------------------------------------------------------------------------\u001b[0m",
      "\u001b[0;31mTypeError\u001b[0m                                 Traceback (most recent call last)",
      "\u001b[0;32m<ipython-input-9-527a9feeef4a>\u001b[0m in \u001b[0;36m<module>\u001b[0;34m\u001b[0m\n\u001b[0;32m----> 1\u001b[0;31m \u001b[0mSLBody\u001b[0m\u001b[0;34m.\u001b[0m\u001b[0mbuild_from_dict\u001b[0m\u001b[0;34m(\u001b[0m\u001b[0mwall\u001b[0m\u001b[0;34m.\u001b[0m\u001b[0mbody\u001b[0m\u001b[0;34m.\u001b[0m\u001b[0mget_snapshot\u001b[0m\u001b[0;34m(\u001b[0m\u001b[0;34m)\u001b[0m\u001b[0;34m)\u001b[0m\u001b[0;34m\u001b[0m\u001b[0;34m\u001b[0m\u001b[0m\n\u001b[0m",
      "\u001b[0;32m~/Dev/workspace_playground/simpleland/simpleland/common.py\u001b[0m in \u001b[0;36mbuild_from_dict\u001b[0;34m(cls, dict_data)\u001b[0m\n\u001b[1;32m     93\u001b[0m         \u001b[0;32melse\u001b[0m\u001b[0;34m:\u001b[0m\u001b[0;34m\u001b[0m\u001b[0;34m\u001b[0m\u001b[0m\n\u001b[1;32m     94\u001b[0m             \u001b[0mbody\u001b[0m \u001b[0;34m=\u001b[0m \u001b[0mSLBody\u001b[0m\u001b[0;34m(\u001b[0m\u001b[0mdict_data\u001b[0m\u001b[0;34m[\u001b[0m\u001b[0;34m'data'\u001b[0m\u001b[0;34m]\u001b[0m\u001b[0;34m[\u001b[0m\u001b[0;34m'init'\u001b[0m\u001b[0;34m]\u001b[0m\u001b[0;34m)\u001b[0m\u001b[0;34m\u001b[0m\u001b[0;34m\u001b[0m\u001b[0m\n\u001b[0;32m---> 95\u001b[0;31m         \u001b[0;32mreturn\u001b[0m \u001b[0mbody\u001b[0m\u001b[0;34m.\u001b[0m\u001b[0mload_snapshot\u001b[0m\u001b[0;34m(\u001b[0m\u001b[0mdict_data\u001b[0m\u001b[0;34m)\u001b[0m\u001b[0;34m\u001b[0m\u001b[0;34m\u001b[0m\u001b[0m\n\u001b[0m\u001b[1;32m     96\u001b[0m \u001b[0;34m\u001b[0m\u001b[0m\n\u001b[1;32m     97\u001b[0m     \u001b[0;32mdef\u001b[0m \u001b[0m__init__\u001b[0m\u001b[0;34m(\u001b[0m\u001b[0mself\u001b[0m\u001b[0;34m,\u001b[0m\u001b[0;34m*\u001b[0m\u001b[0margs\u001b[0m\u001b[0;34m,\u001b[0m \u001b[0;34m**\u001b[0m\u001b[0mkwargs\u001b[0m\u001b[0;34m)\u001b[0m\u001b[0;34m:\u001b[0m\u001b[0;34m\u001b[0m\u001b[0;34m\u001b[0m\u001b[0m\n",
      "\u001b[0;32m~/Dev/workspace_playground/simpleland/simpleland/common.py\u001b[0m in \u001b[0;36mload_snapshot\u001b[0;34m(self, data)\u001b[0m\n\u001b[1;32m    109\u001b[0m \u001b[0;34m\u001b[0m\u001b[0m\n\u001b[1;32m    110\u001b[0m     \u001b[0;32mdef\u001b[0m \u001b[0mload_snapshot\u001b[0m\u001b[0;34m(\u001b[0m\u001b[0mself\u001b[0m\u001b[0;34m,\u001b[0m \u001b[0mdata\u001b[0m\u001b[0;34m)\u001b[0m\u001b[0;34m:\u001b[0m\u001b[0;34m\u001b[0m\u001b[0;34m\u001b[0m\u001b[0m\n\u001b[0;32m--> 111\u001b[0;31m         \u001b[0mself\u001b[0m\u001b[0;34m.\u001b[0m\u001b[0m__setstate__\u001b[0m\u001b[0;34m(\u001b[0m\u001b[0mdata\u001b[0m\u001b[0;34m[\u001b[0m\u001b[0;34m'data'\u001b[0m\u001b[0;34m]\u001b[0m\u001b[0;34m)\u001b[0m\u001b[0;34m\u001b[0m\u001b[0;34m\u001b[0m\u001b[0m\n\u001b[0m\u001b[1;32m    112\u001b[0m \u001b[0;34m\u001b[0m\u001b[0m\n\u001b[1;32m    113\u001b[0m \u001b[0;32mclass\u001b[0m \u001b[0mSLShape\u001b[0m\u001b[0;34m(\u001b[0m\u001b[0mpymunk\u001b[0m\u001b[0;34m.\u001b[0m\u001b[0mShape\u001b[0m\u001b[0;34m,\u001b[0m \u001b[0mSLBase\u001b[0m\u001b[0;34m)\u001b[0m\u001b[0;34m:\u001b[0m\u001b[0;34m\u001b[0m\u001b[0;34m\u001b[0m\u001b[0m\n",
      "\u001b[0;32m~/anaconda3/envs/rlevo/lib/python3.7/site-packages/pymunk/body.py\u001b[0m in \u001b[0;36m__setstate__\u001b[0;34m(self, state)\u001b[0m\n\u001b[1;32m    567\u001b[0m         \u001b[0mmodules\u001b[0m \u001b[0;32mwith\u001b[0m \u001b[0mthis\u001b[0m \u001b[0;32mclass\u001b[0m\u001b[0;34m.\u001b[0m\u001b[0;34m\u001b[0m\u001b[0;34m\u001b[0m\u001b[0m\n\u001b[1;32m    568\u001b[0m         \"\"\"\n\u001b[0;32m--> 569\u001b[0;31m         \u001b[0msuper\u001b[0m\u001b[0;34m(\u001b[0m\u001b[0mBody\u001b[0m\u001b[0;34m,\u001b[0m \u001b[0mself\u001b[0m\u001b[0;34m)\u001b[0m\u001b[0;34m.\u001b[0m\u001b[0m__setstate__\u001b[0m\u001b[0;34m(\u001b[0m\u001b[0mstate\u001b[0m\u001b[0;34m)\u001b[0m\u001b[0;34m\u001b[0m\u001b[0;34m\u001b[0m\u001b[0m\n\u001b[0m\u001b[1;32m    570\u001b[0m \u001b[0;34m\u001b[0m\u001b[0m\n\u001b[1;32m    571\u001b[0m         \u001b[0;32mfor\u001b[0m \u001b[0mk\u001b[0m\u001b[0;34m,\u001b[0m\u001b[0mv\u001b[0m \u001b[0;32min\u001b[0m \u001b[0mstate\u001b[0m\u001b[0;34m[\u001b[0m\u001b[0;34m'special'\u001b[0m\u001b[0;34m]\u001b[0m\u001b[0;34m:\u001b[0m\u001b[0;34m\u001b[0m\u001b[0;34m\u001b[0m\u001b[0m\n",
      "\u001b[0;32m~/anaconda3/envs/rlevo/lib/python3.7/site-packages/pymunk/_pickle.py\u001b[0m in \u001b[0;36m__setstate__\u001b[0;34m(self, state)\u001b[0m\n\u001b[1;32m     47\u001b[0m \u001b[0;34m\u001b[0m\u001b[0m\n\u001b[1;32m     48\u001b[0m         \u001b[0minit_args\u001b[0m \u001b[0;34m=\u001b[0m \u001b[0;34m[\u001b[0m\u001b[0mv\u001b[0m \u001b[0;32mfor\u001b[0m \u001b[0mk\u001b[0m\u001b[0;34m,\u001b[0m\u001b[0mv\u001b[0m \u001b[0;32min\u001b[0m \u001b[0mstate\u001b[0m\u001b[0;34m[\u001b[0m\u001b[0;34m'init'\u001b[0m\u001b[0;34m]\u001b[0m\u001b[0;34m]\u001b[0m\u001b[0;34m\u001b[0m\u001b[0;34m\u001b[0m\u001b[0m\n\u001b[0;32m---> 49\u001b[0;31m         \u001b[0mself\u001b[0m\u001b[0;34m.\u001b[0m\u001b[0m__init__\u001b[0m\u001b[0;34m(\u001b[0m\u001b[0;34m*\u001b[0m\u001b[0minit_args\u001b[0m\u001b[0;34m)\u001b[0m\u001b[0;34m\u001b[0m\u001b[0;34m\u001b[0m\u001b[0m\n\u001b[0m\u001b[1;32m     50\u001b[0m \u001b[0;34m\u001b[0m\u001b[0m\n\u001b[1;32m     51\u001b[0m         \u001b[0;32mfor\u001b[0m \u001b[0mk\u001b[0m\u001b[0;34m,\u001b[0m\u001b[0mv\u001b[0m \u001b[0;32min\u001b[0m \u001b[0mstate\u001b[0m\u001b[0;34m[\u001b[0m\u001b[0;34m'general'\u001b[0m\u001b[0;34m]\u001b[0m\u001b[0;34m:\u001b[0m\u001b[0;34m\u001b[0m\u001b[0;34m\u001b[0m\u001b[0m\n",
      "\u001b[0;32m~/Dev/workspace_playground/simpleland/simpleland/common.py\u001b[0m in \u001b[0;36m__init__\u001b[0;34m(self, *args, **kwargs)\u001b[0m\n\u001b[1;32m     97\u001b[0m     \u001b[0;32mdef\u001b[0m \u001b[0m__init__\u001b[0m\u001b[0;34m(\u001b[0m\u001b[0mself\u001b[0m\u001b[0;34m,\u001b[0m\u001b[0;34m*\u001b[0m\u001b[0margs\u001b[0m\u001b[0;34m,\u001b[0m \u001b[0;34m**\u001b[0m\u001b[0mkwargs\u001b[0m\u001b[0;34m)\u001b[0m\u001b[0;34m:\u001b[0m\u001b[0;34m\u001b[0m\u001b[0;34m\u001b[0m\u001b[0m\n\u001b[1;32m     98\u001b[0m         \u001b[0mself\u001b[0m\u001b[0;34m.\u001b[0m\u001b[0mid\u001b[0m \u001b[0;34m=\u001b[0m \u001b[0mgen_id\u001b[0m\u001b[0;34m(\u001b[0m\u001b[0;34m)\u001b[0m\u001b[0;34m\u001b[0m\u001b[0;34m\u001b[0m\u001b[0m\n\u001b[0;32m---> 99\u001b[0;31m         \u001b[0msuper\u001b[0m\u001b[0;34m(\u001b[0m\u001b[0mSLBody\u001b[0m\u001b[0;34m,\u001b[0m\u001b[0mself\u001b[0m\u001b[0;34m)\u001b[0m\u001b[0;34m.\u001b[0m\u001b[0m__init__\u001b[0m\u001b[0;34m(\u001b[0m\u001b[0;34m*\u001b[0m\u001b[0margs\u001b[0m\u001b[0;34m,\u001b[0m\u001b[0;34m**\u001b[0m\u001b[0mkwargs\u001b[0m\u001b[0;34m)\u001b[0m\u001b[0;34m\u001b[0m\u001b[0;34m\u001b[0m\u001b[0m\n\u001b[0m\u001b[1;32m    100\u001b[0m \u001b[0;34m\u001b[0m\u001b[0m\n\u001b[1;32m    101\u001b[0m     \u001b[0;32mdef\u001b[0m \u001b[0mget_id\u001b[0m\u001b[0;34m(\u001b[0m\u001b[0mself\u001b[0m\u001b[0;34m)\u001b[0m\u001b[0;34m:\u001b[0m\u001b[0;34m\u001b[0m\u001b[0;34m\u001b[0m\u001b[0m\n",
      "\u001b[0;31mTypeError\u001b[0m: __init__() takes from 1 to 4 positional arguments but 7 were given"
     ]
    }
   ],
   "source": [
    "SLBody.build_from_dict(wall.body.get_snapshot())"
   ]
  },
  {
   "cell_type": "code",
   "execution_count": 10,
   "metadata": {},
   "outputs": [
    {
     "name": "stdout",
     "output_type": "stream",
     "text": [
      "class SLObject:\n",
      "    def __init__(self, body=SLBody(),\n",
      "                 config=None,\n",
      "                 collision_func=None,\n",
      "                 update_func=None,\n",
      "                 viewer=SLViewer()):\n",
      "        \"\"\"\n",
      "\n",
      "        \"\"\"\n",
      "        self.__id = gen_id()\n",
      "\n",
      "        self.__viewer = viewer\n",
      "        self.behavior_list: List[Behaviour] = []\n",
      "        self.__body: SLBody = body\n",
      "        self.__shapes: List[SLShape] = []\n",
      "        self.__energy = 100\n",
      "        self.__health = 100\n",
      "        self.__config = config\n",
      "        self.__collision_func = collision_func\n",
      "        self.__update_func = update_func\n",
      "\n",
      "    def set_collision_type(self, collision_type):\n",
      "        for shape in self.__shapes:\n",
      "            shape.collision_type = collision_type\n",
      "\n",
      "    def get_body(self) -> SLBody:\n",
      "        return self.__body\n",
      "\n",
      "    def get_id(self):\n",
      "        return self.__id\n",
      "\n",
      "    def set_position(self, position: SLVector):\n",
      "        self.get_body().position = position\n",
      "\n",
      "    def set_shapes(self, shapes):\n",
      "        self.__shapes = shapes\n",
      "\n",
      "    def get_shapes(self):\n",
      "        return self.__shapes\n",
      "\n",
      "    def get_viewer(self) -> SLViewer:\n",
      "        return self.__viewer\n",
      "\n",
      "    def attach_behavior(self, behaviour: Behaviour):\n",
      "        self.behavior_list.append(behaviour)\n",
      "    \n",
      "    def snapshot_data(self):\n",
      "        data = self.__dict__\n",
      "        return data\n",
      "\n"
     ]
    }
   ],
   "source": [
    "import inspect\n",
    "lines = inspect.getsource(SLObject)\n",
    "print(lines)"
   ]
  },
  {
   "cell_type": "code",
   "execution_count": null,
   "metadata": {},
   "outputs": [],
   "source": []
  }
 ],
 "metadata": {
  "kernelspec": {
   "display_name": "Python [conda env:rlevo]",
   "language": "python",
   "name": "conda-env-rlevo-py"
  },
  "language_info": {
   "codemirror_mode": {
    "name": "ipython",
    "version": 3
   },
   "file_extension": ".py",
   "mimetype": "text/x-python",
   "name": "python",
   "nbconvert_exporter": "python",
   "pygments_lexer": "ipython3",
   "version": "3.7.4"
  }
 },
 "nbformat": 4,
 "nbformat_minor": 2
}
