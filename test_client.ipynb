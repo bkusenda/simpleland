{
 "cells": [
  {
   "cell_type": "code",
   "execution_count": 1,
   "metadata": {},
   "outputs": [
    {
     "data": {
      "text/html": [
       "<style>.container { width:100% !important; }</style>"
      ],
      "text/plain": [
       "<IPython.core.display.HTML object>"
      ]
     },
     "metadata": {},
     "output_type": "display_data"
    }
   ],
   "source": [
    "import sys\n",
    "sys.path.append(\"../\")\n",
    "%load_ext autoreload\n",
    "%autoreload 2\n",
    "%matplotlib inline\n",
    "\n",
    "from IPython.core.display import display, HTML\n",
    "display(HTML(\"<style>.container { width:100% !important; }</style>\"))"
   ]
  },
  {
   "cell_type": "code",
   "execution_count": 2,
   "metadata": {},
   "outputs": [
    {
     "name": "stdout",
     "output_type": "stream",
     "text": [
      "pygame 1.9.6\n",
      "Hello from the pygame community. https://www.pygame.org/contribute.html\n"
     ]
    }
   ],
   "source": [
    "import pygame"
   ]
  },
  {
   "cell_type": "code",
   "execution_count": 6,
   "metadata": {},
   "outputs": [],
   "source": [
    "import math"
   ]
  },
  {
   "cell_type": "code",
   "execution_count": 3,
   "metadata": {},
   "outputs": [],
   "source": [
    "from pygame import Vector2"
   ]
  },
  {
   "cell_type": "code",
   "execution_count": 12,
   "metadata": {},
   "outputs": [],
   "source": [
    "v = Vector2(1,0)"
   ]
  },
  {
   "cell_type": "code",
   "execution_count": null,
   "metadata": {},
   "outputs": [],
   "source": [
    "v.rotate()"
   ]
  },
  {
   "cell_type": "code",
   "execution_count": 14,
   "metadata": {},
   "outputs": [
    {
     "data": {
      "text/plain": [
       "180.0"
      ]
     },
     "execution_count": 14,
     "metadata": {},
     "output_type": "execute_result"
    }
   ],
   "source": []
  },
  {
   "cell_type": "code",
   "execution_count": 15,
   "metadata": {},
   "outputs": [
    {
     "data": {
      "text/plain": [
       "<Vector2(-1, -0)>"
      ]
     },
     "execution_count": 15,
     "metadata": {},
     "output_type": "execute_result"
    }
   ],
   "source": []
  },
  {
   "cell_type": "code",
   "execution_count": 8,
   "metadata": {},
   "outputs": [
    {
     "data": {
      "text/plain": [
       "(1.0, -90.0)"
      ]
     },
     "execution_count": 8,
     "metadata": {},
     "output_type": "execute_result"
    }
   ],
   "source": [
    "v.as_polar()"
   ]
  },
  {
   "cell_type": "code",
   "execution_count": 9,
   "metadata": {},
   "outputs": [
    {
     "data": {
      "text/plain": [
       "3.141592653589793"
      ]
     },
     "execution_count": 9,
     "metadata": {},
     "output_type": "execute_result"
    }
   ],
   "source": [
    "math.pi"
   ]
  },
  {
   "cell_type": "code",
   "execution_count": 2,
   "metadata": {},
   "outputs": [
    {
     "name": "stdout",
     "output_type": "stream",
     "text": [
      "pygame 1.9.6\n",
      "Hello from the pygame community. https://www.pygame.org/contribute.html\n",
      "Loading chipmunk for Linux (64bit) [/home/brandyn/anaconda3/envs/simpleland/lib/python3.7/site-packages/pymunk/libchipmunk.so]\n"
     ]
    }
   ],
   "source": [
    "import simpleland"
   ]
  },
  {
   "cell_type": "code",
   "execution_count": 3,
   "metadata": {},
   "outputs": [],
   "source": [
    "from simpleland import runner"
   ]
  },
  {
   "cell_type": "code",
   "execution_count": 4,
   "metadata": {},
   "outputs": [],
   "source": [
    "from simpleland.runner import get_game_def, get_player_def\n",
    "import threading\n",
    "\n",
    "import argparse\n",
    "import json\n",
    "import logging\n",
    "import math\n",
    "import socketserver\n",
    "import struct\n",
    "import threading\n",
    "import lz4.frame\n",
    "from pyinstrument import Profiler\n",
    "from simpleland.client import GameClient\n",
    "\n",
    "from simpleland.config import GameDef, PlayerDefinition, ServerConfig\n",
    "from simpleland.content import Content\n",
    "from simpleland.common import StateDecoder, StateEncoder\n",
    "\n",
    "\n",
    "from simpleland.registry import load_game_content, load_game_def\n",
    "from simpleland.renderer import Renderer\n",
    "from simpleland.utils import gen_id\n",
    "import traceback\n",
    "from simpleland import gamectx\n",
    "from simpleland.server import GameUDPServer, UDPHandler "
   ]
  },
  {
   "cell_type": "code",
   "execution_count": 5,
   "metadata": {},
   "outputs": [],
   "source": [
    "rawargs = \"--game_id=survival_grid --game_tick_rate=60 --disable_sound --tile_size=128 --remote_client --client_id=2 --hostname=localhost --fps=60 --enable_client\".split(\" \")"
   ]
  },
  {
   "cell_type": "code",
   "execution_count": 6,
   "metadata": {},
   "outputs": [],
   "source": [
    "args = runner.get_arguments(rawargs)"
   ]
  },
  {
   "cell_type": "code",
   "execution_count": 7,
   "metadata": {},
   "outputs": [
    {
     "name": "stdout",
     "output_type": "stream",
     "text": [
      "grid\n",
      "USING STEP CLOCK\n",
      "Creating remote connection\n",
      "USING STEP CLOCK\n",
      "Starting connection to server\n"
     ]
    }
   ],
   "source": [
    "if not args.enable_server and not args.enable_client and not args.remote_client:\n",
    "        args.enable_client = True\n",
    "\n",
    "if args.enable_server and args.enable_client and args.remote_client:\n",
    "    print(\"Error: Server and Remote Client cannot be started from the same process. Please run seperately.\")\n",
    "    exit(1)\n",
    "\n",
    "game_def = get_game_def(\n",
    "    game_id=args.game_id,\n",
    "    enable_server=args.enable_server,\n",
    "    remote_client=args.remote_client,\n",
    "    port=args.port,\n",
    "    game_tick_rate=args.game_tick_rate,\n",
    "    sim_timestep=args.sim_timestep,\n",
    "    content_overrides = json.loads(args.content_overrides)\n",
    ")\n",
    "\n",
    "# Get resolution\n",
    "if args.enable_client and args.resolution == 'f':\n",
    "    import pygame\n",
    "    pygame.init()\n",
    "    infoObject = pygame.display.Info()\n",
    "    resolution = (infoObject.current_w, infoObject.current_h)\n",
    "else:\n",
    "    res_string = args.resolution.split(\"x\")\n",
    "    resolution = (int(res_string[0]), int(res_string[1]))\n",
    "\n",
    "player_def = get_player_def(\n",
    "    enable_client=args.enable_client,\n",
    "    client_id=args.client_id,\n",
    "    remote_client=args.remote_client,\n",
    "    hostname=args.hostname,\n",
    "    port=args.port,\n",
    "    disable_textures=args.disable_textures,\n",
    "    render_shapes=args.render_shapes,\n",
    "    resolution=resolution,\n",
    "    fps=args.fps,\n",
    "    player_type=args.player_type,\n",
    "    tile_size=args.tile_size,\n",
    "    debug_render_bodies = args.debug_render_bodies,\n",
    "    view_type = args.view_type,\n",
    "    sound_enabled= not args.disable_sound\n",
    ")\n",
    "\n",
    "content: Content = load_game_content(game_def)\n",
    "\n",
    "gamectx.initialize(\n",
    "    game_def,\n",
    "    content=content)\n",
    "\n",
    "renderer = Renderer(\n",
    "    config = player_def.renderer_config,\n",
    "    asset_bundle=content.get_asset_bundle())\n",
    "\n",
    "client = GameClient(\n",
    "    renderer=renderer,\n",
    "    config=player_def.client_config)\n",
    "\n",
    "gamectx.add_local_client(client)\n",
    "\n"
   ]
  },
  {
   "cell_type": "code",
   "execution_count": 8,
   "metadata": {},
   "outputs": [
    {
     "name": "stdout",
     "output_type": "stream",
     "text": [
      "response:{'server_tick': 1, 'message': 'UPDATE', 'client_id': '2', 'player_id': 209, 'snapshot_timestamp': 1}"
     ]
    }
   ],
   "source": [
    "done = True\n"
   ]
  },
  {
   "cell_type": "code",
   "execution_count": 9,
   "metadata": {},
   "outputs": [
    {
     "name": "stdout",
     "output_type": "stream",
     "text": [
      "\n"
     ]
    },
    {
     "ename": "AttributeError",
     "evalue": "'NoneType' object has no attribute 'get_position'",
     "output_type": "error",
     "traceback": [
      "\u001b[0;31m---------------------------------------------------------------------------\u001b[0m",
      "\u001b[0;31mAttributeError\u001b[0m                            Traceback (most recent call last)",
      "\u001b[0;32m<ipython-input-9-3861ee11ab4a>\u001b[0m in \u001b[0;36m<module>\u001b[0;34m\u001b[0m\n\u001b[1;32m      7\u001b[0m     \u001b[0;32mfor\u001b[0m \u001b[0mplayer\u001b[0m \u001b[0;32min\u001b[0m \u001b[0mgamectx\u001b[0m\u001b[0;34m.\u001b[0m\u001b[0mplayer_manager\u001b[0m\u001b[0;34m.\u001b[0m\u001b[0mplayers_map\u001b[0m\u001b[0;34m.\u001b[0m\u001b[0mvalues\u001b[0m\u001b[0;34m(\u001b[0m\u001b[0;34m)\u001b[0m\u001b[0;34m:\u001b[0m\u001b[0;34m\u001b[0m\u001b[0;34m\u001b[0m\u001b[0m\n\u001b[1;32m      8\u001b[0m         \u001b[0;31m# print(f\"Player: {player.get_id()} {player.get_object_id()}\")\u001b[0m\u001b[0;34m\u001b[0m\u001b[0;34m\u001b[0m\u001b[0;34m\u001b[0m\u001b[0m\n\u001b[0;32m----> 9\u001b[0;31m         \u001b[0mobservation\u001b[0m\u001b[0;34m,\u001b[0m \u001b[0mreward\u001b[0m\u001b[0;34m,\u001b[0m \u001b[0mdone\u001b[0m\u001b[0;34m,\u001b[0m \u001b[0minfo\u001b[0m \u001b[0;34m=\u001b[0m \u001b[0mgamectx\u001b[0m\u001b[0;34m.\u001b[0m\u001b[0mcontent\u001b[0m\u001b[0;34m.\u001b[0m\u001b[0mget_step_info\u001b[0m\u001b[0;34m(\u001b[0m\u001b[0mplayer\u001b[0m\u001b[0;34m)\u001b[0m\u001b[0;34m\u001b[0m\u001b[0;34m\u001b[0m\u001b[0m\n\u001b[0m\u001b[1;32m     10\u001b[0m     \u001b[0;32mif\u001b[0m \u001b[0mgamectx\u001b[0m\u001b[0;34m.\u001b[0m\u001b[0mconfig\u001b[0m\u001b[0;34m.\u001b[0m\u001b[0mwait_for_user_input\u001b[0m\u001b[0;34m:\u001b[0m\u001b[0;34m\u001b[0m\u001b[0;34m\u001b[0m\u001b[0m\n\u001b[1;32m     11\u001b[0m         \u001b[0;31m# print(f\"Player: {player.get_id()} {player.get_object_id()}\")\u001b[0m\u001b[0;34m\u001b[0m\u001b[0;34m\u001b[0m\u001b[0;34m\u001b[0m\u001b[0m\n",
      "\u001b[0;32m~/Dev/workspace_playground/simpleland/simpleland/contentbundles/survival_grid.py\u001b[0m in \u001b[0;36mget_step_info\u001b[0;34m(self, player)\u001b[0m\n\u001b[1;32m    608\u001b[0m             \u001b[0mobj_id\u001b[0m \u001b[0;34m=\u001b[0m \u001b[0mplayer\u001b[0m\u001b[0;34m.\u001b[0m\u001b[0mget_object_id\u001b[0m\u001b[0;34m(\u001b[0m\u001b[0;34m)\u001b[0m\u001b[0;34m\u001b[0m\u001b[0;34m\u001b[0m\u001b[0m\n\u001b[1;32m    609\u001b[0m             \u001b[0mobj\u001b[0m \u001b[0;34m=\u001b[0m \u001b[0mgamectx\u001b[0m\u001b[0;34m.\u001b[0m\u001b[0mobject_manager\u001b[0m\u001b[0;34m.\u001b[0m\u001b[0mget_by_id\u001b[0m\u001b[0;34m(\u001b[0m\u001b[0mobj_id\u001b[0m\u001b[0;34m)\u001b[0m\u001b[0;34m\u001b[0m\u001b[0;34m\u001b[0m\u001b[0m\n\u001b[0;32m--> 610\u001b[0;31m             \u001b[0mobservation\u001b[0m \u001b[0;34m=\u001b[0m \u001b[0mself\u001b[0m\u001b[0;34m.\u001b[0m\u001b[0mget_observation\u001b[0m\u001b[0;34m(\u001b[0m\u001b[0mobj\u001b[0m\u001b[0;34m)\u001b[0m\u001b[0;34m\u001b[0m\u001b[0;34m\u001b[0m\u001b[0m\n\u001b[0m\u001b[1;32m    611\u001b[0m             \u001b[0mdone\u001b[0m \u001b[0;34m=\u001b[0m \u001b[0mplayer\u001b[0m\u001b[0;34m.\u001b[0m\u001b[0mget_data_value\u001b[0m\u001b[0;34m(\u001b[0m\u001b[0;34m\"reset_required\"\u001b[0m\u001b[0;34m,\u001b[0m \u001b[0;32mFalse\u001b[0m\u001b[0;34m)\u001b[0m\u001b[0;34m\u001b[0m\u001b[0;34m\u001b[0m\u001b[0m\n\u001b[1;32m    612\u001b[0m             \u001b[0;32mif\u001b[0m \u001b[0mdone\u001b[0m\u001b[0;34m:\u001b[0m\u001b[0;34m\u001b[0m\u001b[0;34m\u001b[0m\u001b[0m\n",
      "\u001b[0;32m~/Dev/workspace_playground/simpleland/simpleland/contentbundles/survival_grid.py\u001b[0m in \u001b[0;36mget_observation\u001b[0;34m(self, obj)\u001b[0m\n\u001b[1;32m    576\u001b[0m \u001b[0;34m\u001b[0m\u001b[0m\n\u001b[1;32m    577\u001b[0m     \u001b[0;32mdef\u001b[0m \u001b[0mget_observation\u001b[0m\u001b[0;34m(\u001b[0m\u001b[0mself\u001b[0m\u001b[0;34m,\u001b[0m \u001b[0mobj\u001b[0m\u001b[0;34m:\u001b[0m \u001b[0mGObject\u001b[0m\u001b[0;34m)\u001b[0m\u001b[0;34m:\u001b[0m\u001b[0;34m\u001b[0m\u001b[0;34m\u001b[0m\u001b[0m\n\u001b[0;32m--> 578\u001b[0;31m         \u001b[0mobj_coord\u001b[0m \u001b[0;34m=\u001b[0m \u001b[0mgamectx\u001b[0m\u001b[0;34m.\u001b[0m\u001b[0mphysics_engine\u001b[0m\u001b[0;34m.\u001b[0m\u001b[0mvec_to_coord\u001b[0m\u001b[0;34m(\u001b[0m\u001b[0mobj\u001b[0m\u001b[0;34m.\u001b[0m\u001b[0mget_position\u001b[0m\u001b[0;34m(\u001b[0m\u001b[0;34m)\u001b[0m\u001b[0;34m)\u001b[0m\u001b[0;34m\u001b[0m\u001b[0;34m\u001b[0m\u001b[0m\n\u001b[0m\u001b[1;32m    579\u001b[0m         \u001b[0mxvis\u001b[0m \u001b[0;34m=\u001b[0m \u001b[0mvision_distance\u001b[0m\u001b[0;34m\u001b[0m\u001b[0;34m\u001b[0m\u001b[0m\n\u001b[1;32m    580\u001b[0m         \u001b[0myvis\u001b[0m \u001b[0;34m=\u001b[0m \u001b[0mvision_distance\u001b[0m\u001b[0;34m\u001b[0m\u001b[0;34m\u001b[0m\u001b[0m\n",
      "\u001b[0;31mAttributeError\u001b[0m: 'NoneType' object has no attribute 'get_position'"
     ]
    },
    {
     "name": "stdout",
     "output_type": "stream",
     "text": [
      "response:{'server_tick': 1, 'message': 'UPDATE', 'client_id': '2', 'player_id': 209, 'snapshot_timestamp': 1}\n",
      "response:{'server_tick': 1, 'message': 'UPDATE', 'client_id': '2', 'player_id': 209, 'snapshot_timestamp': 1}\n",
      "response:{'server_tick': 1, 'message': 'UPDATE', 'client_id': '2', 'player_id': 209, 'snapshot_timestamp': 1}\n",
      "response:{'server_tick': 1, 'message': 'UPDATE', 'client_id': '2', 'player_id': 209, 'snapshot_timestamp': 1}\n",
      "response:{'server_tick': 1, 'message': 'UPDATE', 'client_id': '2', 'player_id': 209, 'snapshot_timestamp': 1}\n",
      "response:{'server_tick': 1, 'message': 'UPDATE', 'client_id': '2', 'player_id': 209, 'snapshot_timestamp': 1}\n",
      "response:{'server_tick': 1, 'message': 'UPDATE', 'client_id': '2', 'player_id': 209, 'snapshot_timestamp': 1}\n",
      "response:{'server_tick': 1, 'message': 'UPDATE', 'client_id': '2', 'player_id': 209, 'snapshot_timestamp': 1}\n",
      "response:{'server_tick': 1, 'message': 'UPDATE', 'client_id': '2', 'player_id': 209, 'snapshot_timestamp': 1}\n",
      "response:{'server_tick': 1, 'message': 'UPDATE', 'client_id': '2', 'player_id': 209, 'snapshot_timestamp': 1}\n",
      "response:{'server_tick': 1, 'message': 'UPDATE', 'client_id': '2', 'player_id': 209, 'snapshot_timestamp': 1}\n",
      "response:{'server_tick': 1, 'message': 'UPDATE', 'client_id': '2', 'player_id': 209, 'snapshot_timestamp': 1}\n",
      "response:{'server_tick': 1, 'message': 'UPDATE', 'client_id': '2', 'player_id': 209, 'snapshot_timestamp': 1}\n",
      "response:{'server_tick': 1, 'message': 'UPDATE', 'client_id': '2', 'player_id': 209, 'snapshot_timestamp': 1}\n",
      "response:{'server_tick': 2, 'message': 'UPDATE', 'client_id': '2', 'player_id': 209, 'snapshot_timestamp': 2}\n",
      "response:{'server_tick': 3, 'message': 'UPDATE', 'client_id': '2', 'player_id': 209, 'snapshot_timestamp': 3}\n",
      "response:{'server_tick': 3, 'message': 'UPDATE', 'client_id': '2', 'player_id': 209, 'snapshot_timestamp': 3}\n",
      "response:{'server_tick': 3, 'message': 'UPDATE', 'client_id': '2', 'player_id': 209, 'snapshot_timestamp': 3}\n",
      "response:{'server_tick': 3, 'message': 'UPDATE', 'client_id': '2', 'player_id': 209, 'snapshot_timestamp': 3}\n",
      "response:{'server_tick': 3, 'message': 'UPDATE', 'client_id': '2', 'player_id': 209, 'snapshot_timestamp': 3}\n",
      "response:{'server_tick': 3, 'message': 'UPDATE', 'client_id': '2', 'player_id': 209, 'snapshot_timestamp': 3}\n",
      "response:{'server_tick': 3, 'message': 'UPDATE', 'client_id': '2', 'player_id': 209, 'snapshot_timestamp': 3}\n",
      "response:{'server_tick': 3, 'message': 'UPDATE', 'client_id': '2', 'player_id': 209, 'snapshot_timestamp': 3}\n",
      "response:{'server_tick': 3, 'message': 'UPDATE', 'client_id': '2', 'player_id': 209, 'snapshot_timestamp': 3}\n",
      "response:{'server_tick': 3, 'message': 'UPDATE', 'client_id': '2', 'player_id': 209, 'snapshot_timestamp': 3}\n",
      "response:{'server_tick': 3, 'message': 'UPDATE', 'client_id': '2', 'player_id': 209, 'snapshot_timestamp': 3}\n",
      "response:{'server_tick': 3, 'message': 'UPDATE', 'client_id': '2', 'player_id': 209, 'snapshot_timestamp': 3}\n",
      "response:{'server_tick': 3, 'message': 'UPDATE', 'client_id': '2', 'player_id': 209, 'snapshot_timestamp': 3}\n",
      "response:{'server_tick': 3, 'message': 'UPDATE', 'client_id': '2', 'player_id': 209, 'snapshot_timestamp': 3}\n",
      "response:{'server_tick': 3, 'message': 'UPDATE', 'client_id': '2', 'player_id': 209, 'snapshot_timestamp': 3}\n",
      "response:{'server_tick': 3, 'message': 'UPDATE', 'client_id': '2', 'player_id': 209, 'snapshot_timestamp': 3}\n",
      "response:{'server_tick': 3, 'message': 'UPDATE', 'client_id': '2', 'player_id': 209, 'snapshot_timestamp': 3}\n",
      "response:{'server_tick': 3, 'message': 'UPDATE', 'client_id': '2', 'player_id': 209, 'snapshot_timestamp': 3}\n",
      "response:{'server_tick': 3, 'message': 'UPDATE', 'client_id': '2', 'player_id': 209, 'snapshot_timestamp': 3}\n",
      "response:{'server_tick': 3, 'message': 'UPDATE', 'client_id': '2', 'player_id': 209, 'snapshot_timestamp': 3}\n",
      "response:{'server_tick': 3, 'message': 'UPDATE', 'client_id': '2', 'player_id': 209, 'snapshot_timestamp': 3}\n",
      "response:{'server_tick': 3, 'message': 'UPDATE', 'client_id': '2', 'player_id': 209, 'snapshot_timestamp': 3}\n",
      "response:{'server_tick': 3, 'message': 'UPDATE', 'client_id': '2', 'player_id': 209, 'snapshot_timestamp': 3}\n",
      "response:{'server_tick': 3, 'message': 'UPDATE', 'client_id': '2', 'player_id': 209, 'snapshot_timestamp': 3}\n",
      "response:{'server_tick': 3, 'message': 'UPDATE', 'client_id': '2', 'player_id': 209, 'snapshot_timestamp': 3}\n",
      "response:{'server_tick': 3, 'message': 'UPDATE', 'client_id': '2', 'player_id': 209, 'snapshot_timestamp': 3}\n",
      "response:{'server_tick': 3, 'message': 'UPDATE', 'client_id': '2', 'player_id': 209, 'snapshot_timestamp': 3}\n",
      "response:{'server_tick': 3, 'message': 'UPDATE', 'client_id': '2', 'player_id': 209, 'snapshot_timestamp': 3}\n",
      "response:{'server_tick': 3, 'message': 'UPDATE', 'client_id': '2', 'player_id': 209, 'snapshot_timestamp': 3}\n",
      "response:{'server_tick': 5, 'message': 'UPDATE', 'client_id': '2', 'player_id': 209, 'snapshot_timestamp': 5}\n",
      "response:{'server_tick': 9, 'message': 'UPDATE', 'client_id': '2', 'player_id': 209, 'snapshot_timestamp': 9}\n",
      "response:{'server_tick': 13, 'message': 'UPDATE', 'client_id': '2', 'player_id': 209, 'snapshot_timestamp': 13}\n",
      "response:{'server_tick': 16, 'message': 'UPDATE', 'client_id': '2', 'player_id': 209, 'snapshot_timestamp': 16}\n",
      "response:{'server_tick': 21, 'message': 'UPDATE', 'client_id': '2', 'player_id': 209, 'snapshot_timestamp': 21}\n",
      "response:{'server_tick': 26, 'message': 'UPDATE', 'client_id': '2', 'player_id': 209, 'snapshot_timestamp': 26}\n",
      "response:{'server_tick': 31, 'message': 'UPDATE', 'client_id': '2', 'player_id': 209, 'snapshot_timestamp': 31}\n",
      "response:{'server_tick': 32, 'message': 'UPDATE', 'client_id': '2', 'player_id': 209, 'snapshot_timestamp': 32}\n",
      "response:{'server_tick': 32, 'message': 'UPDATE', 'client_id': '2', 'player_id': 209, 'snapshot_timestamp': 32}\n",
      "response:{'server_tick': 32, 'message': 'UPDATE', 'client_id': '2', 'player_id': 209, 'snapshot_timestamp': 32}\n",
      "response:{'server_tick': 32, 'message': 'UPDATE', 'client_id': '2', 'player_id': 209, 'snapshot_timestamp': 32}\n",
      "response:{'server_tick': 32, 'message': 'UPDATE', 'client_id': '2', 'player_id': 209, 'snapshot_timestamp': 32}\n",
      "response:{'server_tick': 33, 'message': 'UPDATE', 'client_id': '2', 'player_id': 209, 'snapshot_timestamp': 33}\n",
      "response:{'server_tick': 37, 'message': 'UPDATE', 'client_id': '2', 'player_id': 209, 'snapshot_timestamp': 37}\n",
      "response:{'server_tick': 37, 'message': 'UPDATE', 'client_id': '2', 'player_id': 209, 'snapshot_timestamp': 37}\n",
      "response:{'server_tick': 37, 'message': 'UPDATE', 'client_id': '2', 'player_id': 209, 'snapshot_timestamp': 37}\n",
      "response:{'server_tick': 37, 'message': 'UPDATE', 'client_id': '2', 'player_id': 209, 'snapshot_timestamp': 37}\n",
      "response:{'server_tick': 37, 'message': 'UPDATE', 'client_id': '2', 'player_id': 209, 'snapshot_timestamp': 37}\n",
      "response:{'server_tick': 37, 'message': 'UPDATE', 'client_id': '2', 'player_id': 209, 'snapshot_timestamp': 37}\n",
      "response:{'server_tick': 37, 'message': 'UPDATE', 'client_id': '2', 'player_id': 209, 'snapshot_timestamp': 37}\n",
      "response:{'server_tick': 37, 'message': 'UPDATE', 'client_id': '2', 'player_id': 209, 'snapshot_timestamp': 37}\n",
      "response:{'server_tick': 37, 'message': 'UPDATE', 'client_id': '2', 'player_id': 209, 'snapshot_timestamp': 37}\n",
      "response:{'server_tick': 37, 'message': 'UPDATE', 'client_id': '2', 'player_id': 209, 'snapshot_timestamp': 37}\n",
      "response:{'server_tick': 37, 'message': 'UPDATE', 'client_id': '2', 'player_id': 209, 'snapshot_timestamp': 37}\n",
      "response:{'server_tick': 37, 'message': 'UPDATE', 'client_id': '2', 'player_id': 209, 'snapshot_timestamp': 37}\n",
      "response:{'server_tick': 37, 'message': 'UPDATE', 'client_id': '2', 'player_id': 209, 'snapshot_timestamp': 37}\n",
      "response:{'server_tick': 37, 'message': 'UPDATE', 'client_id': '2', 'player_id': 209, 'snapshot_timestamp': 37}\n"
     ]
    }
   ],
   "source": [
    "while gamectx.state == \"RUNNING\": \n",
    "    if done:\n",
    "        gamectx.content.reset()\n",
    "    gamectx.process_client_step()\n",
    "    gamectx.run_step()\n",
    "    gamectx.render_client_step()\n",
    "    for player in gamectx.player_manager.players_map.values():\n",
    "        # print(f\"Player: {player.get_id()} {player.get_object_id()}\")\n",
    "        observation, reward, done, info = gamectx.content.get_step_info(player)\n",
    "    if gamectx.config.wait_for_user_input:\n",
    "        # print(f\"Player: {player.get_id()} {player.get_object_id()}\")\n",
    "        # print(observation)\n",
    "        print(reward)\n",
    "        print(done)\n",
    "        print(info)\n",
    "        print(\"----------\")\n",
    "\n",
    "\n",
    "    gamectx.wait_for_input()"
   ]
  },
  {
   "cell_type": "code",
   "execution_count": null,
   "metadata": {},
   "outputs": [],
   "source": []
  },
  {
   "cell_type": "code",
   "execution_count": null,
   "metadata": {},
   "outputs": [],
   "source": []
  }
 ],
 "metadata": {
  "kernelspec": {
   "display_name": "simpleland",
   "language": "python",
   "name": "simpleland"
  },
  "language_info": {
   "codemirror_mode": {
    "name": "ipython",
    "version": 3
   },
   "file_extension": ".py",
   "mimetype": "text/x-python",
   "name": "python",
   "nbconvert_exporter": "python",
   "pygments_lexer": "ipython3",
   "version": "3.7.6"
  }
 },
 "nbformat": 4,
 "nbformat_minor": 4
}
