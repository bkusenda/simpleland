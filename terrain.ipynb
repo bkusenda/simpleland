{
 "cells": [
  {
   "cell_type": "markdown",
   "id": "ba42909e-bb0f-48b3-80a2-e1393f6ce4bb",
   "metadata": {},
   "source": [
    "Ideas on how to create large worlds\n",
    "- Generated areas as needed, then apply changes to the world\n",
    "\n",
    "\n",
    "Generation methods:\n",
    "- use hashing + seed to \n"
   ]
  },
  {
   "cell_type": "code",
   "execution_count": 274,
   "id": "1014213b-7d2e-4ecf-ba21-524d2ac9eca9",
   "metadata": {},
   "outputs": [],
   "source": [
    "import random\n",
    "%config Completer.use_jedi = False"
   ]
  },
  {
   "cell_type": "code",
   "execution_count": 275,
   "id": "80c5e9ac-9e94-4cb1-ae0d-cdc6f34a9f8d",
   "metadata": {},
   "outputs": [],
   "source": [
    "def render_image(data):\n",
    "    plt.figure(figsize=(10, 10))\n",
    "    plt.imshow(data, interpolation='nearest')\n",
    "    plt.show()"
   ]
  },
  {
   "cell_type": "code",
   "execution_count": 1,
   "id": "9adfa018-1eda-438d-9d33-f45d5c90b637",
   "metadata": {},
   "outputs": [
    {
     "name": "stdout",
     "output_type": "stream",
     "text": [
      "pygame 2.0.1 (SDL 2.0.14, Python 3.7.7)\n",
      "Hello from the pygame community. https://www.pygame.org/contribute.html\n"
     ]
    }
   ],
   "source": [
    "import pygame"
   ]
  },
  {
   "cell_type": "code",
   "execution_count": 6,
   "id": "da68c751-b2f4-420e-be58-131fc1f29792",
   "metadata": {},
   "outputs": [
    {
     "data": {
      "text/plain": [
       "2"
      ]
     },
     "execution_count": 6,
     "metadata": {},
     "output_type": "execute_result"
    }
   ],
   "source": [
    "32//16"
   ]
  },
  {
   "cell_type": "code",
   "execution_count": 31,
   "id": "51477bff-77dd-47cd-8c56-9261b0a56cef",
   "metadata": {},
   "outputs": [],
   "source": [
    "pygame.init()\n",
    "display_surf = pygame.display.set_mode((500,500))"
   ]
  },
  {
   "cell_type": "code",
   "execution_count": 70,
   "id": "8ed3036c-be1f-46b2-92a1-f4ca377778b1",
   "metadata": {},
   "outputs": [],
   "source": [
    "def to_pygame(p, surface):\n",
    "    \"\"\"Convenience method to convert pymunk coordinates to pygame surface\n",
    "    local coordinates.\n",
    "\n",
    "    Note that in case positive_y_is_up is False, this function wont actually do\n",
    "    anything except converting the point to integers.\n",
    "    \"\"\"\n",
    "\n",
    "    return int(p[0]), surface.get_height() - int(p[1])\n"
   ]
  },
  {
   "cell_type": "code",
   "execution_count": 78,
   "id": "66b85519-bc91-4644-86ae-9d9ff6beebe9",
   "metadata": {},
   "outputs": [],
   "source": [
    "display_surf.fill((20, 20, 80))\n",
    "tile_size = 24\n",
    "image_width = tile_size*4\n",
    "image_height = tile_size*5\n",
    "\n",
    "center_pos = (125,250)\n",
    "\n",
    "tile_image = pygame.Surface((tile_size,tile_size))\n",
    "pygame.draw.rect(tile_image, \n",
    "            (0,250,250), \n",
    "            pygame.Rect(0,0,tile_size,tile_size),)\n",
    "pygame.draw.rect(tile_image, \n",
    "            (30,30,50), \n",
    "            pygame.Rect(1,1,tile_size-2,tile_size-2))\n",
    "pygame.draw.rect(tile_image, \n",
    "            (255,30,50), \n",
    "            pygame.Rect(tile_size/2,tile_size/2,1,1))\n",
    "\n",
    "tile_image2 = pygame.Surface((tile_size,tile_size))\n",
    "pygame.draw.rect(tile_image2, \n",
    "            (0,0,250), \n",
    "            pygame.Rect(0,0,tile_size,tile_size),)\n",
    "pygame.draw.rect(tile_image2, \n",
    "            (255,255,50), \n",
    "            pygame.Rect(tile_size/2,tile_size/2,1,1))\n",
    "\n",
    "\n",
    "image_twidth = image_width//tile_size\n",
    "image_theight = image_height//tile_size\n",
    "tmp_surf = pygame.Surface((image_width,image_height))\n",
    "\n",
    "for x in range(0,image_twidth):\n",
    "    for y in range(0,image_theight):\n",
    "        tile_pos = (x * tile_size,y * tile_size)\n",
    "        if x == 1 and y == 3:\n",
    "            tmp_surf.blit(tile_image2,tile_pos)\n",
    "        else:\n",
    "            tmp_surf.blit(tile_image,tile_pos)\n",
    "        \n",
    "\n",
    "\n",
    "draw_pos = center_pos[0] - image_width/2, center_pos[1] - image_height/2\n",
    "display_surf.blit(tmp_surf,draw_pos)\n",
    "\n",
    "\n",
    "# Center Marker\n",
    "pygame.draw.rect(display_surf, \n",
    "            (255,255,255), \n",
    "            pygame.Rect(center_pos[0]-2,center_pos[1]-2,5,5))\n",
    "\n",
    "pygame.draw.rect(display_surf, \n",
    "            (0,0,0), \n",
    "            pygame.Rect(center_pos[0],center_pos[1],1,1))\n",
    "pygame.display.flip()"
   ]
  },
  {
   "cell_type": "code",
   "execution_count": 2,
   "id": "17ede122-dacd-4f4b-91af-e9c2eb1463aa",
   "metadata": {},
   "outputs": [],
   "source": [
    "import random"
   ]
  },
  {
   "cell_type": "code",
   "execution_count": 3,
   "id": "e5e396ce-8e58-46d3-b25b-c8a2f4e9c205",
   "metadata": {},
   "outputs": [],
   "source": [
    "import numpy as np"
   ]
  },
  {
   "cell_type": "code",
   "execution_count": 4,
   "id": "da1eace8-0151-4017-a35f-8b4bcc7da591",
   "metadata": {},
   "outputs": [],
   "source": [
    "def clip(v,mmin,mmax):\n",
    "    return min(mmax-1,max(mmin,v))"
   ]
  },
  {
   "cell_type": "code",
   "execution_count": 5,
   "id": "27f74992-9fd4-4e61-9a48-e51448797e83",
   "metadata": {},
   "outputs": [],
   "source": [
    "def in_range(v,mmin,mmax):\n",
    "    return v>mmin and v<(mmax-1)"
   ]
  },
  {
   "cell_type": "code",
   "execution_count": 106,
   "id": "1916efa3-2f0d-4bee-9ab9-5c5413b87eda",
   "metadata": {},
   "outputs": [],
   "source": [
    "import hashlib"
   ]
  },
  {
   "cell_type": "code",
   "execution_count": 114,
   "id": "be318d67-af28-401f-b720-3465b4393aeb",
   "metadata": {},
   "outputs": [],
   "source": []
  },
  {
   "cell_type": "code",
   "execution_count": 163,
   "id": "90559214-0b30-433b-80c1-4899b70f6e23",
   "metadata": {},
   "outputs": [
    {
     "name": "stdout",
     "output_type": "stream",
     "text": [
      "575 ms ± 13.4 ms per loop (mean ± std. dev. of 7 runs, 2 loops each)\n"
     ]
    }
   ],
   "source": [
    "%%timeit -n 2\n",
    "for i in range(1,100000):\n",
    "    random.seed(i)\n",
    "    random.randint(0,172837)"
   ]
  },
  {
   "cell_type": "code",
   "execution_count": 29,
   "id": "c81089ee-c651-464c-9c40-51a3d43a71e6",
   "metadata": {},
   "outputs": [],
   "source": [
    "type_tree={\n",
    "    'physical_object': None,\n",
    "    'collectable': None,\n",
    "    'plant': ['physical_object'],\n",
    "    'tree': ['plant'],\n",
    "    'bush':['plant'],\n",
    "    'bush':['plant'],\n",
    "}\n",
    "\n",
    "\n",
    "            \n",
    "        \n",
    "    "
   ]
  },
  {
   "cell_type": "code",
   "execution_count": 33,
   "id": "5ee0b0ad-53e2-4379-8082-d033720ec65d",
   "metadata": {},
   "outputs": [
    {
     "data": {
      "text/plain": [
       "{123}"
      ]
     },
     "execution_count": 33,
     "metadata": {},
     "output_type": "execute_result"
    }
   ],
   "source": [
    "{123,123}"
   ]
  },
  {
   "cell_type": "code",
   "execution_count": 30,
   "id": "eb3f8e03-386e-4f01-b3a3-b404e1496dfa",
   "metadata": {},
   "outputs": [
    {
     "data": {
      "text/plain": [
       "{'xxx'}"
      ]
     },
     "execution_count": 30,
     "metadata": {},
     "output_type": "execute_result"
    }
   ],
   "source": [
    "get_types('xxx')"
   ]
  },
  {
   "cell_type": "code",
   "execution_count": 16,
   "id": "800fcc8d-bb87-4ae1-91df-2e1dfec08fd4",
   "metadata": {},
   "outputs": [],
   "source": [
    "class TestClass:\n",
    "    \n",
    "    def __init__(self):\n",
    "        self.stuff = 50\n",
    "        self.stuff1 = 50\n",
    "        self.stuff2 = 50\n",
    "        self.stuff3 = 50\n",
    "        self.stuff4 = 50\n",
    "        self.stuff5 = 50\n",
    "        self.stuff6 = 50\n",
    "        "
   ]
  },
  {
   "cell_type": "code",
   "execution_count": null,
   "id": "eb754167-c1fe-4b86-a6ca-d0f878c48ab1",
   "metadata": {},
   "outputs": [],
   "source": [
    "x.update()"
   ]
  },
  {
   "cell_type": "code",
   "execution_count": 18,
   "id": "d4444b43-f58c-4cc6-8392-d85baa8b98b5",
   "metadata": {},
   "outputs": [
    {
     "name": "stdout",
     "output_type": "stream",
     "text": [
      "673 µs ± 111 µs per loop (mean ± std. dev. of 7 runs, 2 loops each)\n"
     ]
    }
   ],
   "source": [
    "%%timeit -n 2\n",
    "for i in range(1,1000):\n",
    "    TestClass()"
   ]
  },
  {
   "cell_type": "code",
   "execution_count": 21,
   "id": "3bede045-fd01-4bd9-aec4-f6a651aad5d7",
   "metadata": {},
   "outputs": [
    {
     "data": {
      "text/plain": [
       "(object,)"
      ]
     },
     "execution_count": 21,
     "metadata": {},
     "output_type": "execute_result"
    }
   ],
   "source": [
    "TestClass().__class__.__bases__"
   ]
  },
  {
   "cell_type": "code",
   "execution_count": 14,
   "id": "3e1768e7-b6ea-4f93-a6c5-35ac27d459ac",
   "metadata": {},
   "outputs": [
    {
     "name": "stdout",
     "output_type": "stream",
     "text": [
      "17.5 ms ± 3.32 ms per loop (mean ± std. dev. of 7 runs, 2 loops each)\n"
     ]
    }
   ],
   "source": [
    "%%timeit -n 2\n",
    "for i in range(1,1000000):\n",
    "    x =50"
   ]
  },
  {
   "cell_type": "code",
   "execution_count": 150,
   "id": "cc1be937-24e5-4c05-8001-6906428e0341",
   "metadata": {},
   "outputs": [
    {
     "data": {
      "text/plain": [
       "150582"
      ]
     },
     "execution_count": 150,
     "metadata": {},
     "output_type": "execute_result"
    }
   ],
   "source": [
    "v = 123173234343234\n",
    "h = hashlib.sha1()\n",
    "# v = f\"{v}\"\"\n",
    "h.update(str.encode(f\"{v}\"))\n",
    "int(h.hexdigest(),16) % 172837"
   ]
  },
  {
   "cell_type": "code",
   "execution_count": 164,
   "id": "4e473a91-5772-4c17-883e-58306a2240a9",
   "metadata": {},
   "outputs": [
    {
     "name": "stdout",
     "output_type": "stream",
     "text": [
      "99.1 ms ± 10.2 ms per loop (mean ± std. dev. of 7 runs, 2 loops each)\n"
     ]
    }
   ],
   "source": [
    "%%timeit -n 2\n",
    "for i in range(1,100000):\n",
    "    v = i\n",
    "    h = hashlib.sha1()\n",
    "    # v = f\"{v}\"\"\n",
    "    h.update(str.encode(f\"{v}\"))\n",
    "    int(h.hexdigest(),16) % 172837"
   ]
  },
  {
   "cell_type": "code",
   "execution_count": 136,
   "id": "ab2e6b3f-2038-4bd5-bb58-31ffce25d785",
   "metadata": {},
   "outputs": [],
   "source": [
    "for i in range(1,10000000):\n",
    "    v = i\n",
    "    h = hashlib.sha1()\n",
    "    h.update(v.to_bytes(4, 'big') )\n",
    "    int(h.hexdigest(),16) % 172837"
   ]
  },
  {
   "cell_type": "markdown",
   "id": "af138092-ffcb-4dcc-b764-354d3eadc83c",
   "metadata": {},
   "source": [
    "# Maze"
   ]
  },
  {
   "cell_type": "code",
   "execution_count": 6,
   "id": "ad9d7b8f-c94d-40c3-99ac-cca97e71102f",
   "metadata": {},
   "outputs": [],
   "source": [
    "def get_neighbors(x,y,include_corners=False):\n",
    "    dirs = []\n",
    "    dirs.append((x,y+1))\n",
    "    dirs.append((x,y-1))\n",
    "    dirs.append((x-1,y))\n",
    "    dirs.append((x+1,y))\n",
    "    if include_corners:\n",
    "        dirs.append((x-1,y-1))\n",
    "        dirs.append((x+1,y-1))\n",
    "        dirs.append((x-1,y+1))\n",
    "        dirs.append((x+1,y+1))\n",
    "    return dirs"
   ]
  },
  {
   "cell_type": "code",
   "execution_count": 7,
   "id": "80da05d1-f22f-42d7-90b2-b867e47d1bb0",
   "metadata": {},
   "outputs": [],
   "source": [
    "def is_valid_placement(x,y,points,last_point=None):\n",
    "    neighs = get_neighbors(x,y,False)\n",
    "    return all([points.get(d) is None for d in neighs if d != last_point])"
   ]
  },
  {
   "cell_type": "code",
   "execution_count": 8,
   "id": "c9b8977f-e85d-447a-a598-bb532fc6f3b8",
   "metadata": {},
   "outputs": [],
   "source": [
    "def get_valid_neighbors(x,y,points,last_point=None):\n",
    "    neighs = get_neighbors(x,y)\n",
    "    return [(xx,yy) for xx,yy in neighs if is_valid_placement(xx,yy, points, last_point=(x,y))]"
   ]
  },
  {
   "cell_type": "code",
   "execution_count": 9,
   "id": "913b42e7-a1a8-49ff-b392-af22bf0a217c",
   "metadata": {},
   "outputs": [],
   "source": [
    "class MazeDef:\n",
    "    \n",
    "    def __init__(self,id_,center,tries=50):\n",
    "        self.id = id_\n",
    "        self.center = center\n",
    "        self.points ={}\n",
    "        self.points[center] = 1\n",
    "        self.branch_points ={}\n",
    "        self.branch_points[center] = 1\n",
    "        self.connection_complete=False\n",
    "        self.tries=tries\n",
    "        self.i=0"
   ]
  },
  {
   "cell_type": "code",
   "execution_count": 10,
   "id": "fff8bd45-9e59-4031-8a62-e69a47f9032d",
   "metadata": {},
   "outputs": [],
   "source": [
    "def nodes_connected(connection_keys,total_items):\n",
    "    if total_items ==1:\n",
    "        return True\n",
    "    coll = set()\n",
    "    had_change = True\n",
    "    while had_change:\n",
    "        had_change = False\n",
    "        keys_to_test = set(connection_keys)\n",
    "        for m1,m2, in keys_to_test:\n",
    "            if len(coll) == 0 or (m1 in coll or m2 in coll):\n",
    "                connection_keys.remove((m1,m2))\n",
    "                coll.add(m1)\n",
    "                coll.add(m2)\n",
    "                had_change = True                \n",
    "    return len(coll) == total_items\n"
   ]
  },
  {
   "cell_type": "code",
   "execution_count": 11,
   "id": "279437de-83b4-4a2c-8813-39135e764586",
   "metadata": {},
   "outputs": [],
   "source": [
    "def generate_maze(maze_defs, distance_range=(54,100), xrange=(0,100),yrange=(0,100),extra_growth = 0):\n",
    "    point_group_list = []\n",
    "    branch_point_list = []\n",
    "\n",
    "        \n",
    "    #TODO: Check to make sure center points are in range.  They cannot be in corners since all neighbors will be out of range\n",
    "\n",
    "    done = False\n",
    "    num_complete =0\n",
    "    connections = {}\n",
    "    i = 0\n",
    "    while not done:\n",
    "        \n",
    "        tries_complete = True\n",
    "        for maze in maze_defs:\n",
    "            idx = np.random.randint(len(maze.branch_points))\n",
    "            new_x, new_y = list(maze.branch_points.keys())[(2 * idx) % (idx+1)]\n",
    "            branch_count = maze.branch_points[(new_x,new_y)]\n",
    "            if branch_count > 3:\n",
    "                continue\n",
    "            neighs = get_valid_neighbors(new_x,new_y,maze.points)\n",
    "            if len(neighs) == 0:\n",
    "                continue\n",
    "            neigh_idx = np.random.randint(len(neighs))\n",
    "            neigh_x,neigh_y = neighs[neigh_idx]\n",
    "            dir_x, dir_y = (neigh_x-new_x,neigh_y-new_y)\n",
    "            distance = np.random.randint(distance_range[0],distance_range[1])\n",
    "            tmp_points = []\n",
    "            tmp_points.append((neigh_x,neigh_y))\n",
    "            is_in_range = True\n",
    "            # build on current maze\n",
    "            # - check in range\n",
    "            # - check if valid placement\n",
    "            for step in range(0,distance):\n",
    "                tmp_x,tmp_y = neigh_x+dir_x, neigh_y + dir_y\n",
    "                is_in_range = in_range(tmp_x,xrange[0]-1,xrange[1]+1) and in_range(tmp_y,yrange[0]-1,yrange[1]+1)\n",
    "                if not is_in_range:\n",
    "                    break\n",
    "                if is_valid_placement(tmp_x,tmp_y, maze.points):\n",
    "                    tmp_points.append((tmp_x,tmp_y))   \n",
    "                else:\n",
    "                    break\n",
    "            if not is_in_range:\n",
    "                continue\n",
    "\n",
    "            if len(tmp_points) > 8:\n",
    "                successful = True\n",
    "                # Check if points collide with other mazes\n",
    "                made_first_connection = False\n",
    "                for point in tmp_points:\n",
    "                    for maze2 in maze_defs:\n",
    "                        if maze.id == maze2.id:\n",
    "                            continue\n",
    "                        connection_idx = (maze.id,maze2.id)\n",
    "                        has_connection =connections.get(connection_idx,False)\n",
    "                        if not has_connection  and point in maze2.points:\n",
    "                            maze.connection_complete = True\n",
    "                            connections[(maze.id,maze2.id)] = True\n",
    "                            connections[(maze2.id,maze.id)] = True\n",
    "                            made_first_connection = True\n",
    "                            break\n",
    "                        elif has_connection:\n",
    "                            if not is_valid_placement(point[0],point[1], maze2.points):\n",
    "                                successful = False\n",
    "                                break\n",
    "\n",
    "                    if made_first_connection or not successful:\n",
    "                        break\n",
    "\n",
    "                # If succesful run\n",
    "                if successful:\n",
    "                    maze.branch_points[(new_x,new_y)] = branch_count + 1\n",
    "                    for point in tmp_points:\n",
    "                        maze.points[point] = 1\n",
    "                    maze.branch_points[tmp_points[-1]] = 1 + maze.branch_points.get(tmp_points[-1],0)\n",
    "                    maze.i+=1\n",
    "                if maze.i < maze.tries:\n",
    "                    tries_complete = False\n",
    "                    \n",
    "#             if maze.connection_complete or len(maze_defs)==0:\n",
    "#                 maze.i+=1\n",
    "#                 if maze.i>= maze.tries:\n",
    "#                     done = True\n",
    "            if nodes_connected(list(connections.keys()),len(maze_defs)) and tries_complete:\n",
    "                i+=1\n",
    "                if extra_growth <= i:\n",
    "                    done = True\n",
    "         \n",
    "            \n",
    "    all_points = {}\n",
    "    all_branches = {}\n",
    "    for maze in maze_defs:\n",
    "        all_points.update(maze.points)\n",
    "        for p,v in maze.branch_points.items():\n",
    "            all_branches[p] = all_branches.get(p,0) + v\n",
    "        \n",
    "    return all_points, all_branches"
   ]
  },
  {
   "cell_type": "code",
   "execution_count": 12,
   "id": "0440a5d1-7648-4e29-88db-7d00079c5133",
   "metadata": {},
   "outputs": [
    {
     "data": {
      "image/png": "[encoded data removed]",
      "text/plain": [
       "<Figure size 720x720 with 1 Axes>"
      ]
     },
     "metadata": {
      "needs_background": "light"
     },
     "output_type": "display_data"
    }
   ],
   "source": [
    "import numpy as np\n",
    "import matplotlib.pyplot as plt\n",
    "import random\n",
    "seed  = 106\n",
    "np.random.seed(seed)\n",
    "random.seed(seed)\n",
    "terrain_seeds_total = 1000\n",
    "terrain_seeds =  np.random.random((terrain_seeds_total))\n",
    "count_t = 0\n",
    "count_f = 0\n",
    "\n",
    "x_max = 100\n",
    "x_min = 0\n",
    "y_max = 100\n",
    "y_min = 0\n",
    "size = 4\n",
    "space = {}\n",
    "\n",
    "maze_defs = []\n",
    "\n",
    "maze_defs.append(MazeDef(id_=0, center =(2,2),tries=100))\n",
    "maze_defs.append(MazeDef(id_=1, center =(35,35),tries=100))\n",
    "maze_defs.append(MazeDef(id_=2, center =(49,10),tries=100))\n",
    "maze_defs.append(MazeDef(id_=3, center =(1,49),tries=100))\n",
    "maze_defs.append(MazeDef(id_=4, center =(99,79),tries=100))\n",
    "\n",
    "\n",
    "points,branches = generate_maze(\n",
    "                maze_defs,\n",
    "                distance_range=(3,13),\n",
    "                xrange=(0,x_max),yrange=(0,y_max),\n",
    "                extra_growth=10000)\n",
    "\n",
    "for (xx,yy), v in points.items():\n",
    "    space[(xx,yy)]=0.6\n",
    "        \n",
    "\n",
    "space[(2,2)]=1\n",
    "space[(99,79)]=1\n",
    "        \n",
    "# for (xx,yy), v in branches.items():\n",
    "#     if v ==1:\n",
    "#         space[(xx,yy)]=1\n",
    "\n",
    "nspace = np.zeros((x_max,y_max))\n",
    "for k,v in space.items():\n",
    "    nspace[k[0],k[1]] = v\n",
    "plt.figure(figsize=(10, 10))\n",
    "plt.imshow(nspace, interpolation='nearest')\n",
    "plt.show()\n"
   ]
  },
  {
   "cell_type": "markdown",
   "id": "a8664721-e50d-48c7-8031-f586419ddf1b",
   "metadata": {},
   "source": [
    "# Terrain"
   ]
  },
  {
   "cell_type": "code",
   "execution_count": 13,
   "id": "ef5b9dbc-7244-46e4-b718-9da3eeed8928",
   "metadata": {},
   "outputs": [],
   "source": [
    "def generate_points(center_point, num_points=10,gap_range=(1,2), momentum = 0.7, spread = 0.8, val=0.05):\n",
    "    points =  {}\n",
    "    points[center_point] = val\n",
    "    new_x,new_y = center_point\n",
    "    direction = np.random.randint(8)\n",
    "    for i in range(0,num_points):\n",
    "        idx = np.random.randint(len(points))\n",
    "        jump = np.random.randint(gap_range[0],gap_range[1])\n",
    "        if random.random() > momentum:\n",
    "            direction = np.random.randint(8)\n",
    "        if random.random() > spread:\n",
    "            new_x,new_y = list(points.keys())[idx*1%(idx+1)]\n",
    "        if direction == 0:\n",
    "            new_x,new_y = new_x + 0, new_y + jump\n",
    "        elif direction == 1:\n",
    "            new_x,new_y = new_x + 0, new_y + -jump\n",
    "        elif direction == 2:\n",
    "            new_x,new_y = new_x + -jump, new_y + 0\n",
    "        elif direction == 3:\n",
    "            new_x,new_y = new_x - jump, new_y + 0\n",
    "        elif direction == 4:\n",
    "            new_x,new_y = new_x + jump, new_y - jump\n",
    "        elif direction == 5:\n",
    "            new_x,new_y = new_x - jump, new_y + jump\n",
    "        elif direction == 6:\n",
    "            new_x,new_y = new_x + jump, new_y + jump\n",
    "        elif direction == 7:\n",
    "            new_x,new_y = new_x - jump, new_y - jump\n",
    "        points[(new_x,new_y)] = min(points.get((new_x,new_y),0) + val,1)\n",
    "    return points"
   ]
  },
  {
   "cell_type": "code",
   "execution_count": null,
   "id": "e03e8a28-c631-4cc4-9adb-6fee5c28e5c0",
   "metadata": {},
   "outputs": [],
   "source": [
    "updates:2  center:Vec2d(144, -192)  view_width:284.44444444444446  background_center:Vec2d(144, -112) background_size:(853, 480)\n"
   ]
  },
  {
   "cell_type": "code",
   "execution_count": 169,
   "id": "cb20071a-d424-4b0e-9d3c-fa9ea985dc41",
   "metadata": {},
   "outputs": [],
   "source": [
    "def rand_int_from_coord(x,y,seed):\n",
    "    v =  (x + y * seed ) % 12783723\n",
    "    h = hashlib.sha1()\n",
    "    h.update(str.encode(f\"{v}\"))\n",
    "    return int(h.hexdigest(),16) % 172837"
   ]
  },
  {
   "cell_type": "code",
   "execution_count": 265,
   "id": "bfd1f4f2-2af2-4e1b-864b-13849755b563",
   "metadata": {},
   "outputs": [],
   "source": [
    "bx = 5\n",
    "bw = 200\n",
    "\n",
    "cx = -44\n",
    "cw = 100\n",
    "\n"
   ]
  },
  {
   "cell_type": "code",
   "execution_count": 268,
   "id": "63ea0f06-9d81-47b4-8874-7b9b4d7921db",
   "metadata": {},
   "outputs": [
    {
     "ename": "NameError",
     "evalue": "name 'by' is not defined",
     "output_type": "error",
     "traceback": [
      "\u001b[0;31m---------------------------------------------------------------------------\u001b[0m",
      "\u001b[0;31mNameError\u001b[0m                                 Traceback (most recent call last)",
      "\u001b[0;32m<ipython-input-268-dbd3d5231dde>\u001b[0m in \u001b[0;36m<module>\u001b[0;34m\u001b[0m\n\u001b[0;32m----> 1\u001b[0;31m \u001b[0my_need_update\u001b[0m \u001b[0;34m=\u001b[0m \u001b[0;34m(\u001b[0m\u001b[0;34m(\u001b[0m\u001b[0mby\u001b[0m \u001b[0;34m-\u001b[0m \u001b[0mbh\u001b[0m\u001b[0;34m/\u001b[0m\u001b[0;36m2\u001b[0m\u001b[0;34m)\u001b[0m \u001b[0;34m>=\u001b[0m \u001b[0;34m(\u001b[0m\u001b[0mcy\u001b[0m \u001b[0;34m-\u001b[0m \u001b[0mch\u001b[0m\u001b[0;34m/\u001b[0m\u001b[0;36m2\u001b[0m\u001b[0;34m)\u001b[0m\u001b[0;34m)\u001b[0m \u001b[0;32mor\u001b[0m \u001b[0;34m(\u001b[0m\u001b[0;34m(\u001b[0m\u001b[0mby\u001b[0m\u001b[0;34m+\u001b[0m\u001b[0mbh\u001b[0m\u001b[0;34m/\u001b[0m\u001b[0;36m2\u001b[0m\u001b[0;34m)\u001b[0m \u001b[0;34m<=\u001b[0m \u001b[0;34m(\u001b[0m\u001b[0mcy\u001b[0m \u001b[0;34m+\u001b[0m \u001b[0mch\u001b[0m\u001b[0;34m/\u001b[0m\u001b[0;36m2\u001b[0m\u001b[0;34m)\u001b[0m\u001b[0;34m)\u001b[0m\u001b[0;34m\u001b[0m\u001b[0;34m\u001b[0m\u001b[0m\n\u001b[0m\u001b[1;32m      2\u001b[0m \u001b[0my_need_update\u001b[0m\u001b[0;34m\u001b[0m\u001b[0;34m\u001b[0m\u001b[0m\n",
      "\u001b[0;31mNameError\u001b[0m: name 'by' is not defined"
     ]
    }
   ],
   "source": [
    "y_need_update = ((by - bh/2) >= (cy - ch/2)) or ((by+bh/2) <= (cy + ch/2))\n",
    "y_need_update"
   ]
  },
  {
   "cell_type": "code",
   "execution_count": 269,
   "id": "ecc59de6-ebf0-4704-84c0-2f1bcac91424",
   "metadata": {},
   "outputs": [
    {
     "data": {
      "text/plain": [
       "False"
      ]
     },
     "execution_count": 269,
     "metadata": {},
     "output_type": "execute_result"
    }
   ],
   "source": [
    "x_need_update = ((bx - bw/2) >= (cx - cw/2)) or ((bx+bw/2) <= (cx + cw/2))\n",
    "x_need_update"
   ]
  },
  {
   "cell_type": "code",
   "execution_count": 225,
   "id": "d4801d13-8666-470c-a23f-a753347fc8e2",
   "metadata": {},
   "outputs": [],
   "source": [
    "# px = ((cx + cw/2) - cx) - ((bx+bw/2) - bx)\n",
    "# px"
   ]
  },
  {
   "cell_type": "code",
   "execution_count": 238,
   "id": "7a27157e-b888-42c6-85f0-653e2bad1a1f",
   "metadata": {},
   "outputs": [
    {
     "data": {
      "text/plain": [
       "-5.0"
      ]
     },
     "execution_count": 238,
     "metadata": {},
     "output_type": "execute_result"
    }
   ],
   "source": [
    "nx = (cx - cw/2) - (bx - bw/2)\n",
    "nx"
   ]
  },
  {
   "cell_type": "code",
   "execution_count": 226,
   "id": "4f2162cf-d673-40cd-b270-77c0b8b869de",
   "metadata": {},
   "outputs": [
    {
     "data": {
      "text/plain": [
       "-50.0"
      ]
     },
     "execution_count": 226,
     "metadata": {},
     "output_type": "execute_result"
    }
   ],
   "source": [
    "nx = ((bx-bw/2) - bx) -  ((cx - cw/2) - cx)\n",
    "nx"
   ]
  },
  {
   "cell_type": "code",
   "execution_count": 168,
   "id": "c842b3fb-0573-494c-bb27-198a31da5a04",
   "metadata": {},
   "outputs": [
    {
     "data": {
      "text/plain": [
       "100575"
      ]
     },
     "execution_count": 168,
     "metadata": {},
     "output_type": "execute_result"
    }
   ],
   "source": [
    "rand_int_from_coord(1,2,1)"
   ]
  },
  {
   "cell_type": "code",
   "execution_count": 78,
   "id": "ecf93d89-f1bb-45fc-843b-548a3af3b83d",
   "metadata": {},
   "outputs": [],
   "source": [
    "def fill_space(space,\n",
    "               terrain_seeds,\n",
    "               seed_range=(1,0.998),\n",
    "               num_points=np.random.randint(1000,4000),\n",
    "               val = 0.3,\n",
    "               spread=0.1,\n",
    "               gap_range=(1,2),\n",
    "               momentum=0.4):\n",
    "\n",
    "    for x in range(0,x_max):\n",
    "        for y in range(0,y_max):\n",
    "            xx = x // size\n",
    "            yy = (y // size) + 17 # Larger prime?\n",
    "            idx = (xx*yy)%terrain_seeds_total\n",
    "            xseed = terrain_seeds[idx]\n",
    "            if xseed< seed_range[0] and  xseed>=seed_range[1]:\n",
    "                # water\n",
    "                \n",
    "                points = generate_points(\n",
    "                    center_point=(x,y),\n",
    "                    num_points=num_points,\n",
    "                    gap_range=gap_range,\n",
    "                    momentum=momentum,\n",
    "                    spread=spread,\n",
    "                    val=val)\n",
    "\n",
    "                for (xx,yy), v in points.items():\n",
    "                    if (xx,yy) not in space and in_range(xx,0,x_max) and in_range(yy,0,y_max):\n",
    "                        space[(xx,yy)]=val\n"
   ]
  },
  {
   "cell_type": "code",
   "execution_count": 97,
   "id": "74a34dbc-70c0-4e4a-8b31-1bbb9186a06d",
   "metadata": {},
   "outputs": [
    {
     "data": {
      "image/png": "[encoded data removed]",
      "text/plain": [
       "<Figure size 720x720 with 1 Axes>"
      ]
     },
     "metadata": {
      "needs_background": "light"
     },
     "output_type": "display_data"
    }
   ],
   "source": [
    "import numpy as np\n",
    "import matplotlib.pyplot as plt\n",
    "import random\n",
    "seed  = 10\n",
    "np.random.seed(seed)\n",
    "random.seed(seed)\n",
    "terrain_seeds_total = 1000\n",
    "terrain_seeds =  np.random.random((terrain_seeds_total))\n",
    "space = {}\n",
    "fill_space(space,terrain_seeds,\n",
    "           seed_range=(1,0.998),\n",
    "           num_points=np.random.randint(1000,4000),\n",
    "           val = 0.3,\n",
    "           spread=0.1,\n",
    "           gap_range=(1,2),\n",
    "           momentum=0.4)\n",
    "fill_space(space,terrain_seeds,\n",
    "           seed_range=(0.998,0.997),\n",
    "           num_points=np.random.randint(20,200),\n",
    "           val = 0.6,\n",
    "           spread=0.5,\n",
    "           gap_range=(3,6),\n",
    "           momentum=0.4)\n",
    "fill_space(space,terrain_seeds,\n",
    "           seed_range=(0.997,0.996),\n",
    "           num_points=np.random.randint(10,50),\n",
    "           val = 1,\n",
    "           spread=0.5,\n",
    "           gap_range=(2,4),\n",
    "           momentum=0.6)\n",
    "# fill_space(space,terrain_seeds,seed_range=(0.998,0.997),val = 0.6)\n",
    "nspace = np.zeros((x_max,y_max))\n",
    "for k,v in space.items():\n",
    "    nspace[k[0],k[1]] = v\n",
    "plt.figure(figsize=(10, 10))\n",
    "plt.imshow(nspace, interpolation='nearest')\n",
    "plt.show()"
   ]
  },
  {
   "cell_type": "code",
   "execution_count": null,
   "id": "2f7faa2b-f989-461c-a06d-fffcc88023f2",
   "metadata": {},
   "outputs": [],
   "source": []
  }
 ],
 "metadata": {
  "kernelspec": {
   "display_name": "pistarlab",
   "language": "python",
   "name": "pistarlab"
  },
  "language_info": {
   "codemirror_mode": {
    "name": "ipython",
    "version": 3
   },
   "file_extension": ".py",
   "mimetype": "text/x-python",
   "name": "python",
   "nbconvert_exporter": "python",
   "pygments_lexer": "ipython3",
   "version": "3.7.7"
  }
 },
 "nbformat": 4,
 "nbformat_minor": 5
}
